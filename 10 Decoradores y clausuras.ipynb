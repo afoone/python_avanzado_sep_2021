{
 "cells": [
  {
   "cell_type": "markdown",
   "id": "75e3f448",
   "metadata": {},
   "source": [
    "### Decoradores"
   ]
  },
  {
   "cell_type": "code",
   "execution_count": 10,
   "id": "41e78d2e",
   "metadata": {},
   "outputs": [],
   "source": [
    "## función de orden superior: recibe funciones como parametros, devuelve una función\n",
    "\n",
    "def funcion():\n",
    "    print (\"ejecutando la función\")\n",
    "    \n",
    "def decorador(f):\n",
    "    \n",
    "    print(\"voy a ejecutar la función\")\n",
    "    f()\n",
    "    print(\"he terminado de ejecutar la función\")\n",
    "    \n"
   ]
  },
  {
   "cell_type": "code",
   "execution_count": null,
   "id": "cc4c9c17",
   "metadata": {},
   "outputs": [],
   "source": []
  },
  {
   "cell_type": "code",
   "execution_count": 11,
   "id": "41125177",
   "metadata": {},
   "outputs": [
    {
     "name": "stdout",
     "output_type": "stream",
     "text": [
      "voy a ejecutar la función\n",
      "ejecutando la función\n",
      "he terminado de ejecutar la función\n"
     ]
    }
   ],
   "source": [
    "decorador(funcion)"
   ]
  },
  {
   "cell_type": "code",
   "execution_count": 17,
   "id": "fc58942c",
   "metadata": {},
   "outputs": [],
   "source": [
    "def mi_decorador(f):\n",
    "    def dec():\n",
    "        print(\"voy a ejecutar la función\")\n",
    "        f()\n",
    "        print(\"he terminado de ejecutar la función\")\n",
    "    return dec\n",
    "\n",
    "@mi_decorador\n",
    "def hola():\n",
    "    print (\"hola mundo\")"
   ]
  },
  {
   "cell_type": "code",
   "execution_count": 18,
   "id": "bbb31a9a",
   "metadata": {},
   "outputs": [
    {
     "name": "stdout",
     "output_type": "stream",
     "text": [
      "voy a ejecutar la función\n",
      "hola mundo\n",
      "he terminado de ejecutar la función\n"
     ]
    }
   ],
   "source": [
    "hola()"
   ]
  },
  {
   "cell_type": "code",
   "execution_count": 21,
   "id": "7edb2c6a",
   "metadata": {},
   "outputs": [
    {
     "name": "stdout",
     "output_type": "stream",
     "text": [
      "voy a ejecutar la función\n",
      "hola mundo\n",
      "he terminado de ejecutar la función\n"
     ]
    },
    {
     "data": {
      "text/plain": [
       "<function __main__.mi_decorador.<locals>.dec()>"
      ]
     },
     "execution_count": 21,
     "metadata": {},
     "output_type": "execute_result"
    }
   ],
   "source": [
    "mi_decorador(hola())"
   ]
  },
  {
   "cell_type": "code",
   "execution_count": 22,
   "id": "1ee1f22e",
   "metadata": {},
   "outputs": [],
   "source": [
    "def dos_veces(f):\n",
    "    def dec():\n",
    "        f()\n",
    "        f()\n",
    "    return dec"
   ]
  },
  {
   "cell_type": "code",
   "execution_count": 23,
   "id": "06b0670a",
   "metadata": {},
   "outputs": [],
   "source": [
    "@dos_veces\n",
    "def hola():\n",
    "    print (\"hola mundo\")"
   ]
  },
  {
   "cell_type": "code",
   "execution_count": 24,
   "id": "bf8daf43",
   "metadata": {},
   "outputs": [
    {
     "name": "stdout",
     "output_type": "stream",
     "text": [
      "hola mundo\n",
      "hola mundo\n"
     ]
    }
   ],
   "source": [
    "hola()"
   ]
  },
  {
   "cell_type": "code",
   "execution_count": 25,
   "id": "8d6ead24",
   "metadata": {},
   "outputs": [],
   "source": [
    "@mi_decorador\n",
    "@dos_veces\n",
    "def hola():\n",
    "    print (\"hola mundo\")"
   ]
  },
  {
   "cell_type": "code",
   "execution_count": 26,
   "id": "cba68749",
   "metadata": {},
   "outputs": [
    {
     "name": "stdout",
     "output_type": "stream",
     "text": [
      "voy a ejecutar la función\n",
      "hola mundo\n",
      "hola mundo\n",
      "he terminado de ejecutar la función\n"
     ]
    }
   ],
   "source": [
    "hola()"
   ]
  },
  {
   "cell_type": "code",
   "execution_count": 27,
   "id": "839dc58c",
   "metadata": {},
   "outputs": [],
   "source": [
    "@dos_veces\n",
    "@mi_decorador\n",
    "def hola():\n",
    "    print (\"hola mundo\")"
   ]
  },
  {
   "cell_type": "code",
   "execution_count": 28,
   "id": "7767544c",
   "metadata": {},
   "outputs": [
    {
     "name": "stdout",
     "output_type": "stream",
     "text": [
      "voy a ejecutar la función\n",
      "hola mundo\n",
      "he terminado de ejecutar la función\n",
      "voy a ejecutar la función\n",
      "hola mundo\n",
      "he terminado de ejecutar la función\n"
     ]
    }
   ],
   "source": [
    "hola()"
   ]
  },
  {
   "cell_type": "code",
   "execution_count": 29,
   "id": "7978575a",
   "metadata": {},
   "outputs": [],
   "source": [
    "@dos_veces\n",
    "def hola(nombre):\n",
    "    print(f'Hola {nombre}')"
   ]
  },
  {
   "cell_type": "code",
   "execution_count": 30,
   "id": "f2b05b6e",
   "metadata": {},
   "outputs": [
    {
     "ename": "TypeError",
     "evalue": "dec() takes 0 positional arguments but 1 was given",
     "output_type": "error",
     "traceback": [
      "\u001b[0;31m---------------------------------------------------------------------------\u001b[0m",
      "\u001b[0;31mTypeError\u001b[0m                                 Traceback (most recent call last)",
      "\u001b[0;32m<ipython-input-30-cf8a989455e3>\u001b[0m in \u001b[0;36m<module>\u001b[0;34m\u001b[0m\n\u001b[0;32m----> 1\u001b[0;31m \u001b[0mhola\u001b[0m\u001b[0;34m(\u001b[0m\u001b[0;34m\"pepito\"\u001b[0m\u001b[0;34m)\u001b[0m\u001b[0;34m\u001b[0m\u001b[0;34m\u001b[0m\u001b[0m\n\u001b[0m",
      "\u001b[0;31mTypeError\u001b[0m: dec() takes 0 positional arguments but 1 was given"
     ]
    }
   ],
   "source": [
    "hola(\"pepito\")"
   ]
  },
  {
   "cell_type": "code",
   "execution_count": 31,
   "id": "7d0e9888",
   "metadata": {},
   "outputs": [],
   "source": [
    "def dos_veces(f):\n",
    "    def dec(*args, **kwargs):\n",
    "        f(*args, **kwargs)\n",
    "        f(*args, **kwargs)\n",
    "    return dec"
   ]
  },
  {
   "cell_type": "code",
   "execution_count": 32,
   "id": "e2cc5260",
   "metadata": {},
   "outputs": [],
   "source": [
    "@dos_veces\n",
    "def hola(nombre):\n",
    "    print(f'Hola {nombre}')"
   ]
  },
  {
   "cell_type": "code",
   "execution_count": 33,
   "id": "be8e1832",
   "metadata": {},
   "outputs": [
    {
     "name": "stdout",
     "output_type": "stream",
     "text": [
      "Hola pepito\n",
      "Hola pepito\n"
     ]
    }
   ],
   "source": [
    "hola(\"pepito\")"
   ]
  },
  {
   "cell_type": "code",
   "execution_count": 34,
   "id": "d99345d4",
   "metadata": {},
   "outputs": [],
   "source": [
    "@dos_veces\n",
    "def hola(nombre):\n",
    "    return f'Hola {nombre}'"
   ]
  },
  {
   "cell_type": "code",
   "execution_count": 35,
   "id": "6ba3a5e7",
   "metadata": {},
   "outputs": [],
   "source": [
    "hola(\"pepito\")"
   ]
  },
  {
   "cell_type": "code",
   "execution_count": 47,
   "id": "f5f6abac",
   "metadata": {},
   "outputs": [],
   "source": [
    "def dos_veces(f):\n",
    "    def dec(*args, **kwargs):\n",
    "        \"\"\"\n",
    "        ayuda de dos veces        \n",
    "        \"\"\"\n",
    "        return [f(*args, **kwargs), f(*args, **kwargs)]\n",
    "    return dec"
   ]
  },
  {
   "cell_type": "code",
   "execution_count": null,
   "id": "0ff5f947",
   "metadata": {},
   "outputs": [],
   "source": []
  },
  {
   "cell_type": "code",
   "execution_count": 48,
   "id": "ba7c149b",
   "metadata": {},
   "outputs": [],
   "source": [
    "@dos_veces\n",
    "def hola(nombre):\n",
    "    \"\"\"\n",
    "    ayuda de hola\n",
    "    \"\"\"\n",
    "    return f'Hola {nombre}'"
   ]
  },
  {
   "cell_type": "code",
   "execution_count": 49,
   "id": "d043a5d8",
   "metadata": {},
   "outputs": [
    {
     "data": {
      "text/plain": [
       "['Hola pepito', 'Hola pepito']"
      ]
     },
     "execution_count": 49,
     "metadata": {},
     "output_type": "execute_result"
    }
   ],
   "source": [
    "hola(\"pepito\")"
   ]
  },
  {
   "cell_type": "code",
   "execution_count": 50,
   "id": "d1b7ebdc",
   "metadata": {},
   "outputs": [
    {
     "data": {
      "text/plain": [
       "'dec'"
      ]
     },
     "execution_count": 50,
     "metadata": {},
     "output_type": "execute_result"
    }
   ],
   "source": [
    "hola.__name__"
   ]
  },
  {
   "cell_type": "code",
   "execution_count": 51,
   "id": "287f6c5a",
   "metadata": {},
   "outputs": [
    {
     "name": "stdout",
     "output_type": "stream",
     "text": [
      "Help on function dec in module __main__:\n",
      "\n",
      "dec(*args, **kwargs)\n",
      "    ayuda de dos veces\n",
      "\n"
     ]
    }
   ],
   "source": [
    "help(hola)"
   ]
  },
  {
   "cell_type": "code",
   "execution_count": 52,
   "id": "ecfa192c",
   "metadata": {},
   "outputs": [],
   "source": [
    "from functools import wraps\n",
    "def dos_veces(f):\n",
    "    @wraps(f)\n",
    "    def dec(*args, **kwargs):\n",
    "        \"\"\"\n",
    "        ayuda de dos veces        \n",
    "        \"\"\"\n",
    "        return [f(*args, **kwargs), f(*args, **kwargs)]\n",
    "    return dec"
   ]
  },
  {
   "cell_type": "code",
   "execution_count": 53,
   "id": "1d403c80",
   "metadata": {},
   "outputs": [],
   "source": [
    "@dos_veces\n",
    "def hola(nombre):\n",
    "    \"\"\"\n",
    "    ayuda de hola\n",
    "    \"\"\"\n",
    "    return f'Hola {nombre}'"
   ]
  },
  {
   "cell_type": "code",
   "execution_count": 54,
   "id": "f0cf03f1",
   "metadata": {},
   "outputs": [
    {
     "data": {
      "text/plain": [
       "['Hola pepito', 'Hola pepito']"
      ]
     },
     "execution_count": 54,
     "metadata": {},
     "output_type": "execute_result"
    }
   ],
   "source": [
    "hola(\"pepito\")"
   ]
  },
  {
   "cell_type": "code",
   "execution_count": 55,
   "id": "282f5553",
   "metadata": {},
   "outputs": [
    {
     "data": {
      "text/plain": [
       "'hola'"
      ]
     },
     "execution_count": 55,
     "metadata": {},
     "output_type": "execute_result"
    }
   ],
   "source": [
    "hola.__name__"
   ]
  },
  {
   "cell_type": "code",
   "execution_count": 56,
   "id": "bd629914",
   "metadata": {},
   "outputs": [
    {
     "name": "stdout",
     "output_type": "stream",
     "text": [
      "Help on function hola in module __main__:\n",
      "\n",
      "hola(nombre)\n",
      "    ayuda de hola\n",
      "\n"
     ]
    }
   ],
   "source": [
    "help(hola)"
   ]
  },
  {
   "cell_type": "code",
   "execution_count": 57,
   "id": "81f62cba",
   "metadata": {},
   "outputs": [],
   "source": [
    "#d(f())"
   ]
  },
  {
   "cell_type": "markdown",
   "id": "f6dd0979",
   "metadata": {},
   "source": [
    " # Clausuras / Closures"
   ]
  },
  {
   "cell_type": "code",
   "execution_count": 58,
   "id": "d3cc748c",
   "metadata": {},
   "outputs": [],
   "source": [
    "def operacion():\n",
    "    def suma(a, b):\n",
    "        return a+b\n",
    "    return suma"
   ]
  },
  {
   "cell_type": "code",
   "execution_count": 59,
   "id": "a23a38c6",
   "metadata": {},
   "outputs": [
    {
     "data": {
      "text/plain": [
       "7"
      ]
     },
     "execution_count": 59,
     "metadata": {},
     "output_type": "execute_result"
    }
   ],
   "source": [
    "operacion()(3,4)"
   ]
  },
  {
   "cell_type": "code",
   "execution_count": 60,
   "id": "cc02ea65",
   "metadata": {},
   "outputs": [],
   "source": [
    "def principal():\n",
    "    a = \"a\"\n",
    "    b = \"b\"\n",
    "    \n",
    "    def anidada():\n",
    "        c = \"c\"\n",
    "        print(a)\n",
    "        print(b)\n",
    "        \n",
    "    anidada()\n",
    "    print(c)"
   ]
  },
  {
   "cell_type": "code",
   "execution_count": 61,
   "id": "a818b06e",
   "metadata": {},
   "outputs": [
    {
     "name": "stdout",
     "output_type": "stream",
     "text": [
      "a\n",
      "b\n"
     ]
    },
    {
     "ename": "NameError",
     "evalue": "name 'c' is not defined",
     "output_type": "error",
     "traceback": [
      "\u001b[0;31m---------------------------------------------------------------------------\u001b[0m",
      "\u001b[0;31mNameError\u001b[0m                                 Traceback (most recent call last)",
      "\u001b[0;32m<ipython-input-61-9ada982fd12c>\u001b[0m in \u001b[0;36m<module>\u001b[0;34m\u001b[0m\n\u001b[0;32m----> 1\u001b[0;31m \u001b[0mprincipal\u001b[0m\u001b[0;34m(\u001b[0m\u001b[0;34m)\u001b[0m\u001b[0;34m\u001b[0m\u001b[0;34m\u001b[0m\u001b[0m\n\u001b[0m",
      "\u001b[0;32m<ipython-input-60-56cccd567b9f>\u001b[0m in \u001b[0;36mprincipal\u001b[0;34m()\u001b[0m\n\u001b[1;32m      9\u001b[0m \u001b[0;34m\u001b[0m\u001b[0m\n\u001b[1;32m     10\u001b[0m     \u001b[0manidada\u001b[0m\u001b[0;34m(\u001b[0m\u001b[0;34m)\u001b[0m\u001b[0;34m\u001b[0m\u001b[0;34m\u001b[0m\u001b[0m\n\u001b[0;32m---> 11\u001b[0;31m     \u001b[0mprint\u001b[0m\u001b[0;34m(\u001b[0m\u001b[0mc\u001b[0m\u001b[0;34m)\u001b[0m\u001b[0;34m\u001b[0m\u001b[0;34m\u001b[0m\u001b[0m\n\u001b[0m",
      "\u001b[0;31mNameError\u001b[0m: name 'c' is not defined"
     ]
    }
   ],
   "source": [
    "principal()"
   ]
  },
  {
   "cell_type": "code",
   "execution_count": 62,
   "id": "a4b9eeca",
   "metadata": {},
   "outputs": [],
   "source": [
    "def principal():\n",
    "    a = \"a\"\n",
    "    b = \"b\"\n",
    "    \n",
    "    def anidada():\n",
    "        c = \"c\"\n",
    "        b = \"valor cambiado\"\n",
    "        print(a)\n",
    "        print(b)\n",
    "        \n",
    "    anidada()\n",
    "    print(b)"
   ]
  },
  {
   "cell_type": "code",
   "execution_count": 63,
   "id": "dec44233",
   "metadata": {},
   "outputs": [
    {
     "name": "stdout",
     "output_type": "stream",
     "text": [
      "a\n",
      "valor cambiado\n",
      "b\n"
     ]
    }
   ],
   "source": [
    "principal()"
   ]
  },
  {
   "cell_type": "code",
   "execution_count": 66,
   "id": "e80037f4",
   "metadata": {},
   "outputs": [],
   "source": [
    "def principal():\n",
    "    a = \"a\"\n",
    "    b = \"b\"\n",
    "    \n",
    "    def anidada():\n",
    "        nonlocal b\n",
    "        c = \"c\"\n",
    "        b = \"valor cambiado\"\n",
    "        print(b)\n",
    "        \n",
    "    anidada()\n",
    "    print(b)"
   ]
  },
  {
   "cell_type": "code",
   "execution_count": 67,
   "id": "c3fa44aa",
   "metadata": {},
   "outputs": [
    {
     "name": "stdout",
     "output_type": "stream",
     "text": [
      "valor cambiado\n",
      "valor cambiado\n"
     ]
    }
   ],
   "source": [
    "principal()"
   ]
  },
  {
   "cell_type": "code",
   "execution_count": null,
   "id": "006da3e5",
   "metadata": {},
   "outputs": [],
   "source": []
  },
  {
   "cell_type": "code",
   "execution_count": null,
   "id": "9fd86118",
   "metadata": {},
   "outputs": [],
   "source": []
  },
  {
   "cell_type": "code",
   "execution_count": null,
   "id": "786965fc",
   "metadata": {},
   "outputs": [],
   "source": []
  }
 ],
 "metadata": {
  "kernelspec": {
   "display_name": "Python 3",
   "language": "python",
   "name": "python3"
  },
  "language_info": {
   "codemirror_mode": {
    "name": "ipython",
    "version": 3
   },
   "file_extension": ".py",
   "mimetype": "text/x-python",
   "name": "python",
   "nbconvert_exporter": "python",
   "pygments_lexer": "ipython3",
   "version": "3.7.11"
  }
 },
 "nbformat": 4,
 "nbformat_minor": 5
}
