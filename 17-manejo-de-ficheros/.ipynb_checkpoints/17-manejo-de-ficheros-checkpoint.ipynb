{
 "cells": [
  {
   "cell_type": "code",
   "execution_count": 1,
   "id": "d37d97ae",
   "metadata": {},
   "outputs": [],
   "source": [
    "texto = \"Una linea de texto \\nOtra linea de texto\""
   ]
  },
  {
   "cell_type": "code",
   "execution_count": 2,
   "id": "d091bf78",
   "metadata": {},
   "outputs": [],
   "source": [
    "fichero = open(\"fichero.txt\", \"w\") # fichero.txt es la ruta w es modo de escritura"
   ]
  },
  {
   "cell_type": "code",
   "execution_count": 3,
   "id": "700abdf8",
   "metadata": {},
   "outputs": [
    {
     "data": {
      "text/plain": [
       "39"
      ]
     },
     "execution_count": 3,
     "metadata": {},
     "output_type": "execute_result"
    }
   ],
   "source": [
    "fichero.write(texto) # escribimos el texto\n"
   ]
  },
  {
   "cell_type": "code",
   "execution_count": 7,
   "id": "205ee59a",
   "metadata": {},
   "outputs": [],
   "source": [
    "fichero.close() # cierro el fichero y hago el flush del contenido"
   ]
  },
  {
   "cell_type": "code",
   "execution_count": 5,
   "id": "4b75e501",
   "metadata": {},
   "outputs": [],
   "source": [
    "# lectura de un fichero de texto"
   ]
  },
  {
   "cell_type": "code",
   "execution_count": 8,
   "id": "4ec6c0b7",
   "metadata": {},
   "outputs": [],
   "source": [
    "fichero = open(\"fichero.txt\", \"r\") # r es modo lectura"
   ]
  },
  {
   "cell_type": "code",
   "execution_count": 9,
   "id": "d602cb7c",
   "metadata": {},
   "outputs": [],
   "source": [
    "texto = fichero.read() # lectura completa del fichero"
   ]
  },
  {
   "cell_type": "code",
   "execution_count": 10,
   "id": "035fd64e",
   "metadata": {},
   "outputs": [],
   "source": [
    "fichero.close()"
   ]
  },
  {
   "cell_type": "code",
   "execution_count": 11,
   "id": "72367240",
   "metadata": {},
   "outputs": [
    {
     "name": "stdout",
     "output_type": "stream",
     "text": [
      "Una linea de texto \n",
      "Otra linea de texto\n",
      "una tercera linea de texto\n"
     ]
    }
   ],
   "source": [
    "print(texto)"
   ]
  },
  {
   "cell_type": "code",
   "execution_count": 12,
   "id": "77a85d93",
   "metadata": {},
   "outputs": [],
   "source": [
    "fichero = open(\"fichero.txt\", \"r\") # r es modo lectura"
   ]
  },
  {
   "cell_type": "code",
   "execution_count": 13,
   "id": "f808bb9d",
   "metadata": {},
   "outputs": [],
   "source": [
    "lineas = fichero.readlines() # lee creando una lista de lineas"
   ]
  },
  {
   "cell_type": "code",
   "execution_count": 14,
   "id": "95a8e0c2",
   "metadata": {},
   "outputs": [
    {
     "data": {
      "text/plain": [
       "['Una linea de texto \\n',\n",
       " 'Otra linea de texto\\n',\n",
       " 'una tercera linea de texto']"
      ]
     },
     "execution_count": 14,
     "metadata": {},
     "output_type": "execute_result"
    }
   ],
   "source": [
    "lineas"
   ]
  },
  {
   "cell_type": "code",
   "execution_count": 15,
   "id": "063c78ca",
   "metadata": {},
   "outputs": [
    {
     "data": {
      "text/plain": [
       "3"
      ]
     },
     "execution_count": 15,
     "metadata": {},
     "output_type": "execute_result"
    }
   ],
   "source": [
    "len (lineas)"
   ]
  },
  {
   "cell_type": "code",
   "execution_count": 16,
   "id": "57e63c02",
   "metadata": {},
   "outputs": [
    {
     "data": {
      "text/plain": [
       "'una tercera linea de texto'"
      ]
     },
     "execution_count": 16,
     "metadata": {},
     "output_type": "execute_result"
    }
   ],
   "source": [
    "lineas[-1]"
   ]
  },
  {
   "cell_type": "code",
   "execution_count": 17,
   "id": "2cb91b8e",
   "metadata": {},
   "outputs": [],
   "source": [
    "# Añadir a un fichero de texto"
   ]
  },
  {
   "cell_type": "code",
   "execution_count": 18,
   "id": "1ba9b5c3",
   "metadata": {},
   "outputs": [],
   "source": [
    "# si volvemos a abrir para escritura, se borra todo\n",
    "fichero = open(\"fichero.txt\", \"w\") # fichero.txt es la ruta w es modo de escritura\n",
    "fichero.write(\"written\")\n",
    "fichero.close()"
   ]
  },
  {
   "cell_type": "code",
   "execution_count": 21,
   "id": "c6670135",
   "metadata": {},
   "outputs": [],
   "source": [
    "# para agregar elementos lo abrimos en modo append\n",
    "fichero = open(\"fichero.txt\", \"a\") # fichero.txt es la ruta w es modo de escritura\n",
    "fichero.write('\\n')\n",
    "fichero.write(\"updating things\")\n",
    "fichero.close()"
   ]
  },
  {
   "cell_type": "code",
   "execution_count": 22,
   "id": "4f2a5b13",
   "metadata": {},
   "outputs": [
    {
     "ename": "FileNotFoundError",
     "evalue": "[Errno 2] No such file or directory: 'spam.txt'",
     "output_type": "error",
     "traceback": [
      "\u001b[0;31m---------------------------------------------------------------------------\u001b[0m",
      "\u001b[0;31mFileNotFoundError\u001b[0m                         Traceback (most recent call last)",
      "\u001b[0;32m<ipython-input-22-7c505c0ca8f5>\u001b[0m in \u001b[0;36m<module>\u001b[0;34m\u001b[0m\n\u001b[1;32m      1\u001b[0m \u001b[0;31m#leo un fichero que no existe\u001b[0m\u001b[0;34m\u001b[0m\u001b[0;34m\u001b[0m\u001b[0;34m\u001b[0m\u001b[0m\n\u001b[0;32m----> 2\u001b[0;31m \u001b[0mf\u001b[0m \u001b[0;34m=\u001b[0m \u001b[0mopen\u001b[0m\u001b[0;34m(\u001b[0m\u001b[0;34m\"spam.txt\"\u001b[0m\u001b[0;34m,\u001b[0m \u001b[0;34m\"r\"\u001b[0m\u001b[0;34m)\u001b[0m\u001b[0;34m\u001b[0m\u001b[0;34m\u001b[0m\u001b[0m\n\u001b[0m",
      "\u001b[0;31mFileNotFoundError\u001b[0m: [Errno 2] No such file or directory: 'spam.txt'"
     ]
    }
   ],
   "source": [
    "#leo un fichero que no existe\n",
    "f = open(\"spam.txt\", \"r\")"
   ]
  },
  {
   "cell_type": "code",
   "execution_count": 23,
   "id": "7b03f2be",
   "metadata": {},
   "outputs": [],
   "source": [
    "#leo un fichero que no existe\n",
    "f = open(\"spam.txt\", \"a+\")"
   ]
  },
  {
   "cell_type": "code",
   "execution_count": 24,
   "id": "8c158bfc",
   "metadata": {},
   "outputs": [],
   "source": [
    "f.write(\"hola\")\n",
    "f.close()"
   ]
  },
  {
   "cell_type": "code",
   "execution_count": null,
   "id": "2cc502e4",
   "metadata": {},
   "outputs": [],
   "source": []
  }
 ],
 "metadata": {
  "kernelspec": {
   "display_name": "Python 3",
   "language": "python",
   "name": "python3"
  },
  "language_info": {
   "codemirror_mode": {
    "name": "ipython",
    "version": 3
   },
   "file_extension": ".py",
   "mimetype": "text/x-python",
   "name": "python",
   "nbconvert_exporter": "python",
   "pygments_lexer": "ipython3",
   "version": "3.7.11"
  }
 },
 "nbformat": 4,
 "nbformat_minor": 5
}
