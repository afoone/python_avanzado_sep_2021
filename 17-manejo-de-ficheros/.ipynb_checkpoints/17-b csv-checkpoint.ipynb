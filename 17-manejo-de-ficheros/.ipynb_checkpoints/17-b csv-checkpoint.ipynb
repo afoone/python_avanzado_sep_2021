{
 "cells": [
  {
   "cell_type": "markdown",
   "id": "07c0a843",
   "metadata": {},
   "source": [
    "# csv\n",
    "\n",
    "comma-separated-values"
   ]
  },
  {
   "cell_type": "code",
   "execution_count": 1,
   "id": "f3dec7c7",
   "metadata": {},
   "outputs": [],
   "source": [
    "import csv"
   ]
  },
  {
   "cell_type": "code",
   "execution_count": 13,
   "id": "4ad0b045",
   "metadata": {},
   "outputs": [],
   "source": [
    "empleados = [\n",
    "    (\"Manuel\", \"Desarrollador WEB\", \"manuel@ejemplo.com\"),\n",
    "    (\"Lorena\", \"Gestión de proyectos\", \"lorena@ejemplo.com\"),\n",
    "    (\"Javier\", \"Analisis de datos\", \"javier@ejemplo.com\"),\n",
    "    (\"Marta\", \"Python Expert\", \"marta@ejemplo.com\")\n",
    "]"
   ]
  },
  {
   "cell_type": "code",
   "execution_count": 14,
   "id": "bc03a640",
   "metadata": {},
   "outputs": [
    {
     "data": {
      "text/plain": [
       "[('Manuel', 'Desarrollador WEB', 'manuel@ejemplo.com'),\n",
       " ('Lorena', 'Gestión de proyectos', 'lorena@ejemplo.com'),\n",
       " ('Javier', 'Analisis de datos', 'javier@ejemplo.com'),\n",
       " ('Marta', 'Python Expert', 'marta@ejemplo.com')]"
      ]
     },
     "execution_count": 14,
     "metadata": {},
     "output_type": "execute_result"
    }
   ],
   "source": [
    "empleados"
   ]
  },
  {
   "cell_type": "code",
   "execution_count": 20,
   "id": "4d80c6ee",
   "metadata": {},
   "outputs": [],
   "source": [
    "with open(\"empleados.csv\", \"w\", newline=\"\\n\") as csvfile:\n",
    "    writer = csv.writer(csvfile)\n",
    "    for empleado in empleados:\n",
    "        writer.writerow(empleado)"
   ]
  },
  {
   "cell_type": "code",
   "execution_count": 21,
   "id": "e0b7b8b4",
   "metadata": {},
   "outputs": [
    {
     "name": "stdout",
     "output_type": "stream",
     "text": [
      "Manuel, con email manuel@ejemplo.com tiene el cargo de Desarrollador WEB\n",
      "Lorena, con email lorena@ejemplo.com tiene el cargo de Gestión de proyectos\n",
      "Javier, con email javier@ejemplo.com tiene el cargo de Analisis de datos\n",
      "Marta, con email marta@ejemplo.com tiene el cargo de Python Expert\n"
     ]
    }
   ],
   "source": [
    "with open(\"empleados.csv\", \"r\", newline=\"\\n\") as csvfile:\n",
    "    reader = csv.reader(csvfile)\n",
    "    for nombre, empleo, email in reader:\n",
    "        print(f'{nombre}, con email {email} tiene el cargo de {empleo}')"
   ]
  },
  {
   "cell_type": "code",
   "execution_count": 22,
   "id": "8a4baa34",
   "metadata": {},
   "outputs": [],
   "source": [
    "with open(\"empleados.csv\", \"w\", newline=\"\\n\") as csvfile:\n",
    "    writer = csv.writer(csvfile, delimiter=\";\")\n",
    "    for empleado in empleados:\n",
    "        writer.writerow(empleado)"
   ]
  },
  {
   "cell_type": "code",
   "execution_count": 23,
   "id": "e60f2ce1",
   "metadata": {},
   "outputs": [
    {
     "name": "stdout",
     "output_type": "stream",
     "text": [
      "Manuel, con email manuel@ejemplo.com tiene el cargo de Desarrollador WEB\n",
      "Lorena, con email lorena@ejemplo.com tiene el cargo de Gestión de proyectos\n",
      "Javier, con email javier@ejemplo.com tiene el cargo de Analisis de datos\n",
      "Marta, con email marta@ejemplo.com tiene el cargo de Python Expert\n"
     ]
    }
   ],
   "source": [
    "with open(\"empleados.csv\", \"r\", newline=\"\\n\") as csvfile:\n",
    "    reader = csv.reader(csvfile, delimiter=\";\")\n",
    "    for nombre, empleo, email in reader:\n",
    "        print(f'{nombre}, con email {email} tiene el cargo de {empleo}')"
   ]
  },
  {
   "cell_type": "code",
   "execution_count": 24,
   "id": "0319bb1d",
   "metadata": {},
   "outputs": [],
   "source": [
    "with open(\"empleados.csv\", \"w\", newline=\"\\n\") as csvfile:\n",
    "    campos = [\"nombre\", \"empleo\", \"email\"]\n",
    "    writer = csv.writer(csvfile, delimiter=\";\")\n",
    "    writer.writerow(campos)\n",
    "    for empleado in empleados:\n",
    "        writer.writerow(empleado)"
   ]
  },
  {
   "cell_type": "code",
   "execution_count": 25,
   "id": "4e5992ad",
   "metadata": {},
   "outputs": [],
   "source": [
    "with open(\"empleados.csv\", \"w\", newline=\"\\n\") as csvfile:\n",
    "    campos = [\"nombre\", \"empleo\", \"email\"]\n",
    "    writer = csv.DictWriter(csvfile, delimiter=\";\", fieldnames=campos)\n",
    "    writer.writeheader()\n",
    "    for nombre, empleo, email in empleados:\n",
    "        writer.writerow( {\n",
    "            \"nombre\": nombre,\n",
    "            \"empleo\": empleo,\n",
    "            \"email\": email\n",
    "        })"
   ]
  },
  {
   "cell_type": "code",
   "execution_count": 28,
   "id": "bd842cc4",
   "metadata": {},
   "outputs": [],
   "source": [
    "empleados = [\n",
    "    {\"nombre\": \"Manuel\", \"empleo\": \"Desarrollador WEB\", \"email\": \"manuel@ejemplo.com\"},\n",
    "    {\"nombre\": \"Lorena\", \"empleo\": \"Gestión de proyectos\", \"email\": \"lorena@ejemplo.com\"},\n",
    "    {\"nombre\": \"Javier\", \"empleo\": \"Analisis de datos\", \"email\": \"javier@ejemplo.com\"},\n",
    "    {\"nombre\": \"Marta\",  \"empleo\":\"Python Expert\", \"email\": \"marta@ejemplo.com\"}\n",
    "]"
   ]
  },
  {
   "cell_type": "code",
   "execution_count": 29,
   "id": "6c7c5b0c",
   "metadata": {},
   "outputs": [
    {
     "data": {
      "text/plain": [
       "[{'nombre': 'Manuel',\n",
       "  'empleo': 'Desarrollador WEB',\n",
       "  'email': 'manuel@ejemplo.com'},\n",
       " {'nombre': 'Lorena',\n",
       "  'empleo': 'Gestión de proyectos',\n",
       "  'email': 'lorena@ejemplo.com'},\n",
       " {'nombre': 'Javier',\n",
       "  'empleo': 'Analisis de datos',\n",
       "  'email': 'javier@ejemplo.com'},\n",
       " {'nombre': 'Marta', 'empleo': 'Python Expert', 'email': 'marta@ejemplo.com'}]"
      ]
     },
     "execution_count": 29,
     "metadata": {},
     "output_type": "execute_result"
    }
   ],
   "source": [
    "empleados\n"
   ]
  },
  {
   "cell_type": "code",
   "execution_count": 30,
   "id": "74f2eae1",
   "metadata": {},
   "outputs": [],
   "source": [
    "with open(\"empleados.csv\", \"w\", newline=\"\\n\") as csvfile:\n",
    "    campos = [\"nombre\", \"empleo\", \"email\"]\n",
    "    writer = csv.DictWriter(csvfile, delimiter=\";\", fieldnames=campos)\n",
    "    writer.writeheader()\n",
    "    for empleado in empleados:\n",
    "        writer.writerow( empleado )"
   ]
  },
  {
   "cell_type": "code",
   "execution_count": 32,
   "id": "1e4ec375",
   "metadata": {},
   "outputs": [
    {
     "name": "stdout",
     "output_type": "stream",
     "text": [
      "nombre email empleo\n",
      "Manuel manuel@ejemplo.com Desarrollador WEB\n",
      "Lorena lorena@ejemplo.com Gestión de proyectos\n",
      "Javier javier@ejemplo.com Analisis de datos\n",
      "Marta marta@ejemplo.com Python Expert\n"
     ]
    }
   ],
   "source": [
    "with open(\"empleados.csv\", \"r\", newline=\"\\n\") as csvfile:\n",
    "    campos = [\"nombre\", \"empleo\", \"email\"]\n",
    "    reader = csv.DictReader(csvfile, fieldnames=campos, delimiter=\";\")\n",
    "    for empleado in reader:\n",
    "        print(empleado[\"nombre\"], empleado[\"email\"], empleado[\"empleo\"])"
   ]
  },
  {
   "cell_type": "code",
   "execution_count": null,
   "id": "7a5a31dd",
   "metadata": {},
   "outputs": [],
   "source": []
  },
  {
   "cell_type": "code",
   "execution_count": null,
   "id": "2227def9",
   "metadata": {},
   "outputs": [],
   "source": []
  },
  {
   "cell_type": "code",
   "execution_count": null,
   "id": "00798368",
   "metadata": {},
   "outputs": [],
   "source": []
  },
  {
   "cell_type": "code",
   "execution_count": null,
   "id": "74d5afb9",
   "metadata": {},
   "outputs": [],
   "source": []
  },
  {
   "cell_type": "code",
   "execution_count": null,
   "id": "e3e1157f",
   "metadata": {},
   "outputs": [],
   "source": []
  }
 ],
 "metadata": {
  "kernelspec": {
   "display_name": "Python 3",
   "language": "python",
   "name": "python3"
  },
  "language_info": {
   "codemirror_mode": {
    "name": "ipython",
    "version": 3
   },
   "file_extension": ".py",
   "mimetype": "text/x-python",
   "name": "python",
   "nbconvert_exporter": "python",
   "pygments_lexer": "ipython3",
   "version": "3.7.11"
  }
 },
 "nbformat": 4,
 "nbformat_minor": 5
}
