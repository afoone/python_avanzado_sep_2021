{
 "cells": [
  {
   "cell_type": "code",
   "execution_count": 1,
   "id": "f84c94d1",
   "metadata": {},
   "outputs": [],
   "source": [
    "texto = \"Una linea de texto \\nOtra linea de texto\""
   ]
  },
  {
   "cell_type": "code",
   "execution_count": 2,
   "id": "559a800a",
   "metadata": {},
   "outputs": [],
   "source": [
    "fichero = open(\"fichero.txt\", \"w\") # fichero.txt es la ruta w es modo de escritura"
   ]
  },
  {
   "cell_type": "code",
   "execution_count": 3,
   "id": "d2528da1",
   "metadata": {},
   "outputs": [
    {
     "data": {
      "text/plain": [
       "39"
      ]
     },
     "execution_count": 3,
     "metadata": {},
     "output_type": "execute_result"
    }
   ],
   "source": [
    "fichero.write(texto) # escribimos el texto\n"
   ]
  },
  {
   "cell_type": "code",
   "execution_count": 7,
   "id": "990bf30a",
   "metadata": {},
   "outputs": [],
   "source": [
    "fichero.close() # cierro el fichero y hago el flush del contenido"
   ]
  },
  {
   "cell_type": "code",
   "execution_count": 5,
   "id": "8119fc34",
   "metadata": {},
   "outputs": [],
   "source": [
    "# lectura de un fichero de texto"
   ]
  },
  {
   "cell_type": "code",
   "execution_count": 8,
   "id": "5fecf2cd",
   "metadata": {},
   "outputs": [],
   "source": [
    "fichero = open(\"fichero.txt\", \"r\") # r es modo lectura"
   ]
  },
  {
   "cell_type": "code",
   "execution_count": 9,
   "id": "93f2dcab",
   "metadata": {},
   "outputs": [],
   "source": [
    "texto = fichero.read() # lectura completa del fichero"
   ]
  },
  {
   "cell_type": "code",
   "execution_count": 10,
   "id": "5c95070c",
   "metadata": {},
   "outputs": [],
   "source": [
    "fichero.close()"
   ]
  },
  {
   "cell_type": "code",
   "execution_count": 11,
   "id": "8e0d5c5a",
   "metadata": {},
   "outputs": [
    {
     "name": "stdout",
     "output_type": "stream",
     "text": [
      "Una linea de texto \n",
      "Otra linea de texto\n",
      "una tercera linea de texto\n"
     ]
    }
   ],
   "source": [
    "print(texto)"
   ]
  },
  {
   "cell_type": "code",
   "execution_count": 12,
   "id": "f44eed45",
   "metadata": {},
   "outputs": [],
   "source": [
    "fichero = open(\"fichero.txt\", \"r\") # r es modo lectura"
   ]
  },
  {
   "cell_type": "code",
   "execution_count": 13,
   "id": "d29afd2a",
   "metadata": {},
   "outputs": [],
   "source": [
    "lineas = fichero.readlines() # lee creando una lista de lineas"
   ]
  },
  {
   "cell_type": "code",
   "execution_count": 14,
   "id": "b0bce6ab",
   "metadata": {},
   "outputs": [
    {
     "data": {
      "text/plain": [
       "['Una linea de texto \\n',\n",
       " 'Otra linea de texto\\n',\n",
       " 'una tercera linea de texto']"
      ]
     },
     "execution_count": 14,
     "metadata": {},
     "output_type": "execute_result"
    }
   ],
   "source": [
    "lineas"
   ]
  },
  {
   "cell_type": "code",
   "execution_count": 15,
   "id": "ad535de2",
   "metadata": {},
   "outputs": [
    {
     "data": {
      "text/plain": [
       "3"
      ]
     },
     "execution_count": 15,
     "metadata": {},
     "output_type": "execute_result"
    }
   ],
   "source": [
    "len (lineas)"
   ]
  },
  {
   "cell_type": "code",
   "execution_count": 16,
   "id": "35a790d6",
   "metadata": {},
   "outputs": [
    {
     "data": {
      "text/plain": [
       "'una tercera linea de texto'"
      ]
     },
     "execution_count": 16,
     "metadata": {},
     "output_type": "execute_result"
    }
   ],
   "source": [
    "lineas[-1]"
   ]
  },
  {
   "cell_type": "code",
   "execution_count": 17,
   "id": "c2d5b752",
   "metadata": {},
   "outputs": [],
   "source": [
    "# Añadir a un fichero de texto"
   ]
  },
  {
   "cell_type": "code",
   "execution_count": 18,
   "id": "e078c8cd",
   "metadata": {},
   "outputs": [],
   "source": [
    "# si volvemos a abrir para escritura, se borra todo\n",
    "fichero = open(\"fichero.txt\", \"w\") # fichero.txt es la ruta w es modo de escritura\n",
    "fichero.write(\"written\")\n",
    "fichero.close()"
   ]
  },
  {
   "cell_type": "code",
   "execution_count": 21,
   "id": "c4ae0a00",
   "metadata": {},
   "outputs": [],
   "source": [
    "# para agregar elementos lo abrimos en modo append\n",
    "fichero = open(\"fichero.txt\", \"a\") # fichero.txt es la ruta w es modo de escritura\n",
    "fichero.write('\\n')\n",
    "fichero.write(\"updating things\")\n",
    "fichero.close()"
   ]
  },
  {
   "cell_type": "code",
   "execution_count": 22,
   "id": "5a4c2df0",
   "metadata": {},
   "outputs": [
    {
     "ename": "FileNotFoundError",
     "evalue": "[Errno 2] No such file or directory: 'spam.txt'",
     "output_type": "error",
     "traceback": [
      "\u001b[0;31m---------------------------------------------------------------------------\u001b[0m",
      "\u001b[0;31mFileNotFoundError\u001b[0m                         Traceback (most recent call last)",
      "\u001b[0;32m<ipython-input-22-7c505c0ca8f5>\u001b[0m in \u001b[0;36m<module>\u001b[0;34m\u001b[0m\n\u001b[1;32m      1\u001b[0m \u001b[0;31m#leo un fichero que no existe\u001b[0m\u001b[0;34m\u001b[0m\u001b[0;34m\u001b[0m\u001b[0;34m\u001b[0m\u001b[0m\n\u001b[0;32m----> 2\u001b[0;31m \u001b[0mf\u001b[0m \u001b[0;34m=\u001b[0m \u001b[0mopen\u001b[0m\u001b[0;34m(\u001b[0m\u001b[0;34m\"spam.txt\"\u001b[0m\u001b[0;34m,\u001b[0m \u001b[0;34m\"r\"\u001b[0m\u001b[0;34m)\u001b[0m\u001b[0;34m\u001b[0m\u001b[0;34m\u001b[0m\u001b[0m\n\u001b[0m",
      "\u001b[0;31mFileNotFoundError\u001b[0m: [Errno 2] No such file or directory: 'spam.txt'"
     ]
    }
   ],
   "source": [
    "#leo un fichero que no existe\n",
    "f = open(\"spam.txt\", \"r\")"
   ]
  },
  {
   "cell_type": "code",
   "execution_count": 23,
   "id": "94dc84f9",
   "metadata": {},
   "outputs": [],
   "source": [
    "#leo un fichero que no existe\n",
    "f = open(\"spam.txt\", \"a+\")"
   ]
  },
  {
   "cell_type": "code",
   "execution_count": 24,
   "id": "6dbefb8b",
   "metadata": {},
   "outputs": [],
   "source": [
    "f.write(\"hola\")\n",
    "f.close()"
   ]
  },
  {
   "cell_type": "code",
   "execution_count": 25,
   "id": "a08608f3",
   "metadata": {},
   "outputs": [],
   "source": [
    "# ficheros muy grandes\n",
    "fichero = open(\"fichero.txt\", \"r\")"
   ]
  },
  {
   "cell_type": "code",
   "execution_count": 26,
   "id": "ee764b9b",
   "metadata": {},
   "outputs": [
    {
     "data": {
      "text/plain": [
       "'# si volvemos a abrir para escritura, se borra todo\\n'"
      ]
     },
     "execution_count": 26,
     "metadata": {},
     "output_type": "execute_result"
    }
   ],
   "source": [
    "fichero.readline()"
   ]
  },
  {
   "cell_type": "code",
   "execution_count": 27,
   "id": "7096464f",
   "metadata": {},
   "outputs": [
    {
     "data": {
      "text/plain": [
       "'fichero = open(\"fichero.txt\", \"w\") # fichero.txt es la ruta w es modo de escritura\\n'"
      ]
     },
     "execution_count": 27,
     "metadata": {},
     "output_type": "execute_result"
    }
   ],
   "source": [
    "fichero.readline()"
   ]
  },
  {
   "cell_type": "code",
   "execution_count": 28,
   "id": "68fbbbd5",
   "metadata": {},
   "outputs": [
    {
     "data": {
      "text/plain": [
       "'fichero.write(\"written\")\\n'"
      ]
     },
     "execution_count": 28,
     "metadata": {},
     "output_type": "execute_result"
    }
   ],
   "source": [
    "fichero.readline()"
   ]
  },
  {
   "cell_type": "code",
   "execution_count": 29,
   "id": "151dc240",
   "metadata": {},
   "outputs": [
    {
     "data": {
      "text/plain": [
       "'fichero.close()updating things\\n'"
      ]
     },
     "execution_count": 29,
     "metadata": {},
     "output_type": "execute_result"
    }
   ],
   "source": [
    "fichero.readline()"
   ]
  },
  {
   "cell_type": "code",
   "execution_count": 30,
   "id": "64c9b089",
   "metadata": {},
   "outputs": [
    {
     "data": {
      "text/plain": [
       "'updating things'"
      ]
     },
     "execution_count": 30,
     "metadata": {},
     "output_type": "execute_result"
    }
   ],
   "source": [
    "fichero.readline()"
   ]
  },
  {
   "cell_type": "code",
   "execution_count": 31,
   "id": "084ae111",
   "metadata": {},
   "outputs": [
    {
     "data": {
      "text/plain": [
       "''"
      ]
     },
     "execution_count": 31,
     "metadata": {},
     "output_type": "execute_result"
    }
   ],
   "source": [
    "fichero.readline()"
   ]
  },
  {
   "cell_type": "code",
   "execution_count": 32,
   "id": "07fe819c",
   "metadata": {},
   "outputs": [
    {
     "data": {
      "text/plain": [
       "''"
      ]
     },
     "execution_count": 32,
     "metadata": {},
     "output_type": "execute_result"
    }
   ],
   "source": [
    "fichero.readline()"
   ]
  },
  {
   "cell_type": "code",
   "execution_count": 33,
   "id": "13f6e95f",
   "metadata": {},
   "outputs": [
    {
     "data": {
      "text/plain": [
       "''"
      ]
     },
     "execution_count": 33,
     "metadata": {},
     "output_type": "execute_result"
    }
   ],
   "source": [
    "fichero.readline()\n"
   ]
  },
  {
   "cell_type": "code",
   "execution_count": 34,
   "id": "718769b7",
   "metadata": {},
   "outputs": [],
   "source": [
    "fichero.close()"
   ]
  },
  {
   "cell_type": "code",
   "execution_count": 35,
   "id": "5a1d365b",
   "metadata": {},
   "outputs": [
    {
     "name": "stdout",
     "output_type": "stream",
     "text": [
      "# si volvemos a abrir para escritura, se borra todo\n",
      "\n",
      "fichero = open(\"fichero.txt\", \"w\") # fichero.txt es la ruta w es modo de escritura\n",
      "\n",
      "fichero.write(\"written\")\n",
      "\n",
      "fichero.close()updating things\n",
      "\n",
      "updating things\n"
     ]
    }
   ],
   "source": [
    "# leer lina a linea un fichero\n",
    "\n",
    "with open(\"fichero.txt\") as fichero:\n",
    "    for linea in fichero:\n",
    "        print (linea)"
   ]
  },
  {
   "cell_type": "code",
   "execution_count": 36,
   "id": "b0d52b48",
   "metadata": {},
   "outputs": [
    {
     "data": {
      "text/plain": [
       "'# si volve'"
      ]
     },
     "execution_count": 36,
     "metadata": {},
     "output_type": "execute_result"
    }
   ],
   "source": [
    "# Manejando el puntero\n",
    "fichero = open('fichero.txt', 'r')\n",
    "fichero.seek(0) # puntero al principio\n",
    "fichero.read(10) #lee 10 caracteres"
   ]
  },
  {
   "cell_type": "code",
   "execution_count": 38,
   "id": "19aa9b02",
   "metadata": {},
   "outputs": [
    {
     "data": {
      "text/plain": [
       "'mos a abri'"
      ]
     },
     "execution_count": 38,
     "metadata": {},
     "output_type": "execute_result"
    }
   ],
   "source": [
    "fichero.read(10)"
   ]
  },
  {
   "cell_type": "code",
   "execution_count": 39,
   "id": "a77f46f3",
   "metadata": {},
   "outputs": [
    {
     "data": {
      "text/plain": [
       "0"
      ]
     },
     "execution_count": 39,
     "metadata": {},
     "output_type": "execute_result"
    }
   ],
   "source": [
    "fichero.seek(0)"
   ]
  },
  {
   "cell_type": "code",
   "execution_count": 40,
   "id": "dbc0b6f6",
   "metadata": {},
   "outputs": [
    {
     "data": {
      "text/plain": [
       "'# si volvemos a abri'"
      ]
     },
     "execution_count": 40,
     "metadata": {},
     "output_type": "execute_result"
    }
   ],
   "source": [
    "fichero.read(20)"
   ]
  },
  {
   "cell_type": "code",
   "execution_count": 41,
   "id": "4fee10d9",
   "metadata": {},
   "outputs": [
    {
     "data": {
      "text/plain": [
       "52"
      ]
     },
     "execution_count": 41,
     "metadata": {},
     "output_type": "execute_result"
    }
   ],
   "source": [
    "# para ir al principio de la seunda linea\n",
    "fichero.seek(0)\n",
    "fichero.seek(len(fichero.readline()))"
   ]
  },
  {
   "cell_type": "code",
   "execution_count": 42,
   "id": "42b8105f",
   "metadata": {},
   "outputs": [
    {
     "data": {
      "text/plain": [
       "'fichero = open('"
      ]
     },
     "execution_count": 42,
     "metadata": {},
     "output_type": "execute_result"
    }
   ],
   "source": [
    "fichero.read(15)"
   ]
  },
  {
   "cell_type": "code",
   "execution_count": 43,
   "id": "4cecb2e3",
   "metadata": {},
   "outputs": [
    {
     "data": {
      "text/plain": [
       "'\"fichero.txt\", \"w\") # fichero.txt es la ruta w es modo de escritura\\nfichero.write(\"written\")\\nfichero.close()updating things\\nupdating things'"
      ]
     },
     "execution_count": 43,
     "metadata": {},
     "output_type": "execute_result"
    }
   ],
   "source": [
    "fichero.read()"
   ]
  },
  {
   "cell_type": "code",
   "execution_count": 44,
   "id": "bc1423ca",
   "metadata": {},
   "outputs": [],
   "source": [
    "# lectura y escritura a la vez\n",
    "fichero2 = open('fichero2.txt', \"w\")"
   ]
  },
  {
   "cell_type": "code",
   "execution_count": 45,
   "id": "9aa4281d",
   "metadata": {},
   "outputs": [
    {
     "data": {
      "text/plain": [
       "34"
      ]
     },
     "execution_count": 45,
     "metadata": {},
     "output_type": "execute_result"
    }
   ],
   "source": [
    "fichero2.write(\"dskajfjlkdsjjksdajfñlksdajfñlksdaf\")"
   ]
  },
  {
   "cell_type": "code",
   "execution_count": 46,
   "id": "f646f0c2",
   "metadata": {},
   "outputs": [],
   "source": [
    "fichero2.close()"
   ]
  },
  {
   "cell_type": "code",
   "execution_count": 47,
   "id": "85a7932e",
   "metadata": {},
   "outputs": [],
   "source": [
    "fichero2 = open('fichero2.txt', \"r+\")"
   ]
  },
  {
   "cell_type": "code",
   "execution_count": 48,
   "id": "74d128e6",
   "metadata": {},
   "outputs": [
    {
     "data": {
      "text/plain": [
       "'dskajfjlkd'"
      ]
     },
     "execution_count": 48,
     "metadata": {},
     "output_type": "execute_result"
    }
   ],
   "source": [
    "fichero2.read(10)"
   ]
  },
  {
   "cell_type": "code",
   "execution_count": 49,
   "id": "c783c0ac",
   "metadata": {},
   "outputs": [
    {
     "data": {
      "text/plain": [
       "8"
      ]
     },
     "execution_count": 49,
     "metadata": {},
     "output_type": "execute_result"
    }
   ],
   "source": [
    "fichero2.write(\"00000000\")"
   ]
  },
  {
   "cell_type": "code",
   "execution_count": 51,
   "id": "8d4a86be",
   "metadata": {},
   "outputs": [],
   "source": [
    "fichero2.close()"
   ]
  },
  {
   "cell_type": "code",
   "execution_count": null,
   "id": "6eb6c1ae",
   "metadata": {},
   "outputs": [],
   "source": []
  },
  {
   "cell_type": "code",
   "execution_count": null,
   "id": "ab5cb677",
   "metadata": {},
   "outputs": [],
   "source": []
  },
  {
   "cell_type": "code",
   "execution_count": null,
   "id": "cf98f6fd",
   "metadata": {},
   "outputs": [],
   "source": []
  }
 ],
 "metadata": {
  "kernelspec": {
   "display_name": "Python 3",
   "language": "python",
   "name": "python3"
  },
  "language_info": {
   "codemirror_mode": {
    "name": "ipython",
    "version": 3
   },
   "file_extension": ".py",
   "mimetype": "text/x-python",
   "name": "python",
   "nbconvert_exporter": "python",
   "pygments_lexer": "ipython3",
   "version": "3.7.11"
  }
 },
 "nbformat": 4,
 "nbformat_minor": 5
}
