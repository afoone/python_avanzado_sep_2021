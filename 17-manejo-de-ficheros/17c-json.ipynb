{
 "cells": [
  {
   "cell_type": "code",
   "execution_count": 1,
   "id": "c0c59846",
   "metadata": {},
   "outputs": [],
   "source": [
    "import json"
   ]
  },
  {
   "cell_type": "code",
   "execution_count": 3,
   "id": "064d8c66",
   "metadata": {},
   "outputs": [],
   "source": [
    "empleados = [\n",
    "    {\"nombre\": \"Manuel\", \"empleo\": \"Desarrollador WEB\", \"email\": \"manuel@ejemplo.com\"},\n",
    "    {\"nombre\": \"Lorena\", \"empleo\": \"Gestión de proyectos\", \"email\": \"lorena@ejemplo.com\"},\n",
    "    {\"nombre\": \"Javier\", \"empleo\": \"Analisis de datos\", \"email\": \"javier@ejemplo.com\"},\n",
    "    {\"nombre\": \"Marta\",  \"empleo\":\"Python Expert\", \"email\": \"marta@ejemplo.com\"}\n",
    "]"
   ]
  },
  {
   "cell_type": "code",
   "execution_count": 4,
   "id": "0231978a",
   "metadata": {},
   "outputs": [
    {
     "data": {
      "text/plain": [
       "[{'nombre': 'Manuel',\n",
       "  'empleo': 'Desarrollador WEB',\n",
       "  'email': 'manuel@ejemplo.com'},\n",
       " {'nombre': 'Lorena',\n",
       "  'empleo': 'Gestión de proyectos',\n",
       "  'email': 'lorena@ejemplo.com'},\n",
       " {'nombre': 'Javier',\n",
       "  'empleo': 'Analisis de datos',\n",
       "  'email': 'javier@ejemplo.com'},\n",
       " {'nombre': 'Marta', 'empleo': 'Python Expert', 'email': 'marta@ejemplo.com'}]"
      ]
     },
     "execution_count": 4,
     "metadata": {},
     "output_type": "execute_result"
    }
   ],
   "source": [
    "empleados"
   ]
  },
  {
   "cell_type": "code",
   "execution_count": 5,
   "id": "d78867ff",
   "metadata": {},
   "outputs": [],
   "source": [
    "with open(\"empleados.json\", \"w\") as jsonfile:\n",
    "    json.dump(empleados, jsonfile)"
   ]
  },
  {
   "cell_type": "code",
   "execution_count": 9,
   "id": "3f0478df",
   "metadata": {},
   "outputs": [
    {
     "name": "stdout",
     "output_type": "stream",
     "text": [
      "example glossary\n",
      "{'title': 'example glossary', 'GlossDiv': {'title': 'S', 'GlossList': {'GlossEntry': {'ID': 'SGML', 'SortAs': 'SGML', 'GlossTerm': 'Standard Generalized Markup Language', 'Acronym': 'SGML', 'Abbrev': 'ISO 8879:1986', 'GlossDef': {'para': 'A meta-markup language, used to create markup languages such as DocBook.', 'GlossSeeAlso': ['GML', 'XML']}, 'GlossSee': 'markup'}}}}\n"
     ]
    }
   ],
   "source": [
    "with open(\"glossary.json\") as jsonfile:\n",
    "    glossary = json.load(jsonfile)\n",
    "    glossary = glossary[\"glossary\"]\n",
    "    print(glossary[\"title\"])\n",
    "    print (glossary)"
   ]
  },
  {
   "cell_type": "code",
   "execution_count": null,
   "id": "a9022aef",
   "metadata": {},
   "outputs": [],
   "source": []
  },
  {
   "cell_type": "code",
   "execution_count": null,
   "id": "69f61f04",
   "metadata": {},
   "outputs": [],
   "source": []
  },
  {
   "cell_type": "code",
   "execution_count": null,
   "id": "b6ae3ca9",
   "metadata": {},
   "outputs": [],
   "source": []
  },
  {
   "cell_type": "code",
   "execution_count": null,
   "id": "e6b52f35",
   "metadata": {},
   "outputs": [],
   "source": []
  },
  {
   "cell_type": "code",
   "execution_count": null,
   "id": "c61c097b",
   "metadata": {},
   "outputs": [],
   "source": []
  }
 ],
 "metadata": {
  "kernelspec": {
   "display_name": "Python 3",
   "language": "python",
   "name": "python3"
  },
  "language_info": {
   "codemirror_mode": {
    "name": "ipython",
    "version": 3
   },
   "file_extension": ".py",
   "mimetype": "text/x-python",
   "name": "python",
   "nbconvert_exporter": "python",
   "pygments_lexer": "ipython3",
   "version": "3.7.11"
  }
 },
 "nbformat": 4,
 "nbformat_minor": 5
}
