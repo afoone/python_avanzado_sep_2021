{
 "cells": [
  {
   "cell_type": "code",
   "execution_count": 3,
   "id": "8de7ab5f",
   "metadata": {},
   "outputs": [],
   "source": [
    "# programación estructurada\n",
    "\n",
    "clientes = [{\n",
    "    \"nombre\": \"alfonso\",\n",
    "    \"edad\": 47\n",
    "},\n",
    "{\n",
    "    \"nombre\": \"pepito\",\n",
    "    \"edad\": 34\n",
    "}]"
   ]
  },
  {
   "cell_type": "code",
   "execution_count": 4,
   "id": "1b49b952",
   "metadata": {},
   "outputs": [
    {
     "data": {
      "text/plain": [
       "[{'nombre': 'alfonso', 'edad': 47}, {'nombre': 'pepito', 'edad': 34}]"
      ]
     },
     "execution_count": 4,
     "metadata": {},
     "output_type": "execute_result"
    }
   ],
   "source": [
    "clientes\n"
   ]
  },
  {
   "cell_type": "code",
   "execution_count": 11,
   "id": "154d3453",
   "metadata": {},
   "outputs": [],
   "source": [
    "def mostrar_cliente(clientes, nombre):\n",
    "    for c in clientes:\n",
    "        if (nombre == c[\"nombre\"]):\n",
    "            print (f'nombre {c[\"nombre\"]} edad {c[\"edad\"]}')\n",
    "            return\n",
    "    print (\"no encontrado\")"
   ]
  },
  {
   "cell_type": "code",
   "execution_count": 12,
   "id": "c335e548",
   "metadata": {},
   "outputs": [
    {
     "name": "stdout",
     "output_type": "stream",
     "text": [
      "nombre alfonso edad 47\n"
     ]
    }
   ],
   "source": [
    "mostrar_cliente(clientes, \"alfonso\")"
   ]
  },
  {
   "cell_type": "code",
   "execution_count": 13,
   "id": "b1efa195",
   "metadata": {},
   "outputs": [
    {
     "name": "stdout",
     "output_type": "stream",
     "text": [
      "no encontrado\n"
     ]
    }
   ],
   "source": [
    "mostrar_cliente(clientes, \"juanillo\")"
   ]
  },
  {
   "cell_type": "code",
   "execution_count": 14,
   "id": "392ed246",
   "metadata": {},
   "outputs": [],
   "source": [
    "# Class\n",
    "class Perro:\n",
    "    pass\n",
    "\n"
   ]
  },
  {
   "cell_type": "code",
   "execution_count": 15,
   "id": "50853166",
   "metadata": {},
   "outputs": [],
   "source": [
    "sultan = Perro()"
   ]
  },
  {
   "cell_type": "code",
   "execution_count": 16,
   "id": "468e2b66",
   "metadata": {},
   "outputs": [],
   "source": [
    "mocho = Perro()"
   ]
  },
  {
   "cell_type": "code",
   "execution_count": 17,
   "id": "7bce1111",
   "metadata": {},
   "outputs": [
    {
     "data": {
      "text/plain": [
       "139922922986896"
      ]
     },
     "execution_count": 17,
     "metadata": {},
     "output_type": "execute_result"
    }
   ],
   "source": [
    "id(sultan)"
   ]
  },
  {
   "cell_type": "code",
   "execution_count": 18,
   "id": "ad78e1bf",
   "metadata": {},
   "outputs": [
    {
     "data": {
      "text/plain": [
       "139922923033296"
      ]
     },
     "execution_count": 18,
     "metadata": {},
     "output_type": "execute_result"
    }
   ],
   "source": [
    "id(mocho)"
   ]
  },
  {
   "cell_type": "code",
   "execution_count": 19,
   "id": "000279ba",
   "metadata": {},
   "outputs": [
    {
     "data": {
      "text/plain": [
       "__main__.Perro"
      ]
     },
     "execution_count": 19,
     "metadata": {},
     "output_type": "execute_result"
    }
   ],
   "source": [
    "type(mocho)"
   ]
  },
  {
   "cell_type": "code",
   "execution_count": 20,
   "id": "4852fd15",
   "metadata": {},
   "outputs": [
    {
     "data": {
      "text/plain": [
       "int"
      ]
     },
     "execution_count": 20,
     "metadata": {},
     "output_type": "execute_result"
    }
   ],
   "source": [
    "type(10)"
   ]
  },
  {
   "cell_type": "code",
   "execution_count": 21,
   "id": "21a84576",
   "metadata": {},
   "outputs": [
    {
     "data": {
      "text/plain": [
       "__main__.Perro"
      ]
     },
     "execution_count": 21,
     "metadata": {},
     "output_type": "execute_result"
    }
   ],
   "source": [
    "type(sultan)"
   ]
  },
  {
   "cell_type": "code",
   "execution_count": 22,
   "id": "ccb3c7f6",
   "metadata": {},
   "outputs": [],
   "source": [
    "mocho.nombre = \"Mocho\""
   ]
  },
  {
   "cell_type": "code",
   "execution_count": 23,
   "id": "951cc33f",
   "metadata": {},
   "outputs": [
    {
     "data": {
      "text/plain": [
       "<__main__.Perro at 0x7f42581f92d0>"
      ]
     },
     "execution_count": 23,
     "metadata": {},
     "output_type": "execute_result"
    }
   ],
   "source": [
    "mocho"
   ]
  },
  {
   "cell_type": "code",
   "execution_count": 24,
   "id": "ad15212f",
   "metadata": {},
   "outputs": [
    {
     "data": {
      "text/plain": [
       "'Mocho'"
      ]
     },
     "execution_count": 24,
     "metadata": {},
     "output_type": "execute_result"
    }
   ],
   "source": [
    "mocho.nombre"
   ]
  },
  {
   "cell_type": "code",
   "execution_count": 25,
   "id": "3858b417",
   "metadata": {},
   "outputs": [
    {
     "ename": "AttributeError",
     "evalue": "'Perro' object has no attribute 'nombre'",
     "output_type": "error",
     "traceback": [
      "\u001b[0;31m---------------------------------------------------------------------------\u001b[0m",
      "\u001b[0;31mAttributeError\u001b[0m                            Traceback (most recent call last)",
      "\u001b[0;32m<ipython-input-25-51edfd65ba75>\u001b[0m in \u001b[0;36m<module>\u001b[0;34m\u001b[0m\n\u001b[0;32m----> 1\u001b[0;31m \u001b[0msultan\u001b[0m\u001b[0;34m.\u001b[0m\u001b[0mnombre\u001b[0m\u001b[0;34m\u001b[0m\u001b[0;34m\u001b[0m\u001b[0m\n\u001b[0m",
      "\u001b[0;31mAttributeError\u001b[0m: 'Perro' object has no attribute 'nombre'"
     ]
    }
   ],
   "source": [
    "sultan.nombre"
   ]
  },
  {
   "cell_type": "code",
   "execution_count": 26,
   "id": "d709667d",
   "metadata": {},
   "outputs": [],
   "source": [
    "class Galleta:\n",
    "    chocolate = True\n",
    "    \n",
    "g = Galleta()"
   ]
  },
  {
   "cell_type": "code",
   "execution_count": 27,
   "id": "4dd6c057",
   "metadata": {},
   "outputs": [
    {
     "data": {
      "text/plain": [
       "True"
      ]
     },
     "execution_count": 27,
     "metadata": {},
     "output_type": "execute_result"
    }
   ],
   "source": [
    "g.chocolate"
   ]
  },
  {
   "cell_type": "code",
   "execution_count": 28,
   "id": "160297fa",
   "metadata": {},
   "outputs": [],
   "source": [
    "g.chocolate = False"
   ]
  },
  {
   "cell_type": "code",
   "execution_count": 29,
   "id": "75a25d9b",
   "metadata": {},
   "outputs": [
    {
     "data": {
      "text/plain": [
       "False"
      ]
     },
     "execution_count": 29,
     "metadata": {},
     "output_type": "execute_result"
    }
   ],
   "source": [
    "g.chocolate"
   ]
  },
  {
   "cell_type": "code",
   "execution_count": 32,
   "id": "467b749c",
   "metadata": {},
   "outputs": [
    {
     "name": "stdout",
     "output_type": "stream",
     "text": [
      "se ha creado una galleta\n"
     ]
    }
   ],
   "source": [
    "# __init__\n",
    "class Galleta:\n",
    "    chocolate = False\n",
    "    \n",
    "    def __init__(self):\n",
    "        print (\"se ha creado una galleta\")\n",
    "        \n",
    "g = Galleta()"
   ]
  },
  {
   "cell_type": "code",
   "execution_count": 33,
   "id": "3752a96c",
   "metadata": {},
   "outputs": [
    {
     "data": {
      "text/plain": [
       "False"
      ]
     },
     "execution_count": 33,
     "metadata": {},
     "output_type": "execute_result"
    }
   ],
   "source": [
    "g.chocolate"
   ]
  },
  {
   "cell_type": "code",
   "execution_count": 34,
   "id": "58232b8e",
   "metadata": {},
   "outputs": [
    {
     "name": "stdout",
     "output_type": "stream",
     "text": [
      "se ha creado una galleta\n"
     ]
    }
   ],
   "source": [
    "# __init__\n",
    "class Galleta:\n",
    "    chocolate = False\n",
    "    \n",
    "    def __init__(self):\n",
    "        print (\"se ha creado una galleta\")\n",
    "        \n",
    "    def chocolatear(self):\n",
    "        self.chocolate = True\n",
    "        \n",
    "g = Galleta()"
   ]
  },
  {
   "cell_type": "code",
   "execution_count": 35,
   "id": "6466960f",
   "metadata": {},
   "outputs": [
    {
     "data": {
      "text/plain": [
       "False"
      ]
     },
     "execution_count": 35,
     "metadata": {},
     "output_type": "execute_result"
    }
   ],
   "source": [
    "g.chocolate"
   ]
  },
  {
   "cell_type": "code",
   "execution_count": 36,
   "id": "f7ad087b",
   "metadata": {},
   "outputs": [],
   "source": [
    "g.chocolatear()"
   ]
  },
  {
   "cell_type": "code",
   "execution_count": 37,
   "id": "57bc1e5f",
   "metadata": {},
   "outputs": [
    {
     "data": {
      "text/plain": [
       "True"
      ]
     },
     "execution_count": 37,
     "metadata": {},
     "output_type": "execute_result"
    }
   ],
   "source": [
    "g.chocolate"
   ]
  },
  {
   "cell_type": "code",
   "execution_count": 38,
   "id": "0c0798dd",
   "metadata": {},
   "outputs": [
    {
     "name": "stdout",
     "output_type": "stream",
     "text": [
      "se ha creado una galleta\n"
     ]
    }
   ],
   "source": [
    "# __init__\n",
    "class Galleta:\n",
    "    chocolate = False\n",
    "    \n",
    "    def __init__(self):\n",
    "        print (\"se ha creado una galleta\")\n",
    "        \n",
    "    def chocolatear(self):\n",
    "        self.chocolate = True\n",
    "        \n",
    "    def definir_chocolate(self):\n",
    "        if self.chocolate:\n",
    "            return \"Chocolateada\"\n",
    "        else:\n",
    "            return \"Sin chocolate\"\n",
    "        \n",
    "g = Galleta()"
   ]
  },
  {
   "cell_type": "code",
   "execution_count": 39,
   "id": "2d7999d9",
   "metadata": {},
   "outputs": [
    {
     "data": {
      "text/plain": [
       "'Sin chocolate'"
      ]
     },
     "execution_count": 39,
     "metadata": {},
     "output_type": "execute_result"
    }
   ],
   "source": [
    "g.definir_chocolate()"
   ]
  },
  {
   "cell_type": "code",
   "execution_count": 40,
   "id": "bd057cba",
   "metadata": {},
   "outputs": [],
   "source": [
    "g.chocolatear()"
   ]
  },
  {
   "cell_type": "code",
   "execution_count": 41,
   "id": "861a6c90",
   "metadata": {},
   "outputs": [
    {
     "data": {
      "text/plain": [
       "'Chocolateada'"
      ]
     },
     "execution_count": 41,
     "metadata": {},
     "output_type": "execute_result"
    }
   ],
   "source": [
    "g.definir_chocolate()"
   ]
  },
  {
   "cell_type": "code",
   "execution_count": 48,
   "id": "460a5a42",
   "metadata": {},
   "outputs": [
    {
     "name": "stdout",
     "output_type": "stream",
     "text": [
      "se ha creado una galleta\n"
     ]
    }
   ],
   "source": [
    "# __init__\n",
    "class Galleta:\n",
    "    chocolate = False\n",
    "    \n",
    "    def __init__(self, sabor, color):\n",
    "        print (\"se ha creado una galleta\")\n",
    "        self.sabor = sabor\n",
    "        self.color = color\n",
    "        \n",
    "    def chocolatear(self):\n",
    "        self.chocolate = True\n",
    "        \n",
    "    def definir_chocolate(self):\n",
    "        if self.chocolate:\n",
    "            return \"Chocolateada\"\n",
    "        else:\n",
    "            return \"Sin chocolate\"\n",
    "        \n",
    "g = Galleta(\"salada\", \"amarilla\", True)"
   ]
  },
  {
   "cell_type": "code",
   "execution_count": 49,
   "id": "485c6d49",
   "metadata": {},
   "outputs": [
    {
     "data": {
      "text/plain": [
       "True"
      ]
     },
     "execution_count": 49,
     "metadata": {},
     "output_type": "execute_result"
    }
   ],
   "source": [
    "g.chocolate"
   ]
  },
  {
   "cell_type": "code",
   "execution_count": null,
   "id": "9bd295f1",
   "metadata": {},
   "outputs": [],
   "source": []
  },
  {
   "cell_type": "code",
   "execution_count": 45,
   "id": "6f89843b",
   "metadata": {},
   "outputs": [
    {
     "data": {
      "text/plain": [
       "'salada'"
      ]
     },
     "execution_count": 45,
     "metadata": {},
     "output_type": "execute_result"
    }
   ],
   "source": [
    "g.sabor"
   ]
  },
  {
   "cell_type": "code",
   "execution_count": 46,
   "id": "8ab71f88",
   "metadata": {},
   "outputs": [
    {
     "data": {
      "text/plain": [
       "'amarilla'"
      ]
     },
     "execution_count": 46,
     "metadata": {},
     "output_type": "execute_result"
    }
   ],
   "source": [
    "g.color"
   ]
  },
  {
   "cell_type": "code",
   "execution_count": 47,
   "id": "234f7143",
   "metadata": {},
   "outputs": [
    {
     "data": {
      "text/plain": [
       "False"
      ]
     },
     "execution_count": 47,
     "metadata": {},
     "output_type": "execute_result"
    }
   ],
   "source": [
    "g.chocolate"
   ]
  },
  {
   "cell_type": "code",
   "execution_count": 50,
   "id": "63edd33d",
   "metadata": {},
   "outputs": [
    {
     "data": {
      "text/plain": [
       "False"
      ]
     },
     "execution_count": 50,
     "metadata": {},
     "output_type": "execute_result"
    }
   ],
   "source": [
    "Galleta.chocolate"
   ]
  },
  {
   "cell_type": "code",
   "execution_count": 51,
   "id": "5174a9a4",
   "metadata": {},
   "outputs": [],
   "source": [
    "Galleta.chocolate = True"
   ]
  },
  {
   "cell_type": "code",
   "execution_count": 52,
   "id": "bce633ab",
   "metadata": {},
   "outputs": [
    {
     "data": {
      "text/plain": [
       "True"
      ]
     },
     "execution_count": 52,
     "metadata": {},
     "output_type": "execute_result"
    }
   ],
   "source": [
    "Galleta.chocolate "
   ]
  },
  {
   "cell_type": "code",
   "execution_count": 65,
   "id": "e1a4f7a0",
   "metadata": {},
   "outputs": [],
   "source": [
    "class Pelicula:\n",
    "    def __init__(self, titulo, duracion, lanzamiento):\n",
    "        self.titulo = titulo\n",
    "        self.duracion = duracion\n",
    "        self.lanzamiento = lanzamiento\n",
    "        print (\"se ha creado la peli \", self.titulo)\n",
    "    \n",
    "    def __del__(self):\n",
    "        print(\"se está borrando la peli \", self.titulo)\n",
    "    \n",
    "    def __str__(self):\n",
    "        return f'Pelicula {self.titulo}: {self.duracion} minutos, año {self.lanzamiento}'\n",
    "        \n",
    "        "
   ]
  },
  {
   "cell_type": "code",
   "execution_count": 66,
   "id": "f463d250",
   "metadata": {},
   "outputs": [
    {
     "name": "stdout",
     "output_type": "stream",
     "text": [
      "se ha creado la peli  El padrino\n",
      "se está borrando la peli  El padrino\n"
     ]
    }
   ],
   "source": [
    "p = Pelicula(\"El padrino\", 100, \"1976\")"
   ]
  },
  {
   "cell_type": "code",
   "execution_count": 67,
   "id": "04766026",
   "metadata": {},
   "outputs": [
    {
     "name": "stdout",
     "output_type": "stream",
     "text": [
      "Pelicula El padrino: 100 minutos, año 1976\n"
     ]
    }
   ],
   "source": [
    "print(p)"
   ]
  },
  {
   "cell_type": "code",
   "execution_count": 68,
   "id": "5a7f67cd",
   "metadata": {},
   "outputs": [
    {
     "data": {
      "text/plain": [
       "'Pelicula El padrino: 100 minutos, año 1976'"
      ]
     },
     "execution_count": 68,
     "metadata": {},
     "output_type": "execute_result"
    }
   ],
   "source": [
    "str(p)"
   ]
  },
  {
   "cell_type": "code",
   "execution_count": 57,
   "id": "75db2394",
   "metadata": {},
   "outputs": [
    {
     "name": "stdout",
     "output_type": "stream",
     "text": [
      "se está borrando la peli  El padrino\n"
     ]
    }
   ],
   "source": [
    "del p"
   ]
  },
  {
   "cell_type": "code",
   "execution_count": 58,
   "id": "af853a1d",
   "metadata": {},
   "outputs": [
    {
     "ename": "NameError",
     "evalue": "name 'p' is not defined",
     "output_type": "error",
     "traceback": [
      "\u001b[0;31m---------------------------------------------------------------------------\u001b[0m",
      "\u001b[0;31mNameError\u001b[0m                                 Traceback (most recent call last)",
      "\u001b[0;32m<ipython-input-58-6c10289a8da7>\u001b[0m in \u001b[0;36m<module>\u001b[0;34m\u001b[0m\n\u001b[0;32m----> 1\u001b[0;31m \u001b[0mp\u001b[0m\u001b[0;34m\u001b[0m\u001b[0;34m\u001b[0m\u001b[0m\n\u001b[0m",
      "\u001b[0;31mNameError\u001b[0m: name 'p' is not defined"
     ]
    }
   ],
   "source": [
    "p"
   ]
  },
  {
   "cell_type": "code",
   "execution_count": 69,
   "id": "facc7720",
   "metadata": {},
   "outputs": [],
   "source": [
    "class Catalogo:\n",
    "    def __init__(self):\n",
    "        self.peliculas = []\n",
    "    \n",
    "    def add_pelicula(self, p):\n",
    "        self.peliculas.append(p)\n",
    "    \n",
    "    def mostrar(self):\n",
    "        for p in self.peliculas:\n",
    "            print (p)"
   ]
  },
  {
   "cell_type": "code",
   "execution_count": 71,
   "id": "fbe1fceb",
   "metadata": {},
   "outputs": [
    {
     "name": "stdout",
     "output_type": "stream",
     "text": [
      "se ha creado la peli  el padrino\n",
      "se está borrando la peli  el padrino\n"
     ]
    }
   ],
   "source": [
    "p = Pelicula(\"el padrino\", 100, \"1976\")\n"
   ]
  },
  {
   "cell_type": "code",
   "execution_count": 72,
   "id": "e062ac20",
   "metadata": {},
   "outputs": [
    {
     "data": {
      "text/plain": [
       "'Pelicula el padrino: 100 minutos, año 1976'"
      ]
     },
     "execution_count": 72,
     "metadata": {},
     "output_type": "execute_result"
    }
   ],
   "source": [
    "str(p)"
   ]
  },
  {
   "cell_type": "code",
   "execution_count": 73,
   "id": "4c4fe8c3",
   "metadata": {},
   "outputs": [
    {
     "name": "stdout",
     "output_type": "stream",
     "text": [
      "se ha creado la peli  El padrino 2\n"
     ]
    }
   ],
   "source": [
    "p2 = Pelicula (\"El padrino 2\", 200, \"1978\")"
   ]
  },
  {
   "cell_type": "code",
   "execution_count": 74,
   "id": "d71ecb4e",
   "metadata": {},
   "outputs": [],
   "source": [
    "c = Catalogo()"
   ]
  },
  {
   "cell_type": "code",
   "execution_count": 75,
   "id": "a0ed781e",
   "metadata": {},
   "outputs": [],
   "source": [
    "c.add_pelicula(p)"
   ]
  },
  {
   "cell_type": "code",
   "execution_count": 76,
   "id": "f4ae5f19",
   "metadata": {},
   "outputs": [
    {
     "name": "stdout",
     "output_type": "stream",
     "text": [
      "Pelicula el padrino: 100 minutos, año 1976\n"
     ]
    }
   ],
   "source": [
    "c.mostrar()"
   ]
  },
  {
   "cell_type": "code",
   "execution_count": 77,
   "id": "ce6b0d43",
   "metadata": {},
   "outputs": [],
   "source": [
    "c.add_pelicula(p2)"
   ]
  },
  {
   "cell_type": "code",
   "execution_count": 78,
   "id": "3c1ff1a9",
   "metadata": {},
   "outputs": [
    {
     "name": "stdout",
     "output_type": "stream",
     "text": [
      "Pelicula el padrino: 100 minutos, año 1976\n",
      "Pelicula El padrino 2: 200 minutos, año 1978\n"
     ]
    }
   ],
   "source": [
    "c.mostrar()"
   ]
  },
  {
   "cell_type": "markdown",
   "id": "8a831152",
   "metadata": {},
   "source": [
    "\n",
    "# encapsulacion\n"
   ]
  },
  {
   "cell_type": "code",
   "execution_count": 107,
   "id": "1c4ce76d",
   "metadata": {},
   "outputs": [],
   "source": [
    "class Spam:\n",
    "    __private_attribute = \"privado\"\n",
    "        \n",
    "    def __private_method(self):\n",
    "        print (\"soy privado\")\n",
    "    \n",
    "    def get_private_attribute(self):\n",
    "        return __private_attribute"
   ]
  },
  {
   "cell_type": "code",
   "execution_count": 108,
   "id": "c93d0ead",
   "metadata": {},
   "outputs": [],
   "source": [
    "s = Spam()"
   ]
  },
  {
   "cell_type": "code",
   "execution_count": 109,
   "id": "4d20045b",
   "metadata": {},
   "outputs": [
    {
     "ename": "AttributeError",
     "evalue": "'Spam' object has no attribute '__private_method'",
     "output_type": "error",
     "traceback": [
      "\u001b[0;31m---------------------------------------------------------------------------\u001b[0m",
      "\u001b[0;31mAttributeError\u001b[0m                            Traceback (most recent call last)",
      "\u001b[0;32m<ipython-input-109-09d7bf400a54>\u001b[0m in \u001b[0;36m<module>\u001b[0;34m\u001b[0m\n\u001b[0;32m----> 1\u001b[0;31m \u001b[0ms\u001b[0m\u001b[0;34m.\u001b[0m\u001b[0m__private_method\u001b[0m\u001b[0;34m(\u001b[0m\u001b[0;34m)\u001b[0m\u001b[0;34m\u001b[0m\u001b[0;34m\u001b[0m\u001b[0m\n\u001b[0m",
      "\u001b[0;31mAttributeError\u001b[0m: 'Spam' object has no attribute '__private_method'"
     ]
    }
   ],
   "source": [
    "s.__private_method()"
   ]
  },
  {
   "cell_type": "code",
   "execution_count": 110,
   "id": "d41f8096",
   "metadata": {},
   "outputs": [
    {
     "ename": "AttributeError",
     "evalue": "'Spam' object has no attribute '__private_attribute'",
     "output_type": "error",
     "traceback": [
      "\u001b[0;31m---------------------------------------------------------------------------\u001b[0m",
      "\u001b[0;31mAttributeError\u001b[0m                            Traceback (most recent call last)",
      "\u001b[0;32m<ipython-input-110-27de68be4001>\u001b[0m in \u001b[0;36m<module>\u001b[0;34m\u001b[0m\n\u001b[0;32m----> 1\u001b[0;31m \u001b[0ms\u001b[0m\u001b[0;34m.\u001b[0m\u001b[0m__private_attribute\u001b[0m\u001b[0;34m\u001b[0m\u001b[0;34m\u001b[0m\u001b[0m\n\u001b[0m",
      "\u001b[0;31mAttributeError\u001b[0m: 'Spam' object has no attribute '__private_attribute'"
     ]
    }
   ],
   "source": [
    "s.__private_attribute"
   ]
  },
  {
   "cell_type": "code",
   "execution_count": 111,
   "id": "3d8e5c29",
   "metadata": {},
   "outputs": [
    {
     "ename": "NameError",
     "evalue": "name '_Spam__private_attribute' is not defined",
     "output_type": "error",
     "traceback": [
      "\u001b[0;31m---------------------------------------------------------------------------\u001b[0m",
      "\u001b[0;31mNameError\u001b[0m                                 Traceback (most recent call last)",
      "\u001b[0;32m<ipython-input-111-f81707232236>\u001b[0m in \u001b[0;36m<module>\u001b[0;34m\u001b[0m\n\u001b[0;32m----> 1\u001b[0;31m \u001b[0ms\u001b[0m\u001b[0;34m.\u001b[0m\u001b[0mget_private_attribute\u001b[0m\u001b[0;34m(\u001b[0m\u001b[0;34m)\u001b[0m\u001b[0;34m\u001b[0m\u001b[0;34m\u001b[0m\u001b[0m\n\u001b[0m",
      "\u001b[0;32m<ipython-input-107-0769d723713b>\u001b[0m in \u001b[0;36mget_private_attribute\u001b[0;34m(self)\u001b[0m\n\u001b[1;32m      6\u001b[0m \u001b[0;34m\u001b[0m\u001b[0m\n\u001b[1;32m      7\u001b[0m     \u001b[0;32mdef\u001b[0m \u001b[0mget_private_attribute\u001b[0m\u001b[0;34m(\u001b[0m\u001b[0mself\u001b[0m\u001b[0;34m)\u001b[0m\u001b[0;34m:\u001b[0m\u001b[0;34m\u001b[0m\u001b[0;34m\u001b[0m\u001b[0m\n\u001b[0;32m----> 8\u001b[0;31m         \u001b[0;32mreturn\u001b[0m \u001b[0m__private_attribute\u001b[0m\u001b[0;34m\u001b[0m\u001b[0;34m\u001b[0m\u001b[0m\n\u001b[0m",
      "\u001b[0;31mNameError\u001b[0m: name '_Spam__private_attribute' is not defined"
     ]
    }
   ],
   "source": [
    "s.get_private_attribute()"
   ]
  },
  {
   "cell_type": "markdown",
   "id": "a204639d",
   "metadata": {},
   "source": [
    "# Herencia"
   ]
  },
  {
   "cell_type": "code",
   "execution_count": 113,
   "id": "dfbd4a42",
   "metadata": {},
   "outputs": [],
   "source": [
    "class Producto: \n",
    "    def __init__(self, referencia, tipo, nombre, pvp, descripcion, productor = None, distribuidor = None, isbn = None, autor= None):\n",
    "        self.referencia = referencia\n",
    "        self.tipo = tipo\n",
    "        self.nombre = nombre\n",
    "        self.pvp = pvp\n",
    "        self.descripcion= descripcion\n",
    "        self.productor = productor\n",
    "        self.distribuidor = distribuidor \n",
    "        self.isbn = isbn\n",
    "        self.autor = autor\n",
    "        "
   ]
  },
  {
   "cell_type": "code",
   "execution_count": null,
   "id": "4dec90fb",
   "metadata": {},
   "outputs": [],
   "source": []
  },
  {
   "cell_type": "code",
   "execution_count": 114,
   "id": "e4eb09e7",
   "metadata": {},
   "outputs": [],
   "source": [
    "mesa = Producto(\"00A\", \"mesa\", \"mesa camilla desc\", 15, \"mesa camilla desc\")"
   ]
  },
  {
   "cell_type": "code",
   "execution_count": 115,
   "id": "a5ed0345",
   "metadata": {},
   "outputs": [
    {
     "data": {
      "text/plain": [
       "'00A'"
      ]
     },
     "execution_count": 115,
     "metadata": {},
     "output_type": "execute_result"
    }
   ],
   "source": [
    "mesa.referencia"
   ]
  },
  {
   "cell_type": "code",
   "execution_count": 117,
   "id": "cc543358",
   "metadata": {},
   "outputs": [],
   "source": [
    "class Producto: \n",
    "    def __init__(self, referencia, tipo, nombre, pvp, descripcion):\n",
    "        self.referencia = referencia\n",
    "        self.tipo = tipo\n",
    "        self.nombre = nombre\n",
    "        self.pvp = pvp\n",
    "        self.descripcion= descripcion\n",
    "    \n",
    "    def __str__(self):\n",
    "        return \"\"\"\n",
    "        Referencia {}\n",
    "        Nombre {}\n",
    "        pvp {}\n",
    "        descripcion {}\n",
    "        \"\"\".format(self.referencia, self.tipo, self.pvp, self.descripcion)"
   ]
  },
  {
   "cell_type": "code",
   "execution_count": 118,
   "id": "f52faf90",
   "metadata": {},
   "outputs": [],
   "source": [
    "class Libro(Producto):\n",
    "    pass"
   ]
  },
  {
   "cell_type": "code",
   "execution_count": 121,
   "id": "a131ae5c",
   "metadata": {},
   "outputs": [],
   "source": [
    "hombre = Libro(\"ksdjf\", \"ensayo\", \"el hombre en busca de destino\" ,15, \"el hombre en busca de destino\")"
   ]
  },
  {
   "cell_type": "code",
   "execution_count": 122,
   "id": "56d87bfb",
   "metadata": {},
   "outputs": [
    {
     "name": "stdout",
     "output_type": "stream",
     "text": [
      "\n",
      "        Referencia ksdjf\n",
      "        Nombre ensayo\n",
      "        pvp 15\n",
      "        descripcion el hombre en busca de destino\n",
      "        \n"
     ]
    }
   ],
   "source": [
    "print(hombre)"
   ]
  },
  {
   "cell_type": "code",
   "execution_count": 129,
   "id": "1cc544bc",
   "metadata": {},
   "outputs": [],
   "source": [
    "class Libro(Producto):\n",
    "    def __init__(self, referencia, tipo, nombre, pvp, descripcion, isbn , autor):\n",
    "        super().__init__(referencia, tipo, nombre, pvp, descripcion)\n",
    "        self.isbn = isbn\n",
    "        self.autor = autor"
   ]
  },
  {
   "cell_type": "code",
   "execution_count": null,
   "id": "6bebe44d",
   "metadata": {},
   "outputs": [],
   "source": []
  },
  {
   "cell_type": "code",
   "execution_count": null,
   "id": "3f5319b1",
   "metadata": {},
   "outputs": [],
   "source": []
  },
  {
   "cell_type": "code",
   "execution_count": 130,
   "id": "58663551",
   "metadata": {},
   "outputs": [
    {
     "ename": "TypeError",
     "evalue": "__init__() missing 2 required positional arguments: 'isbn' and 'autor'",
     "output_type": "error",
     "traceback": [
      "\u001b[0;31m---------------------------------------------------------------------------\u001b[0m",
      "\u001b[0;31mTypeError\u001b[0m                                 Traceback (most recent call last)",
      "\u001b[0;32m<ipython-input-130-564993460e76>\u001b[0m in \u001b[0;36m<module>\u001b[0;34m\u001b[0m\n\u001b[0;32m----> 1\u001b[0;31m \u001b[0mhombre\u001b[0m \u001b[0;34m=\u001b[0m \u001b[0mLibro\u001b[0m\u001b[0;34m(\u001b[0m\u001b[0;34m\"ksdjf\"\u001b[0m\u001b[0;34m,\u001b[0m \u001b[0;34m\"ensayo\"\u001b[0m\u001b[0;34m,\u001b[0m \u001b[0;34m\"el hombre en busca de destino\"\u001b[0m \u001b[0;34m,\u001b[0m\u001b[0;36m15\u001b[0m\u001b[0;34m,\u001b[0m \u001b[0;34m\"el hombre en busca de destino\"\u001b[0m\u001b[0;34m)\u001b[0m\u001b[0;34m\u001b[0m\u001b[0;34m\u001b[0m\u001b[0m\n\u001b[0m",
      "\u001b[0;31mTypeError\u001b[0m: __init__() missing 2 required positional arguments: 'isbn' and 'autor'"
     ]
    }
   ],
   "source": [
    "hombre = Libro(\"ksdjf\", \"ensayo\", \"el hombre en busca de destino\" ,15, \"el hombre en busca de destino\")"
   ]
  },
  {
   "cell_type": "code",
   "execution_count": 131,
   "id": "f9bd89da",
   "metadata": {},
   "outputs": [],
   "source": [
    "hombre = Libro(\"ksdjf\", \"ensayo\", \"el hombre en busca de destino\" ,15, \"el hombre en busca de destino\",\"kdsj\", \"Victor Frankl\")"
   ]
  },
  {
   "cell_type": "code",
   "execution_count": 132,
   "id": "fa441e07",
   "metadata": {},
   "outputs": [
    {
     "name": "stdout",
     "output_type": "stream",
     "text": [
      "\n",
      "        Referencia ksdjf\n",
      "        Nombre ensayo\n",
      "        pvp 15\n",
      "        descripcion el hombre en busca de destino\n",
      "        \n"
     ]
    }
   ],
   "source": [
    "print(hombre)"
   ]
  },
  {
   "cell_type": "markdown",
   "id": "53d2e7f9",
   "metadata": {},
   "source": [
    "# Herencia Múltiple\n",
    "\n"
   ]
  },
  {
   "cell_type": "code",
   "execution_count": 135,
   "id": "8909a4f3",
   "metadata": {},
   "outputs": [],
   "source": [
    "class A: \n",
    "    def __init__(self):\n",
    "        print(\"soy de clase a\")\n",
    "    def a(self):\n",
    "        print (\"este metodo es de a\")\n",
    "\n",
    "class B: \n",
    "    def __init__(self):\n",
    "        print(\"soy de clase b\")\n",
    "    def b(self):\n",
    "        print (\"este metodo es de b\")\n",
    "\n",
    "class C(A, B): \n",
    "    def __init__(self):\n",
    "        print(\"soy de clase c\")\n",
    "    def c(self):\n",
    "        print (\"este metodo es de c\")\n"
   ]
  },
  {
   "cell_type": "code",
   "execution_count": null,
   "id": "99de85ba",
   "metadata": {},
   "outputs": [],
   "source": []
  },
  {
   "cell_type": "code",
   "execution_count": 136,
   "id": "17f62ae3",
   "metadata": {},
   "outputs": [
    {
     "name": "stdout",
     "output_type": "stream",
     "text": [
      "soy de clase c\n"
     ]
    }
   ],
   "source": [
    "c = C()"
   ]
  },
  {
   "cell_type": "code",
   "execution_count": 137,
   "id": "77b1d217",
   "metadata": {},
   "outputs": [
    {
     "name": "stdout",
     "output_type": "stream",
     "text": [
      "este metodo es de a\n"
     ]
    }
   ],
   "source": [
    "c.a()"
   ]
  },
  {
   "cell_type": "code",
   "execution_count": 138,
   "id": "2fe5da19",
   "metadata": {},
   "outputs": [
    {
     "name": "stdout",
     "output_type": "stream",
     "text": [
      "este metodo es de b\n"
     ]
    }
   ],
   "source": [
    "c.b()"
   ]
  },
  {
   "cell_type": "code",
   "execution_count": 139,
   "id": "599b5f47",
   "metadata": {},
   "outputs": [
    {
     "name": "stdout",
     "output_type": "stream",
     "text": [
      "este metodo es de c\n"
     ]
    }
   ],
   "source": [
    "c.c()"
   ]
  },
  {
   "cell_type": "code",
   "execution_count": 146,
   "id": "3010f777",
   "metadata": {},
   "outputs": [
    {
     "name": "stdout",
     "output_type": "stream",
     "text": [
      "soy de clase c\n"
     ]
    }
   ],
   "source": [
    "class A: \n",
    "    def __init__(self):\n",
    "        print(\"soy de clase a\")\n",
    "    def a(self):\n",
    "        print (\"este metodo es de a\")\n",
    "    def d(self):\n",
    "        print (\"este metodo es de a\")\n",
    "\n",
    "class B: \n",
    "    def __init__(self):\n",
    "        print(\"soy de clase b\")\n",
    "    def b(self):\n",
    "        print (\"este metodo es de b\")\n",
    "    def d(self):\n",
    "        print (\"este metodo es de b\")\n",
    "\n",
    "\n",
    "class C(B, A): \n",
    "    def __init__(self):\n",
    "        print(\"soy de clase c\")\n",
    "    def c(self):\n",
    "        print (\"este metodo es de c\")\n",
    "\n",
    "c = C()"
   ]
  },
  {
   "cell_type": "code",
   "execution_count": 147,
   "id": "f1929b07",
   "metadata": {},
   "outputs": [
    {
     "name": "stdout",
     "output_type": "stream",
     "text": [
      "este metodo es de b\n"
     ]
    }
   ],
   "source": [
    "c.d()"
   ]
  },
  {
   "cell_type": "markdown",
   "id": "9b3582a1",
   "metadata": {},
   "source": [
    "# Decoradores de clase\n",
    "\n",
    "## @property\n",
    "\n",
    "- @property - declara el método como una propiedad\n",
    "- @(nombre_de_la_propiedad).setter: crea el setter de una propiedad\n",
    "- @(nombre_de_la_propiedad).deleter: crea el deleter de una propidad"
   ]
  },
  {
   "cell_type": "code",
   "execution_count": 150,
   "id": "a4bf19ba",
   "metadata": {},
   "outputs": [
    {
     "name": "stdout",
     "output_type": "stream",
     "text": [
      "se está borrando la peli  el padrino\n"
     ]
    }
   ],
   "source": [
    "class Persona:\n",
    "    \n",
    "    def __init__(self, nombre):\n",
    "        self.__nombre = nombre\n",
    "        \n",
    "\n",
    "p = Persona(\"Laura\")"
   ]
  },
  {
   "cell_type": "code",
   "execution_count": 151,
   "id": "31b9254b",
   "metadata": {},
   "outputs": [
    {
     "ename": "AttributeError",
     "evalue": "'Persona' object has no attribute '__nombre'",
     "output_type": "error",
     "traceback": [
      "\u001b[0;31m---------------------------------------------------------------------------\u001b[0m",
      "\u001b[0;31mAttributeError\u001b[0m                            Traceback (most recent call last)",
      "\u001b[0;32m<ipython-input-151-7309f6a5cc78>\u001b[0m in \u001b[0;36m<module>\u001b[0;34m\u001b[0m\n\u001b[0;32m----> 1\u001b[0;31m \u001b[0mp\u001b[0m\u001b[0;34m.\u001b[0m\u001b[0m__nombre\u001b[0m\u001b[0;34m\u001b[0m\u001b[0;34m\u001b[0m\u001b[0m\n\u001b[0m",
      "\u001b[0;31mAttributeError\u001b[0m: 'Persona' object has no attribute '__nombre'"
     ]
    }
   ],
   "source": [
    "p.__nombre"
   ]
  },
  {
   "cell_type": "code",
   "execution_count": 155,
   "id": "0876084b",
   "metadata": {},
   "outputs": [],
   "source": [
    "class Persona:\n",
    "    \n",
    "    def __init__(self, nombre):\n",
    "        self.__nombre = nombre\n",
    "    \n",
    "    @property\n",
    "    def nombre(self):\n",
    "        return self.__nombre\n",
    "        \n",
    "\n",
    "p = Persona(\"Laura\")"
   ]
  },
  {
   "cell_type": "code",
   "execution_count": null,
   "id": "58ffc8c1",
   "metadata": {},
   "outputs": [],
   "source": []
  },
  {
   "cell_type": "code",
   "execution_count": 153,
   "id": "c93e9841",
   "metadata": {},
   "outputs": [
    {
     "data": {
      "text/plain": [
       "'Laura'"
      ]
     },
     "execution_count": 153,
     "metadata": {},
     "output_type": "execute_result"
    }
   ],
   "source": []
  },
  {
   "cell_type": "code",
   "execution_count": 156,
   "id": "5f9487ab",
   "metadata": {},
   "outputs": [
    {
     "data": {
      "text/plain": [
       "'Laura'"
      ]
     },
     "execution_count": 156,
     "metadata": {},
     "output_type": "execute_result"
    }
   ],
   "source": [
    "p.nombre"
   ]
  },
  {
   "cell_type": "code",
   "execution_count": 157,
   "id": "6b3aaf13",
   "metadata": {},
   "outputs": [
    {
     "ename": "AttributeError",
     "evalue": "can't set attribute",
     "output_type": "error",
     "traceback": [
      "\u001b[0;31m---------------------------------------------------------------------------\u001b[0m",
      "\u001b[0;31mAttributeError\u001b[0m                            Traceback (most recent call last)",
      "\u001b[0;32m<ipython-input-157-6a3f711036cb>\u001b[0m in \u001b[0;36m<module>\u001b[0;34m\u001b[0m\n\u001b[0;32m----> 1\u001b[0;31m \u001b[0mp\u001b[0m\u001b[0;34m.\u001b[0m\u001b[0mnombre\u001b[0m \u001b[0;34m=\u001b[0m \u001b[0;34m\"Maria Laura\"\u001b[0m\u001b[0;34m\u001b[0m\u001b[0;34m\u001b[0m\u001b[0m\n\u001b[0m",
      "\u001b[0;31mAttributeError\u001b[0m: can't set attribute"
     ]
    }
   ],
   "source": [
    "p.nombre = \"Maria Laura\""
   ]
  },
  {
   "cell_type": "code",
   "execution_count": 162,
   "id": "78774a91",
   "metadata": {},
   "outputs": [],
   "source": [
    "class Persona:\n",
    "    \n",
    "    def __init__(self, nombre):\n",
    "        self.__nombre = nombre\n",
    "    \n",
    "    @property\n",
    "    def nombre(self):\n",
    "        return self.__nombre\n",
    "    \n",
    "    @nombre.setter #nombre-de-la-propiedad.setter\n",
    "    def nombre(self, nombre):\n",
    "        self.__nombre = nombre\n",
    "        \n",
    "\n",
    "p = Persona(\"Laura\")"
   ]
  },
  {
   "cell_type": "code",
   "execution_count": 163,
   "id": "307d0e8d",
   "metadata": {},
   "outputs": [],
   "source": [
    "p.nombre = \"Maria Laura\""
   ]
  },
  {
   "cell_type": "code",
   "execution_count": 164,
   "id": "dc206452",
   "metadata": {},
   "outputs": [
    {
     "data": {
      "text/plain": [
       "'Maria Laura'"
      ]
     },
     "execution_count": 164,
     "metadata": {},
     "output_type": "execute_result"
    }
   ],
   "source": [
    "p.nombre"
   ]
  },
  {
   "cell_type": "code",
   "execution_count": 170,
   "id": "74bec4ff",
   "metadata": {},
   "outputs": [],
   "source": [
    "# Nos permite jugar con los setters\n",
    "class Persona:\n",
    "    \n",
    "    def __init__(self, nombre):\n",
    "        self.__nombre = nombre.upper()\n",
    "    \n",
    "    @property\n",
    "    def nombre(self):\n",
    "        return self.__nombre\n",
    "    \n",
    "    @nombre.setter #nombre-de-la-propiedad.setter\n",
    "    def nombre(self, nombre):\n",
    "        self.__nombre = nombre.upper()\n",
    "        \n",
    "\n",
    "p = Persona(\"Laura\")"
   ]
  },
  {
   "cell_type": "code",
   "execution_count": 171,
   "id": "a18b6e10",
   "metadata": {},
   "outputs": [
    {
     "data": {
      "text/plain": [
       "'LAURA'"
      ]
     },
     "execution_count": 171,
     "metadata": {},
     "output_type": "execute_result"
    }
   ],
   "source": [
    "p.nombre"
   ]
  },
  {
   "cell_type": "code",
   "execution_count": 172,
   "id": "39fc18d9",
   "metadata": {},
   "outputs": [],
   "source": [
    "p.nombre = \"Maria Laura\""
   ]
  },
  {
   "cell_type": "code",
   "execution_count": 173,
   "id": "e0f32dd6",
   "metadata": {},
   "outputs": [
    {
     "data": {
      "text/plain": [
       "'MARIA LAURA'"
      ]
     },
     "execution_count": 173,
     "metadata": {},
     "output_type": "execute_result"
    }
   ],
   "source": [
    "p.nombre"
   ]
  },
  {
   "cell_type": "code",
   "execution_count": 174,
   "id": "f2398939",
   "metadata": {},
   "outputs": [
    {
     "ename": "AttributeError",
     "evalue": "can't delete attribute",
     "output_type": "error",
     "traceback": [
      "\u001b[0;31m---------------------------------------------------------------------------\u001b[0m",
      "\u001b[0;31mAttributeError\u001b[0m                            Traceback (most recent call last)",
      "\u001b[0;32m<ipython-input-174-d34507d5616d>\u001b[0m in \u001b[0;36m<module>\u001b[0;34m\u001b[0m\n\u001b[0;32m----> 1\u001b[0;31m \u001b[0;32mdel\u001b[0m \u001b[0mp\u001b[0m\u001b[0;34m.\u001b[0m\u001b[0mnombre\u001b[0m\u001b[0;34m\u001b[0m\u001b[0;34m\u001b[0m\u001b[0m\n\u001b[0m",
      "\u001b[0;31mAttributeError\u001b[0m: can't delete attribute"
     ]
    }
   ],
   "source": [
    "del p.nombre"
   ]
  },
  {
   "cell_type": "code",
   "execution_count": 175,
   "id": "5dadcd49",
   "metadata": {},
   "outputs": [],
   "source": [
    "# Nos permite jugar con los setters\n",
    "class Persona:\n",
    "    \n",
    "    def __init__(self, nombre):\n",
    "        self.__nombre = nombre.upper()\n",
    "    \n",
    "    @property\n",
    "    def nombre(self):\n",
    "        return self.__nombre\n",
    "    \n",
    "    @nombre.setter #nombre-de-la-propiedad.setter\n",
    "    def nombre(self, nombre):\n",
    "        self.__nombre = nombre.upper()\n",
    "    \n",
    "    @nombre.deleter \n",
    "    def nombre(self):\n",
    "        del self.__nombre\n",
    "        \n",
    "\n",
    "p = Persona(\"Laura\")"
   ]
  },
  {
   "cell_type": "code",
   "execution_count": 176,
   "id": "0a82ea7d",
   "metadata": {},
   "outputs": [
    {
     "data": {
      "text/plain": [
       "'LAURA'"
      ]
     },
     "execution_count": 176,
     "metadata": {},
     "output_type": "execute_result"
    }
   ],
   "source": [
    "p.nombre"
   ]
  },
  {
   "cell_type": "code",
   "execution_count": 177,
   "id": "304b16a3",
   "metadata": {},
   "outputs": [],
   "source": [
    "del p.nombre"
   ]
  },
  {
   "cell_type": "code",
   "execution_count": 178,
   "id": "4054b9cd",
   "metadata": {},
   "outputs": [
    {
     "ename": "AttributeError",
     "evalue": "'Persona' object has no attribute '_Persona__nombre'",
     "output_type": "error",
     "traceback": [
      "\u001b[0;31m---------------------------------------------------------------------------\u001b[0m",
      "\u001b[0;31mAttributeError\u001b[0m                            Traceback (most recent call last)",
      "\u001b[0;32m<ipython-input-178-9f9ccbd53597>\u001b[0m in \u001b[0;36m<module>\u001b[0;34m\u001b[0m\n\u001b[0;32m----> 1\u001b[0;31m \u001b[0mp\u001b[0m\u001b[0;34m.\u001b[0m\u001b[0mnombre\u001b[0m\u001b[0;34m\u001b[0m\u001b[0;34m\u001b[0m\u001b[0m\n\u001b[0m",
      "\u001b[0;32m<ipython-input-175-7e9025c8297a>\u001b[0m in \u001b[0;36mnombre\u001b[0;34m(self)\u001b[0m\n\u001b[1;32m      7\u001b[0m     \u001b[0;34m@\u001b[0m\u001b[0mproperty\u001b[0m\u001b[0;34m\u001b[0m\u001b[0;34m\u001b[0m\u001b[0m\n\u001b[1;32m      8\u001b[0m     \u001b[0;32mdef\u001b[0m \u001b[0mnombre\u001b[0m\u001b[0;34m(\u001b[0m\u001b[0mself\u001b[0m\u001b[0;34m)\u001b[0m\u001b[0;34m:\u001b[0m\u001b[0;34m\u001b[0m\u001b[0;34m\u001b[0m\u001b[0m\n\u001b[0;32m----> 9\u001b[0;31m         \u001b[0;32mreturn\u001b[0m \u001b[0mself\u001b[0m\u001b[0;34m.\u001b[0m\u001b[0m__nombre\u001b[0m\u001b[0;34m\u001b[0m\u001b[0;34m\u001b[0m\u001b[0m\n\u001b[0m\u001b[1;32m     10\u001b[0m \u001b[0;34m\u001b[0m\u001b[0m\n\u001b[1;32m     11\u001b[0m     \u001b[0;34m@\u001b[0m\u001b[0mnombre\u001b[0m\u001b[0;34m.\u001b[0m\u001b[0msetter\u001b[0m \u001b[0;31m#nombre-de-la-propiedad.setter\u001b[0m\u001b[0;34m\u001b[0m\u001b[0;34m\u001b[0m\u001b[0m\n",
      "\u001b[0;31mAttributeError\u001b[0m: 'Persona' object has no attribute '_Persona__nombre'"
     ]
    }
   ],
   "source": [
    "p.nombre"
   ]
  },
  {
   "cell_type": "markdown",
   "id": "3ab1f64d",
   "metadata": {},
   "source": [
    "# @classmethod"
   ]
  },
  {
   "cell_type": "markdown",
   "id": "687358f2",
   "metadata": {},
   "source": [
    "- Persona.clmethod()\n",
    "- p.clmethod()\n"
   ]
  },
  {
   "cell_type": "code",
   "execution_count": 190,
   "id": "f7f8776e",
   "metadata": {},
   "outputs": [],
   "source": [
    "# Nos permite jugar con los setters\n",
    "class Persona:\n",
    "    tipo = \"humano\"\n",
    "    \n",
    "    def __init__(self):\n",
    "        self.age = 20\n",
    "    \n",
    "    @classmethod\n",
    "    def imprime(clase):\n",
    "        print (f'Persona de tipo {clase.tipo}')"
   ]
  },
  {
   "cell_type": "code",
   "execution_count": null,
   "id": "fa9ae897",
   "metadata": {},
   "outputs": [],
   "source": []
  },
  {
   "cell_type": "code",
   "execution_count": 191,
   "id": "778e72ac",
   "metadata": {},
   "outputs": [
    {
     "name": "stdout",
     "output_type": "stream",
     "text": [
      "Persona de tipo humano\n"
     ]
    }
   ],
   "source": [
    "Persona.imprime()"
   ]
  },
  {
   "cell_type": "code",
   "execution_count": 192,
   "id": "b920d56a",
   "metadata": {},
   "outputs": [],
   "source": [
    "p = Persona()"
   ]
  },
  {
   "cell_type": "code",
   "execution_count": 193,
   "id": "7003708e",
   "metadata": {},
   "outputs": [
    {
     "data": {
      "text/plain": [
       "20"
      ]
     },
     "execution_count": 193,
     "metadata": {},
     "output_type": "execute_result"
    }
   ],
   "source": [
    "p.age"
   ]
  },
  {
   "cell_type": "code",
   "execution_count": 194,
   "id": "2e74d0c1",
   "metadata": {},
   "outputs": [
    {
     "name": "stdout",
     "output_type": "stream",
     "text": [
      "Persona de tipo humano\n"
     ]
    }
   ],
   "source": [
    "p.imprime()"
   ]
  },
  {
   "cell_type": "code",
   "execution_count": 196,
   "id": "1e09dccd",
   "metadata": {},
   "outputs": [],
   "source": [
    "p = Persona()"
   ]
  },
  {
   "cell_type": "code",
   "execution_count": 197,
   "id": "c3583199",
   "metadata": {},
   "outputs": [],
   "source": [
    "# Nos permite jugar con los setters\n",
    "class Persona:\n",
    "    tipo = \"humano\"\n",
    "    \n",
    "    def __init__(self, name, age):\n",
    "        self.age = age\n",
    "        self.name = name\n",
    "    \n",
    "    @classmethod\n",
    "    def create_instance(clase, name, age):\n",
    "        return clase(name, age)"
   ]
  },
  {
   "cell_type": "code",
   "execution_count": 198,
   "id": "be605022",
   "metadata": {},
   "outputs": [],
   "source": [
    "p = Persona.create_instance(\"Laura\", 14)"
   ]
  },
  {
   "cell_type": "code",
   "execution_count": 199,
   "id": "586a8993",
   "metadata": {},
   "outputs": [
    {
     "data": {
      "text/plain": [
       "'Laura'"
      ]
     },
     "execution_count": 199,
     "metadata": {},
     "output_type": "execute_result"
    }
   ],
   "source": [
    "p.name"
   ]
  },
  {
   "cell_type": "code",
   "execution_count": 200,
   "id": "af029d77",
   "metadata": {},
   "outputs": [
    {
     "data": {
      "text/plain": [
       "14"
      ]
     },
     "execution_count": 200,
     "metadata": {},
     "output_type": "execute_result"
    }
   ],
   "source": [
    "p.age"
   ]
  },
  {
   "cell_type": "markdown",
   "id": "0be72398",
   "metadata": {},
   "source": [
    "# @staticmethod\n",
    "\n",
    "- classmethod: puede acceder a los atributos de clase y devolver objetos de la clase\n",
    "- staticmethod: no puede acceder a los atributos de la clase ni devolver objetos de clase"
   ]
  },
  {
   "cell_type": "code",
   "execution_count": 203,
   "id": "95b26143",
   "metadata": {},
   "outputs": [],
   "source": [
    "class Persona:\n",
    "    tipo = \"humano\"\n",
    "    \n",
    "    def __init__(self):\n",
    "        self.age = 20\n",
    "    \n",
    "    @staticmethod\n",
    "    def imprime():\n",
    "        print (f'Persona de tipo desconocido')"
   ]
  },
  {
   "cell_type": "code",
   "execution_count": 204,
   "id": "82e3b0e8",
   "metadata": {},
   "outputs": [
    {
     "name": "stdout",
     "output_type": "stream",
     "text": [
      "Persona de tipo desconocido\n"
     ]
    }
   ],
   "source": [
    "Persona.imprime()"
   ]
  },
  {
   "cell_type": "code",
   "execution_count": 205,
   "id": "3c487869",
   "metadata": {},
   "outputs": [],
   "source": [
    "class Calculadora:\n",
    "    \n",
    "    @staticmethod\n",
    "    def sumar(a,b):\n",
    "        return a+b"
   ]
  },
  {
   "cell_type": "code",
   "execution_count": 206,
   "id": "839c0363",
   "metadata": {},
   "outputs": [
    {
     "data": {
      "text/plain": [
       "9"
      ]
     },
     "execution_count": 206,
     "metadata": {},
     "output_type": "execute_result"
    }
   ],
   "source": [
    "Calculadora.sumar(4,5)"
   ]
  },
  {
   "cell_type": "code",
   "execution_count": null,
   "id": "0bc27c80",
   "metadata": {},
   "outputs": [],
   "source": []
  },
  {
   "cell_type": "code",
   "execution_count": null,
   "id": "58103468",
   "metadata": {},
   "outputs": [],
   "source": []
  },
  {
   "cell_type": "code",
   "execution_count": null,
   "id": "757313de",
   "metadata": {},
   "outputs": [],
   "source": []
  },
  {
   "cell_type": "code",
   "execution_count": null,
   "id": "a669e611",
   "metadata": {},
   "outputs": [],
   "source": []
  },
  {
   "cell_type": "code",
   "execution_count": null,
   "id": "3c042af8",
   "metadata": {},
   "outputs": [],
   "source": []
  },
  {
   "cell_type": "code",
   "execution_count": null,
   "id": "445df53b",
   "metadata": {},
   "outputs": [],
   "source": []
  },
  {
   "cell_type": "code",
   "execution_count": null,
   "id": "958e5d32",
   "metadata": {},
   "outputs": [],
   "source": []
  },
  {
   "cell_type": "code",
   "execution_count": null,
   "id": "373d2b1a",
   "metadata": {},
   "outputs": [],
   "source": []
  },
  {
   "cell_type": "code",
   "execution_count": null,
   "id": "aaaa950a",
   "metadata": {},
   "outputs": [],
   "source": []
  },
  {
   "cell_type": "code",
   "execution_count": null,
   "id": "fbc533ed",
   "metadata": {},
   "outputs": [],
   "source": []
  },
  {
   "cell_type": "code",
   "execution_count": null,
   "id": "1a5e4e56",
   "metadata": {},
   "outputs": [],
   "source": []
  },
  {
   "cell_type": "code",
   "execution_count": null,
   "id": "c25c0ead",
   "metadata": {},
   "outputs": [],
   "source": []
  },
  {
   "cell_type": "code",
   "execution_count": null,
   "id": "af83bec2",
   "metadata": {},
   "outputs": [],
   "source": []
  },
  {
   "cell_type": "code",
   "execution_count": null,
   "id": "903c9b72",
   "metadata": {},
   "outputs": [],
   "source": []
  },
  {
   "cell_type": "code",
   "execution_count": null,
   "id": "e153c3cb",
   "metadata": {},
   "outputs": [],
   "source": []
  },
  {
   "cell_type": "code",
   "execution_count": null,
   "id": "3f90054a",
   "metadata": {},
   "outputs": [],
   "source": []
  },
  {
   "cell_type": "code",
   "execution_count": null,
   "id": "9bf65492",
   "metadata": {},
   "outputs": [],
   "source": []
  },
  {
   "cell_type": "code",
   "execution_count": null,
   "id": "a1260565",
   "metadata": {},
   "outputs": [],
   "source": []
  },
  {
   "cell_type": "code",
   "execution_count": null,
   "id": "33f1fe8a",
   "metadata": {},
   "outputs": [],
   "source": []
  },
  {
   "cell_type": "code",
   "execution_count": null,
   "id": "b64227df",
   "metadata": {},
   "outputs": [],
   "source": []
  },
  {
   "cell_type": "code",
   "execution_count": null,
   "id": "de4f7076",
   "metadata": {},
   "outputs": [],
   "source": []
  },
  {
   "cell_type": "code",
   "execution_count": null,
   "id": "4de7d37b",
   "metadata": {},
   "outputs": [],
   "source": []
  },
  {
   "cell_type": "code",
   "execution_count": null,
   "id": "9bde85db",
   "metadata": {},
   "outputs": [],
   "source": []
  },
  {
   "cell_type": "code",
   "execution_count": null,
   "id": "dc3927f2",
   "metadata": {},
   "outputs": [],
   "source": []
  },
  {
   "cell_type": "code",
   "execution_count": null,
   "id": "5958b755",
   "metadata": {},
   "outputs": [],
   "source": []
  },
  {
   "cell_type": "code",
   "execution_count": null,
   "id": "35735fe8",
   "metadata": {},
   "outputs": [],
   "source": []
  }
 ],
 "metadata": {
  "kernelspec": {
   "display_name": "Python 3",
   "language": "python",
   "name": "python3"
  },
  "language_info": {
   "codemirror_mode": {
    "name": "ipython",
    "version": 3
   },
   "file_extension": ".py",
   "mimetype": "text/x-python",
   "name": "python",
   "nbconvert_exporter": "python",
   "pygments_lexer": "ipython3",
   "version": "3.7.11"
  }
 },
 "nbformat": 4,
 "nbformat_minor": 5
}
