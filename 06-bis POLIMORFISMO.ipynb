{
 "cells": [
  {
   "cell_type": "code",
   "execution_count": 1,
   "id": "2bcbd61c",
   "metadata": {},
   "outputs": [],
   "source": [
    "# Polimorfismo"
   ]
  },
  {
   "cell_type": "code",
   "execution_count": 2,
   "id": "900fb5bb",
   "metadata": {},
   "outputs": [],
   "source": [
    "# Java -> interfaces y clases abstractas"
   ]
  },
  {
   "cell_type": "code",
   "execution_count": 17,
   "id": "02b3d1b6",
   "metadata": {},
   "outputs": [],
   "source": [
    "import math\n",
    "\n",
    "class Forma:\n",
    "    def area(self):\n",
    "        pass\n",
    "    \n",
    "class Rectangulo(Forma):\n",
    "    def __init__(self, x =0, y = 0):\n",
    "        self.x = x\n",
    "        self.y = y\n",
    "    \n",
    "    def area(self):\n",
    "        return self.x * self.y\n",
    "    \n",
    "class Circulo(Forma):\n",
    "    def __init__(self, r =0):\n",
    "        self.r = r\n"
   ]
  },
  {
   "cell_type": "code",
   "execution_count": 18,
   "id": "d7044b24",
   "metadata": {},
   "outputs": [
    {
     "ename": "TypeError",
     "evalue": "unsupported operand type(s) for +=: 'int' and 'NoneType'",
     "output_type": "error",
     "traceback": [
      "\u001b[0;31m---------------------------------------------------------------------------\u001b[0m",
      "\u001b[0;31mTypeError\u001b[0m                                 Traceback (most recent call last)",
      "\u001b[0;32m<ipython-input-18-c4d5ddff54a2>\u001b[0m in \u001b[0;36m<module>\u001b[0;34m\u001b[0m\n\u001b[1;32m      3\u001b[0m \u001b[0mtotal_area\u001b[0m \u001b[0;34m=\u001b[0m \u001b[0;36m0\u001b[0m\u001b[0;34m\u001b[0m\u001b[0;34m\u001b[0m\u001b[0m\n\u001b[1;32m      4\u001b[0m \u001b[0;32mfor\u001b[0m \u001b[0mf\u001b[0m \u001b[0;32min\u001b[0m \u001b[0mformas\u001b[0m\u001b[0;34m:\u001b[0m\u001b[0;34m\u001b[0m\u001b[0;34m\u001b[0m\u001b[0m\n\u001b[0;32m----> 5\u001b[0;31m     \u001b[0mtotal_area\u001b[0m \u001b[0;34m+=\u001b[0m \u001b[0mf\u001b[0m\u001b[0;34m.\u001b[0m\u001b[0marea\u001b[0m\u001b[0;34m(\u001b[0m\u001b[0;34m)\u001b[0m\u001b[0;34m\u001b[0m\u001b[0;34m\u001b[0m\u001b[0m\n\u001b[0m\u001b[1;32m      6\u001b[0m \u001b[0;34m\u001b[0m\u001b[0m\n\u001b[1;32m      7\u001b[0m \u001b[0mtotal_area\u001b[0m\u001b[0;34m\u001b[0m\u001b[0;34m\u001b[0m\u001b[0m\n",
      "\u001b[0;31mTypeError\u001b[0m: unsupported operand type(s) for +=: 'int' and 'NoneType'"
     ]
    }
   ],
   "source": [
    "formas = [Rectangulo(2,3), Circulo(3)]\n",
    "\n",
    "total_area = 0\n",
    "for f in formas:\n",
    "    total_area += f.area()\n",
    "    \n",
    "total_area"
   ]
  },
  {
   "cell_type": "code",
   "execution_count": 24,
   "id": "0b37993b",
   "metadata": {},
   "outputs": [
    {
     "ename": "NotImplementedError",
     "evalue": "",
     "output_type": "error",
     "traceback": [
      "\u001b[0;31m---------------------------------------------------------------------------\u001b[0m",
      "\u001b[0;31mNotImplementedError\u001b[0m                       Traceback (most recent call last)",
      "\u001b[0;32m<ipython-input-24-1c004b18168d>\u001b[0m in \u001b[0;36m<module>\u001b[0;34m\u001b[0m\n\u001b[1;32m     22\u001b[0m \u001b[0mtotal_area\u001b[0m \u001b[0;34m=\u001b[0m \u001b[0;36m0\u001b[0m\u001b[0;34m\u001b[0m\u001b[0;34m\u001b[0m\u001b[0m\n\u001b[1;32m     23\u001b[0m \u001b[0;32mfor\u001b[0m \u001b[0mf\u001b[0m \u001b[0;32min\u001b[0m \u001b[0mformas\u001b[0m\u001b[0;34m:\u001b[0m\u001b[0;34m\u001b[0m\u001b[0;34m\u001b[0m\u001b[0m\n\u001b[0;32m---> 24\u001b[0;31m     \u001b[0mtotal_area\u001b[0m \u001b[0;34m+=\u001b[0m \u001b[0mf\u001b[0m\u001b[0;34m.\u001b[0m\u001b[0marea\u001b[0m\u001b[0;34m(\u001b[0m\u001b[0;34m)\u001b[0m\u001b[0;34m\u001b[0m\u001b[0;34m\u001b[0m\u001b[0m\n\u001b[0m\u001b[1;32m     25\u001b[0m \u001b[0;34m\u001b[0m\u001b[0m\n\u001b[1;32m     26\u001b[0m \u001b[0mtotal_area\u001b[0m\u001b[0;34m\u001b[0m\u001b[0;34m\u001b[0m\u001b[0m\n",
      "\u001b[0;32m<ipython-input-24-1c004b18168d>\u001b[0m in \u001b[0;36marea\u001b[0;34m(self)\u001b[0m\n\u001b[1;32m      3\u001b[0m \u001b[0;32mclass\u001b[0m \u001b[0mForma\u001b[0m\u001b[0;34m:\u001b[0m\u001b[0;34m\u001b[0m\u001b[0;34m\u001b[0m\u001b[0m\n\u001b[1;32m      4\u001b[0m     \u001b[0;32mdef\u001b[0m \u001b[0marea\u001b[0m\u001b[0;34m(\u001b[0m\u001b[0mself\u001b[0m\u001b[0;34m)\u001b[0m\u001b[0;34m:\u001b[0m\u001b[0;34m\u001b[0m\u001b[0;34m\u001b[0m\u001b[0m\n\u001b[0;32m----> 5\u001b[0;31m         \u001b[0;32mraise\u001b[0m \u001b[0mNotImplementedError\u001b[0m\u001b[0;34m\u001b[0m\u001b[0;34m\u001b[0m\u001b[0m\n\u001b[0m\u001b[1;32m      6\u001b[0m \u001b[0;34m\u001b[0m\u001b[0m\n\u001b[1;32m      7\u001b[0m \u001b[0;32mclass\u001b[0m \u001b[0mRectangulo\u001b[0m\u001b[0;34m(\u001b[0m\u001b[0mForma\u001b[0m\u001b[0;34m)\u001b[0m\u001b[0;34m:\u001b[0m\u001b[0;34m\u001b[0m\u001b[0;34m\u001b[0m\u001b[0m\n",
      "\u001b[0;31mNotImplementedError\u001b[0m: "
     ]
    }
   ],
   "source": [
    "import math\n",
    "\n",
    "class Forma:\n",
    "    def area(self):\n",
    "        raise NotImplementedError\n",
    "    \n",
    "class Rectangulo(Forma):\n",
    "    def __init__(self, x =0, y = 0):\n",
    "        self.x = x\n",
    "        self.y = y\n",
    "    \n",
    "    def area(self):\n",
    "        return self.x * self.y\n",
    "    \n",
    "class Circulo(Forma):\n",
    "    def __init__(self, r =0):\n",
    "        self.r = r\n",
    "\n",
    "        \n",
    "formas = [Rectangulo(2,3), Circulo(3)]\n",
    "\n",
    "total_area = 0\n",
    "for f in formas:\n",
    "    total_area += f.area()\n",
    "    \n",
    "total_area"
   ]
  },
  {
   "cell_type": "code",
   "execution_count": 29,
   "id": "2a497bd0",
   "metadata": {},
   "outputs": [
    {
     "name": "stdout",
     "output_type": "stream",
     "text": [
      "hola\n",
      "hola\n"
     ]
    },
    {
     "data": {
      "text/plain": [
       "34.27433388230814"
      ]
     },
     "execution_count": 29,
     "metadata": {},
     "output_type": "execute_result"
    }
   ],
   "source": [
    "import math\n",
    "import abc\n",
    "\n",
    "class Forma(metaclass = abc.ABCMeta):\n",
    "    \n",
    "    def hola(self):\n",
    "        print(\"hola\")\n",
    "    \n",
    "    @abc.abstractmethod\n",
    "    def area(self):\n",
    "        pass\n",
    "    \n",
    "class Rectangulo(Forma):\n",
    "    def __init__(self, x =0, y = 0):\n",
    "        self.x = x\n",
    "        self.y = y\n",
    "    \n",
    "    def area(self):\n",
    "        return self.x * self.y\n",
    "    \n",
    "class Circulo(Forma):\n",
    "    def __init__(self, r =0):\n",
    "        self.r = r\n",
    "        \n",
    "    def area(self):\n",
    "        return math.pi*self.r*self.r\n",
    "\n",
    "        \n",
    "formas = [Rectangulo(2,3), Circulo(3)]\n",
    "\n",
    "total_area = 0\n",
    "for f in formas:\n",
    "    total_area += f.area()\n",
    "    f.hola()\n",
    "    \n",
    "total_area"
   ]
  },
  {
   "cell_type": "code",
   "execution_count": null,
   "id": "b795686e",
   "metadata": {},
   "outputs": [],
   "source": []
  }
 ],
 "metadata": {
  "kernelspec": {
   "display_name": "Python 3",
   "language": "python",
   "name": "python3"
  },
  "language_info": {
   "codemirror_mode": {
    "name": "ipython",
    "version": 3
   },
   "file_extension": ".py",
   "mimetype": "text/x-python",
   "name": "python",
   "nbconvert_exporter": "python",
   "pygments_lexer": "ipython3",
   "version": "3.7.11"
  }
 },
 "nbformat": 4,
 "nbformat_minor": 5
}
