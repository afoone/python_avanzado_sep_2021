{
 "cells": [
  {
   "cell_type": "code",
   "execution_count": 6,
   "id": "e5852bf3",
   "metadata": {},
   "outputs": [
    {
     "data": {
      "text/plain": [
       "Ciudad(name='Valencia', population=700000)"
      ]
     },
     "execution_count": 6,
     "metadata": {},
     "output_type": "execute_result"
    }
   ],
   "source": [
    "from dataclasses import dataclass, field\n",
    "\n",
    "@dataclass(order = True)\n",
    "class Ciudad:\n",
    "    name: str = field (repr = True, compare = False)\n",
    "    population: int = field (repr = True, compare = True)\n",
    "    area: float = field(repr = False, compare = False)\n",
    "        \n",
    "    def personas_por_metro_cuadrado(self):\n",
    "        return self.population / self.area\n",
    "    \n",
    "valencia = Ciudad(\"Valencia\", 700000, 100000)\n",
    "valencia.name = \"Valencia\"\n",
    "valencia\n",
    "    \n"
   ]
  },
  {
   "cell_type": "code",
   "execution_count": 7,
   "id": "2ad3b8f7",
   "metadata": {},
   "outputs": [
    {
     "data": {
      "text/plain": [
       "True"
      ]
     },
     "execution_count": 7,
     "metadata": {},
     "output_type": "execute_result"
    }
   ],
   "source": [
    "valencia == valencia"
   ]
  },
  {
   "cell_type": "code",
   "execution_count": 8,
   "id": "e41e3363",
   "metadata": {},
   "outputs": [],
   "source": [
    "bilbao = Ciudad(\"Bilbao\", 300000,  100000)"
   ]
  },
  {
   "cell_type": "code",
   "execution_count": 9,
   "id": "14287153",
   "metadata": {},
   "outputs": [
    {
     "data": {
      "text/plain": [
       "False"
      ]
     },
     "execution_count": 9,
     "metadata": {},
     "output_type": "execute_result"
    }
   ],
   "source": [
    "bilbao > valencia"
   ]
  },
  {
   "cell_type": "code",
   "execution_count": 10,
   "id": "76ed42eb",
   "metadata": {},
   "outputs": [
    {
     "data": {
      "text/plain": [
       "True"
      ]
     },
     "execution_count": 10,
     "metadata": {},
     "output_type": "execute_result"
    }
   ],
   "source": [
    "valencia > bilbao"
   ]
  },
  {
   "cell_type": "code",
   "execution_count": 13,
   "id": "d0343c8d",
   "metadata": {},
   "outputs": [],
   "source": [
    "lista = [valencia, bilbao]"
   ]
  },
  {
   "cell_type": "code",
   "execution_count": null,
   "id": "b73a5f4a",
   "metadata": {},
   "outputs": [],
   "source": []
  },
  {
   "cell_type": "code",
   "execution_count": 14,
   "id": "b6b34198",
   "metadata": {},
   "outputs": [
    {
     "data": {
      "text/plain": [
       "[Ciudad(name='Bilbao', population=300000),\n",
       " Ciudad(name='Valencia', population=700000)]"
      ]
     },
     "execution_count": 14,
     "metadata": {},
     "output_type": "execute_result"
    }
   ],
   "source": [
    "sorted(lista)"
   ]
  },
  {
   "cell_type": "code",
   "execution_count": null,
   "id": "3f57ffdb",
   "metadata": {},
   "outputs": [],
   "source": [
    "# module attributes"
   ]
  },
  {
   "cell_type": "code",
   "execution_count": 15,
   "id": "50fc3ba2",
   "metadata": {},
   "outputs": [],
   "source": [
    "import random"
   ]
  },
  {
   "cell_type": "code",
   "execution_count": 16,
   "id": "397b755f",
   "metadata": {},
   "outputs": [
    {
     "data": {
      "text/plain": [
       "1.935626554144567"
      ]
     },
     "execution_count": 16,
     "metadata": {},
     "output_type": "execute_result"
    }
   ],
   "source": [
    "random.gammavariate(1,1)"
   ]
  },
  {
   "cell_type": "code",
   "execution_count": 17,
   "id": "d9a4f3ee",
   "metadata": {},
   "outputs": [
    {
     "data": {
      "text/plain": [
       "6.952432510029809"
      ]
     },
     "execution_count": 17,
     "metadata": {},
     "output_type": "execute_result"
    }
   ],
   "source": [
    "random.lognormvariate(1,1)"
   ]
  },
  {
   "cell_type": "code",
   "execution_count": 20,
   "id": "e43d098c",
   "metadata": {},
   "outputs": [
    {
     "name": "stdout",
     "output_type": "stream",
     "text": [
      "Con la funcion lognormvariate nos da el resultado 3.611560117722762\n"
     ]
    }
   ],
   "source": [
    "random_function = random.choice((\"gammavariate\", \"lognormvariate\", \"normalvariate\"))\n",
    "function_to_execute = getattr(random,random_function)\n",
    "\n",
    "print(f'Con la funcion {random_function} nos da el resultado {function_to_execute(1,1)}')"
   ]
  },
  {
   "cell_type": "code",
   "execution_count": 22,
   "id": "1aca8da2",
   "metadata": {},
   "outputs": [
    {
     "ename": "NameError",
     "evalue": "name 'Tree' is not defined",
     "output_type": "error",
     "traceback": [
      "\u001b[0;31m---------------------------------------------------------------------------\u001b[0m",
      "\u001b[0;31mNameError\u001b[0m                                 Traceback (most recent call last)",
      "\u001b[0;32m<ipython-input-22-89cca0b2c9cf>\u001b[0m in \u001b[0;36m<module>\u001b[0;34m\u001b[0m\n\u001b[1;32m      1\u001b[0m \u001b[0;31m# codigo futuro\u001b[0m\u001b[0;34m\u001b[0m\u001b[0;34m\u001b[0m\u001b[0;34m\u001b[0m\u001b[0m\n\u001b[0;32m----> 2\u001b[0;31m \u001b[0;32mclass\u001b[0m \u001b[0mTree\u001b[0m\u001b[0;34m:\u001b[0m\u001b[0;34m\u001b[0m\u001b[0;34m\u001b[0m\u001b[0m\n\u001b[0m\u001b[1;32m      3\u001b[0m     \u001b[0;32mdef\u001b[0m \u001b[0m__init__\u001b[0m \u001b[0;34m(\u001b[0m\u001b[0mself\u001b[0m\u001b[0;34m,\u001b[0m \u001b[0mleft\u001b[0m\u001b[0;34m:\u001b[0m \u001b[0mTree\u001b[0m\u001b[0;34m,\u001b[0m \u001b[0mright\u001b[0m\u001b[0;34m:\u001b[0m \u001b[0mTree\u001b[0m\u001b[0;34m)\u001b[0m \u001b[0;34m->\u001b[0m \u001b[0;32mNone\u001b[0m\u001b[0;34m:\u001b[0m\u001b[0;34m\u001b[0m\u001b[0;34m\u001b[0m\u001b[0m\n\u001b[1;32m      4\u001b[0m         \u001b[0mself\u001b[0m\u001b[0;34m.\u001b[0m\u001b[0mleft\u001b[0m \u001b[0;34m=\u001b[0m \u001b[0mleft\u001b[0m\u001b[0;34m\u001b[0m\u001b[0;34m\u001b[0m\u001b[0m\n\u001b[1;32m      5\u001b[0m         \u001b[0mself\u001b[0m\u001b[0;34m.\u001b[0m\u001b[0mright\u001b[0m \u001b[0;34m=\u001b[0m \u001b[0mright\u001b[0m\u001b[0;34m\u001b[0m\u001b[0;34m\u001b[0m\u001b[0m\n",
      "\u001b[0;32m<ipython-input-22-89cca0b2c9cf>\u001b[0m in \u001b[0;36mTree\u001b[0;34m()\u001b[0m\n\u001b[1;32m      1\u001b[0m \u001b[0;31m# codigo futuro\u001b[0m\u001b[0;34m\u001b[0m\u001b[0;34m\u001b[0m\u001b[0;34m\u001b[0m\u001b[0m\n\u001b[1;32m      2\u001b[0m \u001b[0;32mclass\u001b[0m \u001b[0mTree\u001b[0m\u001b[0;34m:\u001b[0m\u001b[0;34m\u001b[0m\u001b[0;34m\u001b[0m\u001b[0m\n\u001b[0;32m----> 3\u001b[0;31m     \u001b[0;32mdef\u001b[0m \u001b[0m__init__\u001b[0m \u001b[0;34m(\u001b[0m\u001b[0mself\u001b[0m\u001b[0;34m,\u001b[0m \u001b[0mleft\u001b[0m\u001b[0;34m:\u001b[0m \u001b[0mTree\u001b[0m\u001b[0;34m,\u001b[0m \u001b[0mright\u001b[0m\u001b[0;34m:\u001b[0m \u001b[0mTree\u001b[0m\u001b[0;34m)\u001b[0m \u001b[0;34m->\u001b[0m \u001b[0;32mNone\u001b[0m\u001b[0;34m:\u001b[0m\u001b[0;34m\u001b[0m\u001b[0;34m\u001b[0m\u001b[0m\n\u001b[0m\u001b[1;32m      4\u001b[0m         \u001b[0mself\u001b[0m\u001b[0;34m.\u001b[0m\u001b[0mleft\u001b[0m \u001b[0;34m=\u001b[0m \u001b[0mleft\u001b[0m\u001b[0;34m\u001b[0m\u001b[0;34m\u001b[0m\u001b[0m\n\u001b[1;32m      5\u001b[0m         \u001b[0mself\u001b[0m\u001b[0;34m.\u001b[0m\u001b[0mright\u001b[0m \u001b[0;34m=\u001b[0m \u001b[0mright\u001b[0m\u001b[0;34m\u001b[0m\u001b[0;34m\u001b[0m\u001b[0m\n",
      "\u001b[0;31mNameError\u001b[0m: name 'Tree' is not defined"
     ]
    }
   ],
   "source": [
    "# codigo futuro\n",
    "class Tree: \n",
    "    def __init__ (self, left: Tree, right: Tree) -> None:\n",
    "        self.left = left\n",
    "        self.right = right"
   ]
  },
  {
   "cell_type": "code",
   "execution_count": 23,
   "id": "d4e75c8e",
   "metadata": {},
   "outputs": [],
   "source": [
    "from __future__ import annotations\n",
    "\n",
    "class Tree: \n",
    "    def __init__ (self, left: Tree, right: Tree) -> None:\n",
    "        self.left = left\n",
    "        self.right = right"
   ]
  },
  {
   "cell_type": "code",
   "execution_count": 24,
   "id": "aa990fc4",
   "metadata": {},
   "outputs": [
    {
     "data": {
      "text/plain": [
       "str"
      ]
     },
     "execution_count": 24,
     "metadata": {},
     "output_type": "execute_result"
    }
   ],
   "source": [
    "type(\"hola\")"
   ]
  },
  {
   "cell_type": "code",
   "execution_count": 25,
   "id": "943b7748",
   "metadata": {},
   "outputs": [],
   "source": [
    "# han aumentado la precisión de time"
   ]
  },
  {
   "cell_type": "code",
   "execution_count": 26,
   "id": "1c46b053",
   "metadata": {},
   "outputs": [
    {
     "data": {
      "text/plain": [
       "0.30000000000000004"
      ]
     },
     "execution_count": 26,
     "metadata": {},
     "output_type": "execute_result"
    }
   ],
   "source": [
    "0.1 + 0.1 + 0.1 "
   ]
  },
  {
   "cell_type": "code",
   "execution_count": 27,
   "id": "09e14211",
   "metadata": {},
   "outputs": [
    {
     "data": {
      "text/plain": [
       "False"
      ]
     },
     "execution_count": 27,
     "metadata": {},
     "output_type": "execute_result"
    }
   ],
   "source": [
    "0.1 + 0.1 + 0.1 == 0.3"
   ]
  },
  {
   "cell_type": "code",
   "execution_count": 28,
   "id": "b1571bb8",
   "metadata": {},
   "outputs": [],
   "source": [
    "# Orden de los diccionarios está garantizado\n"
   ]
  },
  {
   "cell_type": "code",
   "execution_count": 30,
   "id": "275bfab5",
   "metadata": {},
   "outputs": [],
   "source": [
    "mi_dic = {}\n",
    "mi_dic[1]= 1\n"
   ]
  },
  {
   "cell_type": "code",
   "execution_count": 31,
   "id": "18e1a258",
   "metadata": {},
   "outputs": [],
   "source": [
    "mi_dic[2]= 2\n",
    "mi_dic[3]= 3"
   ]
  },
  {
   "cell_type": "code",
   "execution_count": 33,
   "id": "4d06dc19",
   "metadata": {},
   "outputs": [
    {
     "data": {
      "text/plain": [
       "{1: 1, 2: 2, 3: 3}"
      ]
     },
     "execution_count": 33,
     "metadata": {},
     "output_type": "execute_result"
    }
   ],
   "source": [
    "mi_dic"
   ]
  },
  {
   "cell_type": "code",
   "execution_count": 34,
   "id": "39a71c60",
   "metadata": {},
   "outputs": [],
   "source": [
    "#'async await'son palabras reservadas"
   ]
  },
  {
   "cell_type": "code",
   "execution_count": null,
   "id": "25d0dc70",
   "metadata": {},
   "outputs": [],
   "source": []
  },
  {
   "cell_type": "code",
   "execution_count": null,
   "id": "a04988fd",
   "metadata": {},
   "outputs": [],
   "source": []
  },
  {
   "cell_type": "code",
   "execution_count": null,
   "id": "4e91294b",
   "metadata": {},
   "outputs": [],
   "source": []
  },
  {
   "cell_type": "code",
   "execution_count": null,
   "id": "71617675",
   "metadata": {},
   "outputs": [],
   "source": []
  },
  {
   "cell_type": "code",
   "execution_count": null,
   "id": "8b043a42",
   "metadata": {},
   "outputs": [],
   "source": []
  },
  {
   "cell_type": "code",
   "execution_count": null,
   "id": "3e421f6d",
   "metadata": {},
   "outputs": [],
   "source": []
  },
  {
   "cell_type": "code",
   "execution_count": null,
   "id": "3b5cb7e8",
   "metadata": {},
   "outputs": [],
   "source": []
  }
 ],
 "metadata": {
  "kernelspec": {
   "display_name": "Python 3",
   "language": "python",
   "name": "python3"
  },
  "language_info": {
   "codemirror_mode": {
    "name": "ipython",
    "version": 3
   },
   "file_extension": ".py",
   "mimetype": "text/x-python",
   "name": "python",
   "nbconvert_exporter": "python",
   "pygments_lexer": "ipython3",
   "version": "3.7.11"
  }
 },
 "nbformat": 4,
 "nbformat_minor": 5
}
