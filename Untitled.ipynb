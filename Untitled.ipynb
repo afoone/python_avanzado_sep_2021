{
 "cells": [
  {
   "cell_type": "markdown",
   "id": "2310b992",
   "metadata": {},
   "source": [
    "# Numpy\n",
    "\n",
    "Numpy es la biblioteca de computaciones matriciales de Python. Es una optimización de las computaciones matriciales basadas en bibliotecas del sistema operativo.\n",
    "\n"
   ]
  },
  {
   "cell_type": "code",
   "execution_count": 1,
   "id": "2c57b7c1",
   "metadata": {},
   "outputs": [],
   "source": [
    "array = [1,0,4,5,6,6] # esto es un array"
   ]
  },
  {
   "cell_type": "code",
   "execution_count": 2,
   "id": "6b54f2e6",
   "metadata": {},
   "outputs": [],
   "source": [
    "array = [[0, 0],[1,1]] # esto es un matriz - un array no es más que un caso específico de matriz donde filas = 1"
   ]
  },
  {
   "cell_type": "code",
   "execution_count": 3,
   "id": "7b9043bd",
   "metadata": {},
   "outputs": [],
   "source": [
    "# Numpy tiene su propia implementación optimizada del array / matriz"
   ]
  },
  {
   "cell_type": "code",
   "execution_count": null,
   "id": "f22871ac",
   "metadata": {},
   "outputs": [],
   "source": []
  },
  {
   "cell_type": "code",
   "execution_count": null,
   "id": "33f13c72",
   "metadata": {},
   "outputs": [],
   "source": []
  }
 ],
 "metadata": {
  "kernelspec": {
   "display_name": "Python 3",
   "language": "python",
   "name": "python3"
  },
  "language_info": {
   "codemirror_mode": {
    "name": "ipython",
    "version": 3
   },
   "file_extension": ".py",
   "mimetype": "text/x-python",
   "name": "python",
   "nbconvert_exporter": "python",
   "pygments_lexer": "ipython3",
   "version": "3.7.11"
  }
 },
 "nbformat": 4,
 "nbformat_minor": 5
}
