{
 "cells": [
  {
   "cell_type": "code",
   "execution_count": 1,
   "id": "6f80fc69",
   "metadata": {},
   "outputs": [],
   "source": [
    "a = [1,2,3]\n"
   ]
  },
  {
   "cell_type": "code",
   "execution_count": 2,
   "id": "48901f9d",
   "metadata": {},
   "outputs": [],
   "source": [
    "b = a"
   ]
  },
  {
   "cell_type": "code",
   "execution_count": 3,
   "id": "69ec1ece",
   "metadata": {},
   "outputs": [],
   "source": [
    "a.append(4)"
   ]
  },
  {
   "cell_type": "code",
   "execution_count": 4,
   "id": "e198b4d4",
   "metadata": {},
   "outputs": [
    {
     "data": {
      "text/plain": [
       "[1, 2, 3, 4]"
      ]
     },
     "execution_count": 4,
     "metadata": {},
     "output_type": "execute_result"
    }
   ],
   "source": [
    "b"
   ]
  },
  {
   "cell_type": "code",
   "execution_count": 6,
   "id": "d86a55ca",
   "metadata": {},
   "outputs": [],
   "source": [
    "def add_two_elements(lista):\n",
    "    lista.append(\"el1\")\n",
    "    lista.append(\"el2\")\n",
    "    \n",
    "\n",
    "l = [\"1\", \"2\"]\n",
    "\n",
    "add_two_elements(l)"
   ]
  },
  {
   "cell_type": "code",
   "execution_count": 7,
   "id": "c3c54969",
   "metadata": {},
   "outputs": [
    {
     "data": {
      "text/plain": [
       "['1', '2', 'el1', 'el2']"
      ]
     },
     "execution_count": 7,
     "metadata": {},
     "output_type": "execute_result"
    }
   ],
   "source": [
    "l"
   ]
  },
  {
   "cell_type": "code",
   "execution_count": 8,
   "id": "5772c4c5",
   "metadata": {},
   "outputs": [],
   "source": [
    "def suma_dos(a):\n",
    "    a += 2\n",
    "    return a\n",
    "    \n",
    "nume = 7\n",
    "result = suma_dos(nume)"
   ]
  },
  {
   "cell_type": "code",
   "execution_count": 9,
   "id": "70d5e152",
   "metadata": {},
   "outputs": [
    {
     "data": {
      "text/plain": [
       "7"
      ]
     },
     "execution_count": 9,
     "metadata": {},
     "output_type": "execute_result"
    }
   ],
   "source": [
    "nume"
   ]
  },
  {
   "cell_type": "code",
   "execution_count": 10,
   "id": "3a3ea80d",
   "metadata": {},
   "outputs": [
    {
     "data": {
      "text/plain": [
       "9"
      ]
     },
     "execution_count": 10,
     "metadata": {},
     "output_type": "execute_result"
    }
   ],
   "source": [
    "result"
   ]
  },
  {
   "cell_type": "code",
   "execution_count": 11,
   "id": "6f70b787",
   "metadata": {},
   "outputs": [],
   "source": [
    "carlos = {\"nombre\": \"Carlos\", \"nacido\": 1945}"
   ]
  },
  {
   "cell_type": "code",
   "execution_count": 13,
   "id": "f013eeb4",
   "metadata": {},
   "outputs": [],
   "source": [
    "pepe = carlos # alias"
   ]
  },
  {
   "cell_type": "code",
   "execution_count": 14,
   "id": "a07d2b11",
   "metadata": {},
   "outputs": [
    {
     "data": {
      "text/plain": [
       "140097207787424"
      ]
     },
     "execution_count": 14,
     "metadata": {},
     "output_type": "execute_result"
    }
   ],
   "source": [
    "id(carlos)"
   ]
  },
  {
   "cell_type": "code",
   "execution_count": 15,
   "id": "994b61d2",
   "metadata": {},
   "outputs": [
    {
     "data": {
      "text/plain": [
       "140097207787424"
      ]
     },
     "execution_count": 15,
     "metadata": {},
     "output_type": "execute_result"
    }
   ],
   "source": [
    "id(pepe)"
   ]
  },
  {
   "cell_type": "code",
   "execution_count": 17,
   "id": "00d30cba",
   "metadata": {},
   "outputs": [],
   "source": [
    "pepe[\"nacido\"] = 2000"
   ]
  },
  {
   "cell_type": "code",
   "execution_count": 18,
   "id": "ad87446c",
   "metadata": {},
   "outputs": [
    {
     "data": {
      "text/plain": [
       "{'nombre': 'Carlos', 'nacido': 2000}"
      ]
     },
     "execution_count": 18,
     "metadata": {},
     "output_type": "execute_result"
    }
   ],
   "source": [
    "carlos"
   ]
  },
  {
   "cell_type": "code",
   "execution_count": 19,
   "id": "120983a8",
   "metadata": {},
   "outputs": [
    {
     "data": {
      "text/plain": [
       "True"
      ]
     },
     "execution_count": 19,
     "metadata": {},
     "output_type": "execute_result"
    }
   ],
   "source": [
    "carlos == pepe"
   ]
  },
  {
   "cell_type": "code",
   "execution_count": 20,
   "id": "b228aebe",
   "metadata": {},
   "outputs": [
    {
     "data": {
      "text/plain": [
       "True"
      ]
     },
     "execution_count": 20,
     "metadata": {},
     "output_type": "execute_result"
    }
   ],
   "source": [
    "carlos is pepe"
   ]
  },
  {
   "cell_type": "code",
   "execution_count": 21,
   "id": "9b987c78",
   "metadata": {},
   "outputs": [],
   "source": [
    "no_soy_el_mismo = {'nombre': 'Carlos', 'nacido': 2000}"
   ]
  },
  {
   "cell_type": "code",
   "execution_count": 22,
   "id": "3a77f4a4",
   "metadata": {},
   "outputs": [
    {
     "data": {
      "text/plain": [
       "{'nombre': 'Carlos', 'nacido': 2000}"
      ]
     },
     "execution_count": 22,
     "metadata": {},
     "output_type": "execute_result"
    }
   ],
   "source": [
    "carlos "
   ]
  },
  {
   "cell_type": "code",
   "execution_count": 24,
   "id": "92b7382b",
   "metadata": {},
   "outputs": [
    {
     "data": {
      "text/plain": [
       "True"
      ]
     },
     "execution_count": 24,
     "metadata": {},
     "output_type": "execute_result"
    }
   ],
   "source": [
    "carlos == no_soy_el_mismo # son objetos iguales en su contenido"
   ]
  },
  {
   "cell_type": "code",
   "execution_count": 26,
   "id": "1045f674",
   "metadata": {},
   "outputs": [
    {
     "data": {
      "text/plain": [
       "False"
      ]
     },
     "execution_count": 26,
     "metadata": {},
     "output_type": "execute_result"
    }
   ],
   "source": [
    "carlos is no_soy_el_mismo"
   ]
  },
  {
   "cell_type": "code",
   "execution_count": 27,
   "id": "83f0f47c",
   "metadata": {},
   "outputs": [],
   "source": [
    "no_soy_el_mismo[\"nacido\"] = 1000"
   ]
  },
  {
   "cell_type": "code",
   "execution_count": 28,
   "id": "1b0f0713",
   "metadata": {},
   "outputs": [
    {
     "data": {
      "text/plain": [
       "{'nombre': 'Carlos', 'nacido': 2000}"
      ]
     },
     "execution_count": 28,
     "metadata": {},
     "output_type": "execute_result"
    }
   ],
   "source": [
    "carlos"
   ]
  },
  {
   "cell_type": "code",
   "execution_count": 29,
   "id": "5ee5b587",
   "metadata": {},
   "outputs": [
    {
     "data": {
      "text/plain": [
       "{'nombre': 'Carlos', 'nacido': 1000}"
      ]
     },
     "execution_count": 29,
     "metadata": {},
     "output_type": "execute_result"
    }
   ],
   "source": [
    "no_soy_el_mismo"
   ]
  },
  {
   "cell_type": "code",
   "execution_count": 31,
   "id": "12e83f4b",
   "metadata": {},
   "outputs": [
    {
     "data": {
      "text/plain": [
       "140097208618672"
      ]
     },
     "execution_count": 31,
     "metadata": {},
     "output_type": "execute_result"
    }
   ],
   "source": [
    "id(no_soy_el_mismo) # en CPython es realmente la posición de memoria\n",
    "# en otro intérprete ?¿ pero sí o si es un número único que se mantiene sobre toda la vida del objeto"
   ]
  },
  {
   "cell_type": "code",
   "execution_count": 32,
   "id": "60a29a0c",
   "metadata": {},
   "outputs": [
    {
     "data": {
      "text/plain": [
       "True"
      ]
     },
     "execution_count": 32,
     "metadata": {},
     "output_type": "execute_result"
    }
   ],
   "source": [
    "carlos == pepe # sintácticamente la implementación del método del data model __eq__"
   ]
  },
  {
   "cell_type": "code",
   "execution_count": 34,
   "id": "1379ad12",
   "metadata": {},
   "outputs": [
    {
     "data": {
      "text/plain": [
       "True"
      ]
     },
     "execution_count": 34,
     "metadata": {},
     "output_type": "execute_result"
    }
   ],
   "source": [
    "carlos is pepe # si es un alias, más rápido que la anterior"
   ]
  },
  {
   "cell_type": "markdown",
   "id": "1c1c6b14",
   "metadata": {},
   "source": [
    "### Inmutabilidad en las tuplas"
   ]
  },
  {
   "cell_type": "code",
   "execution_count": 35,
   "id": "85511605",
   "metadata": {},
   "outputs": [],
   "source": [
    "t = (3,4)"
   ]
  },
  {
   "cell_type": "code",
   "execution_count": 36,
   "id": "b9e3c53c",
   "metadata": {},
   "outputs": [
    {
     "data": {
      "text/plain": [
       "3"
      ]
     },
     "execution_count": 36,
     "metadata": {},
     "output_type": "execute_result"
    }
   ],
   "source": [
    "t[0]"
   ]
  },
  {
   "cell_type": "code",
   "execution_count": 37,
   "id": "f3f3b3d2",
   "metadata": {},
   "outputs": [
    {
     "ename": "TypeError",
     "evalue": "'tuple' object does not support item assignment",
     "output_type": "error",
     "traceback": [
      "\u001b[0;31m---------------------------------------------------------------------------\u001b[0m",
      "\u001b[0;31mTypeError\u001b[0m                                 Traceback (most recent call last)",
      "\u001b[0;32m<ipython-input-37-08a0409f2124>\u001b[0m in \u001b[0;36m<module>\u001b[0;34m\u001b[0m\n\u001b[0;32m----> 1\u001b[0;31m \u001b[0mt\u001b[0m\u001b[0;34m[\u001b[0m\u001b[0;36m0\u001b[0m\u001b[0;34m]\u001b[0m \u001b[0;34m=\u001b[0m \u001b[0;36m4\u001b[0m\u001b[0;34m\u001b[0m\u001b[0;34m\u001b[0m\u001b[0m\n\u001b[0m",
      "\u001b[0;31mTypeError\u001b[0m: 'tuple' object does not support item assignment"
     ]
    }
   ],
   "source": [
    "t[0] = 4"
   ]
  },
  {
   "cell_type": "code",
   "execution_count": 39,
   "id": "39774780",
   "metadata": {},
   "outputs": [],
   "source": [
    "t1 = (1, 2, [3,4])\n",
    "t2 = (1, 2, [3,4])"
   ]
  },
  {
   "cell_type": "code",
   "execution_count": 40,
   "id": "5d559eac",
   "metadata": {},
   "outputs": [
    {
     "data": {
      "text/plain": [
       "True"
      ]
     },
     "execution_count": 40,
     "metadata": {},
     "output_type": "execute_result"
    }
   ],
   "source": [
    "t1 == t2 # si las tuplas son iguales, no si es un alias"
   ]
  },
  {
   "cell_type": "code",
   "execution_count": 41,
   "id": "ba92070a",
   "metadata": {},
   "outputs": [
    {
     "data": {
      "text/plain": [
       "False"
      ]
     },
     "execution_count": 41,
     "metadata": {},
     "output_type": "execute_result"
    }
   ],
   "source": [
    "t1 is t2"
   ]
  },
  {
   "cell_type": "code",
   "execution_count": 42,
   "id": "ad09d53b",
   "metadata": {},
   "outputs": [],
   "source": [
    "t1[2].append(99)"
   ]
  },
  {
   "cell_type": "code",
   "execution_count": 43,
   "id": "7e85103f",
   "metadata": {},
   "outputs": [
    {
     "data": {
      "text/plain": [
       "(1, 2, [3, 4, 99])"
      ]
     },
     "execution_count": 43,
     "metadata": {},
     "output_type": "execute_result"
    }
   ],
   "source": [
    "t1"
   ]
  },
  {
   "cell_type": "code",
   "execution_count": 44,
   "id": "2bc995b6",
   "metadata": {},
   "outputs": [],
   "source": [
    "t1 = (1, 2, [3,4])\n",
    "t2 = (1, 2, [3,4])"
   ]
  },
  {
   "cell_type": "code",
   "execution_count": 45,
   "id": "60c157cb",
   "metadata": {},
   "outputs": [
    {
     "data": {
      "text/plain": [
       "140097207895216"
      ]
     },
     "execution_count": 45,
     "metadata": {},
     "output_type": "execute_result"
    }
   ],
   "source": [
    "id(t1[-1])"
   ]
  },
  {
   "cell_type": "code",
   "execution_count": 46,
   "id": "582c90b7",
   "metadata": {},
   "outputs": [],
   "source": [
    "t1[2].append(99)"
   ]
  },
  {
   "cell_type": "code",
   "execution_count": 47,
   "id": "ab7f383a",
   "metadata": {},
   "outputs": [
    {
     "data": {
      "text/plain": [
       "(1, 2, [3, 4, 99])"
      ]
     },
     "execution_count": 47,
     "metadata": {},
     "output_type": "execute_result"
    }
   ],
   "source": [
    "t1"
   ]
  },
  {
   "cell_type": "code",
   "execution_count": 48,
   "id": "63b04da0",
   "metadata": {},
   "outputs": [
    {
     "data": {
      "text/plain": [
       "140097207895216"
      ]
     },
     "execution_count": 48,
     "metadata": {},
     "output_type": "execute_result"
    }
   ],
   "source": [
    "id(t1[-1])\n"
   ]
  },
  {
   "cell_type": "code",
   "execution_count": 49,
   "id": "60b0a4db",
   "metadata": {},
   "outputs": [],
   "source": [
    "# las copias, por defecto, son de los punteros\n",
    "x = [1,2]\n",
    "y = x"
   ]
  },
  {
   "cell_type": "code",
   "execution_count": 50,
   "id": "c64624a9",
   "metadata": {},
   "outputs": [],
   "source": [
    "x[0] = 2"
   ]
  },
  {
   "cell_type": "code",
   "execution_count": 51,
   "id": "a01797dc",
   "metadata": {},
   "outputs": [
    {
     "data": {
      "text/plain": [
       "[2, 2]"
      ]
     },
     "execution_count": 51,
     "metadata": {},
     "output_type": "execute_result"
    }
   ],
   "source": [
    "y"
   ]
  },
  {
   "cell_type": "code",
   "execution_count": 52,
   "id": "d119c32b",
   "metadata": {},
   "outputs": [],
   "source": [
    "# este tipo de copias en POO se llaman copias superficiales o \"shallow copy\""
   ]
  },
  {
   "cell_type": "code",
   "execution_count": 54,
   "id": "6a9235e9",
   "metadata": {},
   "outputs": [],
   "source": [
    "l1 = [3, [55, 5], (7, 8,9)]"
   ]
  },
  {
   "cell_type": "code",
   "execution_count": 56,
   "id": "fed31a03",
   "metadata": {},
   "outputs": [],
   "source": [
    "l2 = l1"
   ]
  },
  {
   "cell_type": "code",
   "execution_count": 57,
   "id": "7715aeaa",
   "metadata": {},
   "outputs": [
    {
     "data": {
      "text/plain": [
       "True"
      ]
     },
     "execution_count": 57,
     "metadata": {},
     "output_type": "execute_result"
    }
   ],
   "source": [
    "l1 is l2"
   ]
  },
  {
   "cell_type": "code",
   "execution_count": 58,
   "id": "ae985385",
   "metadata": {},
   "outputs": [],
   "source": [
    "l2 =list(l1)"
   ]
  },
  {
   "cell_type": "code",
   "execution_count": 59,
   "id": "abbe836b",
   "metadata": {},
   "outputs": [
    {
     "data": {
      "text/plain": [
       "[3, [55, 5], (7, 8, 9)]"
      ]
     },
     "execution_count": 59,
     "metadata": {},
     "output_type": "execute_result"
    }
   ],
   "source": [
    "l2"
   ]
  },
  {
   "cell_type": "code",
   "execution_count": 61,
   "id": "647ec49f",
   "metadata": {},
   "outputs": [
    {
     "data": {
      "text/plain": [
       "False"
      ]
     },
     "execution_count": 61,
     "metadata": {},
     "output_type": "execute_result"
    }
   ],
   "source": [
    "l1 is l2 # en este caso hemos hecho una copia normal"
   ]
  },
  {
   "cell_type": "code",
   "execution_count": 62,
   "id": "01e8d919",
   "metadata": {},
   "outputs": [],
   "source": [
    "l2 = l1[:]"
   ]
  },
  {
   "cell_type": "code",
   "execution_count": 63,
   "id": "f3408b5d",
   "metadata": {},
   "outputs": [
    {
     "data": {
      "text/plain": [
       "True"
      ]
     },
     "execution_count": 63,
     "metadata": {},
     "output_type": "execute_result"
    }
   ],
   "source": [
    "l2 == l1"
   ]
  },
  {
   "cell_type": "code",
   "execution_count": 64,
   "id": "d1f9927f",
   "metadata": {},
   "outputs": [
    {
     "data": {
      "text/plain": [
       "False"
      ]
     },
     "execution_count": 64,
     "metadata": {},
     "output_type": "execute_result"
    }
   ],
   "source": [
    "l2 is l1"
   ]
  },
  {
   "cell_type": "code",
   "execution_count": 65,
   "id": "24cf8d73",
   "metadata": {},
   "outputs": [],
   "source": [
    "l1.append(100)"
   ]
  },
  {
   "cell_type": "code",
   "execution_count": 66,
   "id": "19a7a19c",
   "metadata": {},
   "outputs": [
    {
     "data": {
      "text/plain": [
       "[3, [55, 5], (7, 8, 9), 100]"
      ]
     },
     "execution_count": 66,
     "metadata": {},
     "output_type": "execute_result"
    }
   ],
   "source": [
    "l1"
   ]
  },
  {
   "cell_type": "code",
   "execution_count": 67,
   "id": "4b178bce",
   "metadata": {},
   "outputs": [
    {
     "data": {
      "text/plain": [
       "[3, [55, 5], (7, 8, 9)]"
      ]
     },
     "execution_count": 67,
     "metadata": {},
     "output_type": "execute_result"
    }
   ],
   "source": [
    "l2"
   ]
  },
  {
   "cell_type": "code",
   "execution_count": 68,
   "id": "ccfd3a76",
   "metadata": {},
   "outputs": [],
   "source": [
    "l2[1].remove(55)"
   ]
  },
  {
   "cell_type": "code",
   "execution_count": 69,
   "id": "515e0563",
   "metadata": {},
   "outputs": [
    {
     "data": {
      "text/plain": [
       "[3, [5], (7, 8, 9)]"
      ]
     },
     "execution_count": 69,
     "metadata": {},
     "output_type": "execute_result"
    }
   ],
   "source": [
    "l2"
   ]
  },
  {
   "cell_type": "code",
   "execution_count": 70,
   "id": "6a58e981",
   "metadata": {},
   "outputs": [
    {
     "data": {
      "text/plain": [
       "[3, [5], (7, 8, 9), 100]"
      ]
     },
     "execution_count": 70,
     "metadata": {},
     "output_type": "execute_result"
    }
   ],
   "source": [
    "l1"
   ]
  },
  {
   "cell_type": "code",
   "execution_count": 71,
   "id": "b98a8e54",
   "metadata": {},
   "outputs": [
    {
     "data": {
      "text/plain": [
       "140097207953120"
      ]
     },
     "execution_count": 71,
     "metadata": {},
     "output_type": "execute_result"
    }
   ],
   "source": [
    "id(l1[1])"
   ]
  },
  {
   "cell_type": "code",
   "execution_count": 73,
   "id": "c8f4398e",
   "metadata": {},
   "outputs": [
    {
     "data": {
      "text/plain": [
       "140097207953120"
      ]
     },
     "execution_count": 73,
     "metadata": {},
     "output_type": "execute_result"
    }
   ],
   "source": [
    "id(l2[1])"
   ]
  },
  {
   "cell_type": "code",
   "execution_count": 74,
   "id": "e85e7c15",
   "metadata": {},
   "outputs": [],
   "source": [
    "l1 = [3, [55, 5], (7, 8,9)]"
   ]
  },
  {
   "cell_type": "code",
   "execution_count": 75,
   "id": "e896fad4",
   "metadata": {},
   "outputs": [],
   "source": [
    "import copy\n",
    "l2 = copy.deepcopy(l1)"
   ]
  },
  {
   "cell_type": "code",
   "execution_count": 77,
   "id": "32b6f375",
   "metadata": {},
   "outputs": [
    {
     "data": {
      "text/plain": [
       "140097207922768"
      ]
     },
     "execution_count": 77,
     "metadata": {},
     "output_type": "execute_result"
    }
   ],
   "source": [
    "id (l1[1])"
   ]
  },
  {
   "cell_type": "code",
   "execution_count": 78,
   "id": "5354add2",
   "metadata": {},
   "outputs": [
    {
     "data": {
      "text/plain": [
       "140097208179440"
      ]
     },
     "execution_count": 78,
     "metadata": {},
     "output_type": "execute_result"
    }
   ],
   "source": [
    "id(l2[1])"
   ]
  },
  {
   "cell_type": "code",
   "execution_count": 79,
   "id": "d19b3d3c",
   "metadata": {},
   "outputs": [],
   "source": [
    "l2[1].remove(55)"
   ]
  },
  {
   "cell_type": "code",
   "execution_count": 80,
   "id": "f2448bb9",
   "metadata": {},
   "outputs": [
    {
     "data": {
      "text/plain": [
       "[3, [55, 5], (7, 8, 9)]"
      ]
     },
     "execution_count": 80,
     "metadata": {},
     "output_type": "execute_result"
    }
   ],
   "source": [
    "l1"
   ]
  },
  {
   "cell_type": "code",
   "execution_count": 81,
   "id": "45a18a83",
   "metadata": {},
   "outputs": [
    {
     "data": {
      "text/plain": [
       "[3, [5], (7, 8, 9)]"
      ]
     },
     "execution_count": 81,
     "metadata": {},
     "output_type": "execute_result"
    }
   ],
   "source": [
    "l2"
   ]
  },
  {
   "cell_type": "code",
   "execution_count": 82,
   "id": "c797c34e",
   "metadata": {},
   "outputs": [],
   "source": [
    "# Referencia ciclica\n",
    "a = [10,20]\n",
    "b = [a, 30]"
   ]
  },
  {
   "cell_type": "code",
   "execution_count": 83,
   "id": "7218fb7f",
   "metadata": {},
   "outputs": [
    {
     "data": {
      "text/plain": [
       "[[10, 20], 30]"
      ]
     },
     "execution_count": 83,
     "metadata": {},
     "output_type": "execute_result"
    }
   ],
   "source": [
    "b"
   ]
  },
  {
   "cell_type": "code",
   "execution_count": 84,
   "id": "fc845cd5",
   "metadata": {},
   "outputs": [],
   "source": [
    "a.append(b)"
   ]
  },
  {
   "cell_type": "code",
   "execution_count": 85,
   "id": "b55f11fd",
   "metadata": {},
   "outputs": [
    {
     "data": {
      "text/plain": [
       "[10, 20, [[...], 30]]"
      ]
     },
     "execution_count": 85,
     "metadata": {},
     "output_type": "execute_result"
    }
   ],
   "source": [
    "a"
   ]
  },
  {
   "cell_type": "code",
   "execution_count": 86,
   "id": "1c76db31",
   "metadata": {},
   "outputs": [
    {
     "data": {
      "text/plain": [
       "[[10, 20, [...]], 30]"
      ]
     },
     "execution_count": 86,
     "metadata": {},
     "output_type": "execute_result"
    }
   ],
   "source": [
    "a[2]"
   ]
  },
  {
   "cell_type": "code",
   "execution_count": 88,
   "id": "08be636d",
   "metadata": {},
   "outputs": [
    {
     "data": {
      "text/plain": [
       "[[10, 20, [...]], 30]"
      ]
     },
     "execution_count": 88,
     "metadata": {},
     "output_type": "execute_result"
    }
   ],
   "source": [
    "a[2]"
   ]
  },
  {
   "cell_type": "code",
   "execution_count": 89,
   "id": "210a462a",
   "metadata": {},
   "outputs": [],
   "source": [
    "c = copy.deepcopy(a)"
   ]
  },
  {
   "cell_type": "code",
   "execution_count": 90,
   "id": "ca596ef3",
   "metadata": {},
   "outputs": [
    {
     "data": {
      "text/plain": [
       "[10, 20, [[...], 30]]"
      ]
     },
     "execution_count": 90,
     "metadata": {},
     "output_type": "execute_result"
    }
   ],
   "source": [
    "c"
   ]
  },
  {
   "cell_type": "code",
   "execution_count": 91,
   "id": "803d69b9",
   "metadata": {},
   "outputs": [],
   "source": [
    "def f(a, b):\n",
    "    a += b\n",
    "    return a"
   ]
  },
  {
   "cell_type": "code",
   "execution_count": 92,
   "id": "ceeb7d13",
   "metadata": {},
   "outputs": [],
   "source": [
    "x = 1\n",
    "y = 2"
   ]
  },
  {
   "cell_type": "code",
   "execution_count": 93,
   "id": "b98a7a62",
   "metadata": {},
   "outputs": [
    {
     "data": {
      "text/plain": [
       "3"
      ]
     },
     "execution_count": 93,
     "metadata": {},
     "output_type": "execute_result"
    }
   ],
   "source": [
    "f(x,y)"
   ]
  },
  {
   "cell_type": "code",
   "execution_count": 94,
   "id": "e9d90c04",
   "metadata": {},
   "outputs": [
    {
     "data": {
      "text/plain": [
       "1"
      ]
     },
     "execution_count": 94,
     "metadata": {},
     "output_type": "execute_result"
    }
   ],
   "source": [
    "x"
   ]
  },
  {
   "cell_type": "code",
   "execution_count": 95,
   "id": "1defa0f2",
   "metadata": {},
   "outputs": [
    {
     "data": {
      "text/plain": [
       "2"
      ]
     },
     "execution_count": 95,
     "metadata": {},
     "output_type": "execute_result"
    }
   ],
   "source": [
    "y"
   ]
  },
  {
   "cell_type": "code",
   "execution_count": 96,
   "id": "4ac86653",
   "metadata": {},
   "outputs": [],
   "source": [
    "a = [1,2]\n",
    "b = [3,4]\n"
   ]
  },
  {
   "cell_type": "code",
   "execution_count": 97,
   "id": "b42707d7",
   "metadata": {},
   "outputs": [
    {
     "data": {
      "text/plain": [
       "[1, 2, 3, 4]"
      ]
     },
     "execution_count": 97,
     "metadata": {},
     "output_type": "execute_result"
    }
   ],
   "source": [
    "f(a, b)"
   ]
  },
  {
   "cell_type": "code",
   "execution_count": 98,
   "id": "9fafc04b",
   "metadata": {},
   "outputs": [
    {
     "data": {
      "text/plain": [
       "[1, 2, 3, 4]"
      ]
     },
     "execution_count": 98,
     "metadata": {},
     "output_type": "execute_result"
    }
   ],
   "source": [
    "a"
   ]
  },
  {
   "cell_type": "code",
   "execution_count": 99,
   "id": "0bf92898",
   "metadata": {},
   "outputs": [],
   "source": [
    "t1 = (10, 20)\n",
    "t2 = (30, 40)"
   ]
  },
  {
   "cell_type": "code",
   "execution_count": 100,
   "id": "7ce86f46",
   "metadata": {},
   "outputs": [
    {
     "data": {
      "text/plain": [
       "(10, 20, 30, 40)"
      ]
     },
     "execution_count": 100,
     "metadata": {},
     "output_type": "execute_result"
    }
   ],
   "source": [
    "f(t1, t2)"
   ]
  },
  {
   "cell_type": "code",
   "execution_count": 101,
   "id": "547f5442",
   "metadata": {},
   "outputs": [
    {
     "data": {
      "text/plain": [
       "(10, 20)"
      ]
     },
     "execution_count": 101,
     "metadata": {},
     "output_type": "execute_result"
    }
   ],
   "source": [
    "t1"
   ]
  },
  {
   "cell_type": "code",
   "execution_count": 102,
   "id": "96d3e4e5",
   "metadata": {},
   "outputs": [
    {
     "data": {
      "text/plain": [
       "(30, 40)"
      ]
     },
     "execution_count": 102,
     "metadata": {},
     "output_type": "execute_result"
    }
   ],
   "source": [
    "t2"
   ]
  },
  {
   "cell_type": "code",
   "execution_count": 103,
   "id": "9fc6e986",
   "metadata": {},
   "outputs": [],
   "source": [
    "a = \"hola \"\n",
    "b =\"mundo\""
   ]
  },
  {
   "cell_type": "code",
   "execution_count": 104,
   "id": "4a7a2b22",
   "metadata": {},
   "outputs": [
    {
     "data": {
      "text/plain": [
       "'hola mundo'"
      ]
     },
     "execution_count": 104,
     "metadata": {},
     "output_type": "execute_result"
    }
   ],
   "source": [
    "f(a, b)"
   ]
  },
  {
   "cell_type": "code",
   "execution_count": 105,
   "id": "7606ccfa",
   "metadata": {},
   "outputs": [
    {
     "data": {
      "text/plain": [
       "'hola '"
      ]
     },
     "execution_count": 105,
     "metadata": {},
     "output_type": "execute_result"
    }
   ],
   "source": [
    "a"
   ]
  },
  {
   "cell_type": "code",
   "execution_count": 106,
   "id": "de9e78a9",
   "metadata": {},
   "outputs": [
    {
     "data": {
      "text/plain": [
       "'mundo'"
      ]
     },
     "execution_count": 106,
     "metadata": {},
     "output_type": "execute_result"
    }
   ],
   "source": [
    "b"
   ]
  },
  {
   "cell_type": "code",
   "execution_count": 107,
   "id": "c71a1be1",
   "metadata": {},
   "outputs": [],
   "source": [
    "# parámetros por valor o por referencia\n",
    "# por valor: cuando no se van a modificar dentro de la funcion : int, string, float, tuple(ver lo de antes, la inmmutabilidad de las tuplas es relativa)\n",
    "# por referencia: la función modifica el valor original: dicts, lists..."
   ]
  },
  {
   "cell_type": "code",
   "execution_count": 108,
   "id": "56fdc5ae",
   "metadata": {},
   "outputs": [],
   "source": [
    "l = [1,2,3,4]"
   ]
  },
  {
   "cell_type": "code",
   "execution_count": 110,
   "id": "e9d3753f",
   "metadata": {},
   "outputs": [
    {
     "data": {
      "text/plain": [
       "[2, 4, 6, 8]"
      ]
     },
     "execution_count": 110,
     "metadata": {},
     "output_type": "execute_result"
    }
   ],
   "source": [
    "list(map(lambda x: x*2, l))"
   ]
  },
  {
   "cell_type": "code",
   "execution_count": 111,
   "id": "3c6cab48",
   "metadata": {},
   "outputs": [
    {
     "data": {
      "text/plain": [
       "[1, 2, 3, 4]"
      ]
     },
     "execution_count": 111,
     "metadata": {},
     "output_type": "execute_result"
    }
   ],
   "source": [
    "l"
   ]
  },
  {
   "cell_type": "code",
   "execution_count": 119,
   "id": "543cafca",
   "metadata": {},
   "outputs": [],
   "source": [
    "class A:\n",
    "    def __init__(self, a_list = []):\n",
    "        self.a_list = a_list\n",
    "    def add (self, name):\n",
    "        self.a_list.append(name)"
   ]
  },
  {
   "cell_type": "code",
   "execution_count": 120,
   "id": "d354613b",
   "metadata": {},
   "outputs": [],
   "source": [
    "a1 = A()"
   ]
  },
  {
   "cell_type": "code",
   "execution_count": 121,
   "id": "21ffc7ed",
   "metadata": {},
   "outputs": [],
   "source": [
    "a1.add(\"A\")"
   ]
  },
  {
   "cell_type": "code",
   "execution_count": 122,
   "id": "bd569757",
   "metadata": {},
   "outputs": [
    {
     "data": {
      "text/plain": [
       "['A']"
      ]
     },
     "execution_count": 122,
     "metadata": {},
     "output_type": "execute_result"
    }
   ],
   "source": [
    "a1.a_list"
   ]
  },
  {
   "cell_type": "code",
   "execution_count": 123,
   "id": "3f69caae",
   "metadata": {},
   "outputs": [],
   "source": [
    "a2 = A()"
   ]
  },
  {
   "cell_type": "code",
   "execution_count": 124,
   "id": "c0e20f6f",
   "metadata": {},
   "outputs": [],
   "source": [
    "a2.add(\"B\")"
   ]
  },
  {
   "cell_type": "code",
   "execution_count": 125,
   "id": "0041665a",
   "metadata": {},
   "outputs": [
    {
     "data": {
      "text/plain": [
       "['A', 'B']"
      ]
     },
     "execution_count": 125,
     "metadata": {},
     "output_type": "execute_result"
    }
   ],
   "source": [
    "a1.a_list"
   ]
  },
  {
   "cell_type": "code",
   "execution_count": 126,
   "id": "2f11f902",
   "metadata": {},
   "outputs": [
    {
     "data": {
      "text/plain": [
       "True"
      ]
     },
     "execution_count": 126,
     "metadata": {},
     "output_type": "execute_result"
    }
   ],
   "source": [
    "a1.a_list is a2.a_list"
   ]
  },
  {
   "cell_type": "code",
   "execution_count": 127,
   "id": "88e7713e",
   "metadata": {},
   "outputs": [
    {
     "data": {
      "text/plain": [
       "0.30000000000000004"
      ]
     },
     "execution_count": 127,
     "metadata": {},
     "output_type": "execute_result"
    }
   ],
   "source": [
    "0.1 + 0.1 + 0.1"
   ]
  },
  {
   "cell_type": "code",
   "execution_count": 138,
   "id": "89b229c3",
   "metadata": {},
   "outputs": [],
   "source": [
    "class A:\n",
    "    def __init__(self, a_list = None):\n",
    "        if a_list is None: \n",
    "            self.a_list = []\n",
    "        else :\n",
    "            self.a_list = a_list\n",
    "    def add (self, name):\n",
    "        self.a_list.append(name)"
   ]
  },
  {
   "cell_type": "code",
   "execution_count": 139,
   "id": "02055899",
   "metadata": {},
   "outputs": [],
   "source": [
    "a1 = A()"
   ]
  },
  {
   "cell_type": "code",
   "execution_count": 140,
   "id": "15f17ab9",
   "metadata": {},
   "outputs": [],
   "source": [
    "a2 = A()"
   ]
  },
  {
   "cell_type": "code",
   "execution_count": 141,
   "id": "a1e66ce2",
   "metadata": {},
   "outputs": [
    {
     "data": {
      "text/plain": [
       "[]"
      ]
     },
     "execution_count": 141,
     "metadata": {},
     "output_type": "execute_result"
    }
   ],
   "source": [
    "a1.a_list"
   ]
  },
  {
   "cell_type": "code",
   "execution_count": 142,
   "id": "f976e233",
   "metadata": {},
   "outputs": [],
   "source": [
    "a1.add(\"a1\")\n",
    "a2.add(\"a2\")"
   ]
  },
  {
   "cell_type": "code",
   "execution_count": 143,
   "id": "1fec38aa",
   "metadata": {},
   "outputs": [
    {
     "data": {
      "text/plain": [
       "<__main__.A at 0x7f6aec5614d0>"
      ]
     },
     "execution_count": 143,
     "metadata": {},
     "output_type": "execute_result"
    }
   ],
   "source": [
    "a1"
   ]
  },
  {
   "cell_type": "code",
   "execution_count": 144,
   "id": "3c223918",
   "metadata": {},
   "outputs": [
    {
     "data": {
      "text/plain": [
       "['a1']"
      ]
     },
     "execution_count": 144,
     "metadata": {},
     "output_type": "execute_result"
    }
   ],
   "source": [
    "a1.a_list"
   ]
  },
  {
   "cell_type": "code",
   "execution_count": 145,
   "id": "786635b2",
   "metadata": {},
   "outputs": [
    {
     "data": {
      "text/plain": [
       "['a2']"
      ]
     },
     "execution_count": 145,
     "metadata": {},
     "output_type": "execute_result"
    }
   ],
   "source": [
    "a2.a_list"
   ]
  },
  {
   "cell_type": "code",
   "execution_count": 146,
   "id": "ea8715ed",
   "metadata": {},
   "outputs": [
    {
     "data": {
      "text/plain": [
       "False"
      ]
     },
     "execution_count": 146,
     "metadata": {},
     "output_type": "execute_result"
    }
   ],
   "source": [
    "a1.a_list is a2.a_list"
   ]
  },
  {
   "cell_type": "code",
   "execution_count": 147,
   "id": "c6a8a460",
   "metadata": {},
   "outputs": [],
   "source": [
    "x = [1,2,3]"
   ]
  },
  {
   "cell_type": "code",
   "execution_count": 148,
   "id": "e8695dbf",
   "metadata": {},
   "outputs": [],
   "source": [
    "y = x"
   ]
  },
  {
   "cell_type": "code",
   "execution_count": 149,
   "id": "d2c116be",
   "metadata": {},
   "outputs": [
    {
     "data": {
      "text/plain": [
       "True"
      ]
     },
     "execution_count": 149,
     "metadata": {},
     "output_type": "execute_result"
    }
   ],
   "source": [
    "x is y"
   ]
  },
  {
   "cell_type": "code",
   "execution_count": 150,
   "id": "dcdc175c",
   "metadata": {},
   "outputs": [],
   "source": [
    "del y"
   ]
  },
  {
   "cell_type": "code",
   "execution_count": 151,
   "id": "d932fbb6",
   "metadata": {},
   "outputs": [
    {
     "data": {
      "text/plain": [
       "[1, 2, 3]"
      ]
     },
     "execution_count": 151,
     "metadata": {},
     "output_type": "execute_result"
    }
   ],
   "source": [
    "x"
   ]
  },
  {
   "cell_type": "code",
   "execution_count": 152,
   "id": "7dc0abcf",
   "metadata": {},
   "outputs": [],
   "source": [
    "del x\n"
   ]
  },
  {
   "cell_type": "code",
   "execution_count": 153,
   "id": "bca233a4",
   "metadata": {},
   "outputs": [
    {
     "ename": "NameError",
     "evalue": "name 'x' is not defined",
     "output_type": "error",
     "traceback": [
      "\u001b[0;31m---------------------------------------------------------------------------\u001b[0m",
      "\u001b[0;31mNameError\u001b[0m                                 Traceback (most recent call last)",
      "\u001b[0;32m<ipython-input-153-6fcf9dfbd479>\u001b[0m in \u001b[0;36m<module>\u001b[0;34m\u001b[0m\n\u001b[0;32m----> 1\u001b[0;31m \u001b[0mx\u001b[0m\u001b[0;34m\u001b[0m\u001b[0;34m\u001b[0m\u001b[0m\n\u001b[0m",
      "\u001b[0;31mNameError\u001b[0m: name 'x' is not defined"
     ]
    }
   ],
   "source": [
    "x"
   ]
  },
  {
   "cell_type": "code",
   "execution_count": null,
   "id": "c58e5bce",
   "metadata": {},
   "outputs": [],
   "source": []
  },
  {
   "cell_type": "code",
   "execution_count": null,
   "id": "9e760939",
   "metadata": {},
   "outputs": [],
   "source": []
  },
  {
   "cell_type": "code",
   "execution_count": null,
   "id": "a879d597",
   "metadata": {},
   "outputs": [],
   "source": []
  },
  {
   "cell_type": "code",
   "execution_count": null,
   "id": "20a2b6fc",
   "metadata": {},
   "outputs": [],
   "source": []
  },
  {
   "cell_type": "code",
   "execution_count": null,
   "id": "48329f53",
   "metadata": {},
   "outputs": [],
   "source": []
  },
  {
   "cell_type": "code",
   "execution_count": null,
   "id": "5fef6d1c",
   "metadata": {},
   "outputs": [],
   "source": []
  },
  {
   "cell_type": "code",
   "execution_count": null,
   "id": "49c12223",
   "metadata": {},
   "outputs": [],
   "source": []
  },
  {
   "cell_type": "code",
   "execution_count": null,
   "id": "eea7caf3",
   "metadata": {},
   "outputs": [],
   "source": []
  },
  {
   "cell_type": "code",
   "execution_count": null,
   "id": "fdf3f442",
   "metadata": {},
   "outputs": [],
   "source": []
  },
  {
   "cell_type": "code",
   "execution_count": null,
   "id": "6c3d9b17",
   "metadata": {},
   "outputs": [],
   "source": []
  },
  {
   "cell_type": "code",
   "execution_count": null,
   "id": "0cf04454",
   "metadata": {},
   "outputs": [],
   "source": []
  },
  {
   "cell_type": "code",
   "execution_count": null,
   "id": "1a312ef5",
   "metadata": {},
   "outputs": [],
   "source": []
  },
  {
   "cell_type": "code",
   "execution_count": null,
   "id": "4bd3706d",
   "metadata": {},
   "outputs": [],
   "source": []
  },
  {
   "cell_type": "code",
   "execution_count": null,
   "id": "018d7764",
   "metadata": {},
   "outputs": [],
   "source": []
  },
  {
   "cell_type": "code",
   "execution_count": null,
   "id": "ce15d5d1",
   "metadata": {},
   "outputs": [],
   "source": []
  },
  {
   "cell_type": "code",
   "execution_count": null,
   "id": "bc749afe",
   "metadata": {},
   "outputs": [],
   "source": []
  }
 ],
 "metadata": {
  "kernelspec": {
   "display_name": "Python 3",
   "language": "python",
   "name": "python3"
  },
  "language_info": {
   "codemirror_mode": {
    "name": "ipython",
    "version": 3
   },
   "file_extension": ".py",
   "mimetype": "text/x-python",
   "name": "python",
   "nbconvert_exporter": "python",
   "pygments_lexer": "ipython3",
   "version": "3.7.11"
  }
 },
 "nbformat": 4,
 "nbformat_minor": 5
}
