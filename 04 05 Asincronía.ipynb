{
 "cells": [
  {
   "cell_type": "markdown",
   "id": "6e426d9e",
   "metadata": {},
   "source": [
    "# 4-5 Asincronía\n",
    "\n",
    "### Concurrencia y paralelismo\n",
    "\n",
    "### Paralelismo\n",
    "- Realiza múltiples acciones al mismo tiempo.\n",
    "- Multiprocesamiento - la distribución de tareas entre los cores de una computadoras. Muy vinculado a las tareas de CPU.\n",
    "\n",
    "### Concurrencia \n",
    "- capacidad de ejecutar tareas de un modo *superpuesto*\n",
    "\n",
    "### Threading \n",
    "- Todas las tareas están dentro del mismo proceso. Hilos de ejecución concurrentes dentro del mismo proceso.\n",
    "\n",
    "el multiprocesamiento o paralelismo es una forma de concurrencia\n",
    "threading es otra forma de concurrencia\n",
    "\n",
    "multiprocessing, threading, asyncio(cpython) , futures (threading + multiprocessing)\n",
    "\n",
    "- Beth compite contra 10 oponentes\n",
    "- Harmon hace cada movimiento en 5 segundos\n",
    "- Cada oponente tarda 55 segundos en hacer un movimiento\n",
    "- El juego son 10 jugadas\n",
    "\n",
    "sin concurrencia:\n",
    "jugada beth = 5 + 55 = 1minuto * 10 oponentes * 10 juagas = 100 minutos\n",
    "\n",
    "con concurrencia: \n",
    "beth juega, 5 segundos y pasa al siguiente jugador:\n",
    "beth pasa por todas las mesas en 50 segundos. tiene que esperar al oponente 10 segundos. - > un minuto se ha recorrido las 10 mesas * 10 jugadas = 10 minutos.\n",
    "\n",
    "solo hay una beth harmon"
   ]
  },
  {
   "cell_type": "code",
   "execution_count": null,
   "id": "7e1c6f41",
   "metadata": {},
   "outputs": [],
   "source": []
  }
 ],
 "metadata": {
  "kernelspec": {
   "display_name": "Python 3",
   "language": "python",
   "name": "python3"
  },
  "language_info": {
   "codemirror_mode": {
    "name": "ipython",
    "version": 3
   },
   "file_extension": ".py",
   "mimetype": "text/x-python",
   "name": "python",
   "nbconvert_exporter": "python",
   "pygments_lexer": "ipython3",
   "version": "3.7.11"
  }
 },
 "nbformat": 4,
 "nbformat_minor": 5
}
