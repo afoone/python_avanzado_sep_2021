{
 "cells": [
  {
   "cell_type": "markdown",
   "id": "2766fb5d",
   "metadata": {},
   "source": [
    "# Context manager\n",
    "\n",
    "El context manager *garantiza* que cierta operación **va a ocurrir** en caso de que en cierto fragmento de código haya un error o una parada del sistema"
   ]
  },
  {
   "cell_type": "code",
   "execution_count": 1,
   "id": "069adf87",
   "metadata": {},
   "outputs": [],
   "source": [
    "a = 5"
   ]
  },
  {
   "cell_type": "code",
   "execution_count": 2,
   "id": "5fef191c",
   "metadata": {},
   "outputs": [
    {
     "data": {
      "text/plain": [
       "10"
      ]
     },
     "execution_count": 2,
     "metadata": {},
     "output_type": "execute_result"
    }
   ],
   "source": [
    "archivo = open(\"archivo.txt\", \"w\")\n",
    "archivo.write(\"hola mundo\")\n",
    "# no cerramos el archivo"
   ]
  },
  {
   "cell_type": "code",
   "execution_count": 3,
   "id": "3c8addb3",
   "metadata": {},
   "outputs": [
    {
     "ename": "ZeroDivisionError",
     "evalue": "division by zero",
     "output_type": "error",
     "traceback": [
      "\u001b[0;31m---------------------------------------------------------------------------\u001b[0m",
      "\u001b[0;31mZeroDivisionError\u001b[0m                         Traceback (most recent call last)",
      "\u001b[0;32m<ipython-input-3-9cc6d45935d4>\u001b[0m in \u001b[0;36m<module>\u001b[0;34m\u001b[0m\n\u001b[0;32m----> 1\u001b[0;31m \u001b[0mr\u001b[0m \u001b[0;34m=\u001b[0m \u001b[0ma\u001b[0m \u001b[0;34m/\u001b[0m \u001b[0;36m0\u001b[0m\u001b[0;34m\u001b[0m\u001b[0;34m\u001b[0m\u001b[0m\n\u001b[0m\u001b[1;32m      2\u001b[0m \u001b[0marchivo\u001b[0m\u001b[0;34m.\u001b[0m\u001b[0mclose\u001b[0m\u001b[0;34m(\u001b[0m\u001b[0;34m)\u001b[0m\u001b[0;34m\u001b[0m\u001b[0;34m\u001b[0m\u001b[0m\n",
      "\u001b[0;31mZeroDivisionError\u001b[0m: division by zero"
     ]
    }
   ],
   "source": [
    "r = a / 0\n",
    "archivo.close()"
   ]
  },
  {
   "cell_type": "code",
   "execution_count": 4,
   "id": "acdabcc0",
   "metadata": {},
   "outputs": [
    {
     "ename": "ZeroDivisionError",
     "evalue": "division by zero",
     "output_type": "error",
     "traceback": [
      "\u001b[0;31m---------------------------------------------------------------------------\u001b[0m",
      "\u001b[0;31mZeroDivisionError\u001b[0m                         Traceback (most recent call last)",
      "\u001b[0;32m<ipython-input-4-94a9a3674950>\u001b[0m in \u001b[0;36m<module>\u001b[0;34m\u001b[0m\n\u001b[1;32m      3\u001b[0m \u001b[0;32mtry\u001b[0m\u001b[0;34m:\u001b[0m\u001b[0;34m\u001b[0m\u001b[0;34m\u001b[0m\u001b[0m\n\u001b[1;32m      4\u001b[0m     \u001b[0marchivo\u001b[0m\u001b[0;34m.\u001b[0m\u001b[0mwrite\u001b[0m\u001b[0;34m(\u001b[0m\u001b[0;34m\"escribiendo a toda costa\"\u001b[0m\u001b[0;34m)\u001b[0m\u001b[0;34m\u001b[0m\u001b[0;34m\u001b[0m\u001b[0m\n\u001b[0;32m----> 5\u001b[0;31m     \u001b[0mr\u001b[0m \u001b[0;34m=\u001b[0m \u001b[0ma\u001b[0m \u001b[0;34m/\u001b[0m \u001b[0;36m0\u001b[0m\u001b[0;34m\u001b[0m\u001b[0;34m\u001b[0m\u001b[0m\n\u001b[0m\u001b[1;32m      6\u001b[0m \u001b[0;32mfinally\u001b[0m\u001b[0;34m:\u001b[0m\u001b[0;34m\u001b[0m\u001b[0;34m\u001b[0m\u001b[0m\n\u001b[1;32m      7\u001b[0m     \u001b[0marchivo\u001b[0m\u001b[0;34m.\u001b[0m\u001b[0mclose\u001b[0m\u001b[0;34m(\u001b[0m\u001b[0;34m)\u001b[0m\u001b[0;34m\u001b[0m\u001b[0;34m\u001b[0m\u001b[0m\n",
      "\u001b[0;31mZeroDivisionError\u001b[0m: division by zero"
     ]
    }
   ],
   "source": [
    "# solución con excepciones\n",
    "\n",
    "try: \n",
    "    archivo.write(\"escribiendo a toda costa\")\n",
    "    r = a / 0\n",
    "finally: \n",
    "    archivo.close()"
   ]
  },
  {
   "cell_type": "code",
   "execution_count": 7,
   "id": "a839978b",
   "metadata": {},
   "outputs": [
    {
     "ename": "ZeroDivisionError",
     "evalue": "division by zero",
     "output_type": "error",
     "traceback": [
      "\u001b[0;31m---------------------------------------------------------------------------\u001b[0m",
      "\u001b[0;31mZeroDivisionError\u001b[0m                         Traceback (most recent call last)",
      "\u001b[0;32m<ipython-input-7-ded0f4ab7894>\u001b[0m in \u001b[0;36m<module>\u001b[0;34m\u001b[0m\n\u001b[1;32m      7\u001b[0m \u001b[0;32mwith\u001b[0m \u001b[0mopen\u001b[0m\u001b[0;34m(\u001b[0m\u001b[0;34m\"archivo.txt\"\u001b[0m\u001b[0;34m,\u001b[0m \u001b[0;34m\"w\"\u001b[0m\u001b[0;34m)\u001b[0m \u001b[0;32mas\u001b[0m \u001b[0marchivo\u001b[0m\u001b[0;34m:\u001b[0m\u001b[0;34m\u001b[0m\u001b[0;34m\u001b[0m\u001b[0m\n\u001b[1;32m      8\u001b[0m     \u001b[0marchivo\u001b[0m\u001b[0;34m.\u001b[0m\u001b[0mwrite\u001b[0m\u001b[0;34m(\u001b[0m\u001b[0;34m\"escribiendo con with\"\u001b[0m\u001b[0;34m)\u001b[0m\u001b[0;34m\u001b[0m\u001b[0;34m\u001b[0m\u001b[0m\n\u001b[0;32m----> 9\u001b[0;31m     \u001b[0mr\u001b[0m \u001b[0;34m=\u001b[0m \u001b[0ma\u001b[0m \u001b[0;34m/\u001b[0m \u001b[0;36m0\u001b[0m\u001b[0;34m\u001b[0m\u001b[0;34m\u001b[0m\u001b[0m\n\u001b[0m",
      "\u001b[0;31mZeroDivisionError\u001b[0m: division by zero"
     ]
    }
   ],
   "source": [
    "# CONTEXT MANAGER\n",
    "\n",
    "# con la sentencia with generamos un contexto\n",
    "\n",
    "# automáticamente, por ejemplo esto se puede hacer con ficheros\n",
    "\n",
    "with open(\"archivo.txt\", \"w\") as archivo:\n",
    "    archivo.write(\"escribiendo con with\")\n",
    "    r = a / 0"
   ]
  },
  {
   "cell_type": "markdown",
   "id": "2434b0f9",
   "metadata": {},
   "source": [
    "# usos context manager\n",
    "\n",
    "- Cerrar ficheros o sockets\n",
    "- Commit de transacciones\n",
    "- liberar locks\n",
    "- restaurar valores iniciales\n",
    "\n",
    "\n",
    "# context manager con clases\n",
    "\n",
    "- `__enter__` es el método before, devuelve el valor de la clausula as\n",
    "- `__exit__`es el método after, que acepta 3 argumentos (tipo de excepción, instancia de la excepción y traceback). Devuelve True si queremos capturar las excepciones que ocurran dentro de with\n",
    "- `__init__` capturaremos los argumentos del context manager (fichero a abrir, etc)"
   ]
  },
  {
   "cell_type": "code",
   "execution_count": 8,
   "id": "5f014489",
   "metadata": {},
   "outputs": [],
   "source": [
    "class MiCM:\n",
    "    def __init__(self, archivo: str, modo: str) -> None:\n",
    "        self._archivo = open(archivo, modo)\n",
    "        \n",
    "    def __enter__(self):\n",
    "        print(\"estoy en enter\")\n",
    "        return self._archivo\n",
    "    \n",
    "    def __exit__(self, exType, ex, tb):\n",
    "        print(\"en la salida\")\n",
    "        self._archivo.close()"
   ]
  },
  {
   "cell_type": "code",
   "execution_count": 9,
   "id": "783227ce",
   "metadata": {},
   "outputs": [
    {
     "name": "stdout",
     "output_type": "stream",
     "text": [
      "estoy en enter\n",
      "en la salida\n"
     ]
    }
   ],
   "source": [
    "with MiCM(\"archivoctx.txt\", \"w\") as file:\n",
    "    file.write(\"hola amigos\")"
   ]
  },
  {
   "cell_type": "code",
   "execution_count": 10,
   "id": "04da5636",
   "metadata": {},
   "outputs": [],
   "source": [
    "class MiCM:\n",
    "    def __init__(self, archivo: str, modo: str) -> None:\n",
    "        self._archivo = open(archivo, modo)\n",
    "        \n",
    "    def __enter__(self):\n",
    "        print(\"estoy en enter\")\n",
    "        return self._archivo\n",
    "    \n",
    "    def __exit__(self, exType, ex, tb):\n",
    "        print(\"en la salida\")\n",
    "        print(\"tipo de excepcion\", exType)\n",
    "        print(\"excepcion\", ex)\n",
    "        print(\"traceback\", tb)\n",
    "        self._archivo.close()"
   ]
  },
  {
   "cell_type": "code",
   "execution_count": 11,
   "id": "0a481d34",
   "metadata": {},
   "outputs": [
    {
     "name": "stdout",
     "output_type": "stream",
     "text": [
      "estoy en enter\n",
      "en la salida\n",
      "tipo de excepcion <class 'ZeroDivisionError'>\n",
      "excepcion division by zero\n",
      "traceback <traceback object at 0x7f75304cbe60>\n"
     ]
    },
    {
     "ename": "ZeroDivisionError",
     "evalue": "division by zero",
     "output_type": "error",
     "traceback": [
      "\u001b[0;31m---------------------------------------------------------------------------\u001b[0m",
      "\u001b[0;31mZeroDivisionError\u001b[0m                         Traceback (most recent call last)",
      "\u001b[0;32m<ipython-input-11-a6b825103e85>\u001b[0m in \u001b[0;36m<module>\u001b[0;34m\u001b[0m\n\u001b[1;32m      1\u001b[0m \u001b[0;32mwith\u001b[0m \u001b[0mMiCM\u001b[0m\u001b[0;34m(\u001b[0m\u001b[0;34m\"archivoctx.txt\"\u001b[0m\u001b[0;34m,\u001b[0m \u001b[0;34m\"w\"\u001b[0m\u001b[0;34m)\u001b[0m \u001b[0;32mas\u001b[0m \u001b[0mfile\u001b[0m\u001b[0;34m:\u001b[0m\u001b[0;34m\u001b[0m\u001b[0;34m\u001b[0m\u001b[0m\n\u001b[1;32m      2\u001b[0m     \u001b[0mfile\u001b[0m\u001b[0;34m.\u001b[0m\u001b[0mwrite\u001b[0m\u001b[0;34m(\u001b[0m\u001b[0;34m\"hola amigos\"\u001b[0m\u001b[0;34m)\u001b[0m\u001b[0;34m\u001b[0m\u001b[0;34m\u001b[0m\u001b[0m\n\u001b[0;32m----> 3\u001b[0;31m     \u001b[0mf\u001b[0m \u001b[0;34m=\u001b[0m \u001b[0;36m5\u001b[0m\u001b[0;34m/\u001b[0m\u001b[0;36m0\u001b[0m\u001b[0;34m\u001b[0m\u001b[0;34m\u001b[0m\u001b[0m\n\u001b[0m",
      "\u001b[0;31mZeroDivisionError\u001b[0m: division by zero"
     ]
    }
   ],
   "source": [
    "with MiCM(\"archivoctx.txt\", \"w\") as file:\n",
    "    file.write(\"hola amigos\")\n",
    "    f = 5/0"
   ]
  },
  {
   "cell_type": "code",
   "execution_count": 12,
   "id": "853d446b",
   "metadata": {},
   "outputs": [],
   "source": [
    "class MiCM:\n",
    "    def __init__(self, archivo: str, modo: str) -> None:\n",
    "        self._archivo = open(archivo, modo)\n",
    "        \n",
    "    def __enter__(self):\n",
    "        print(\"estoy en enter\")\n",
    "        return self._archivo\n",
    "    \n",
    "    def __exit__(self, exType, ex, tb):\n",
    "        print(\"en la salida\")\n",
    "        self._archivo.close()\n",
    "        if exType == ZeroDivisionError:\n",
    "            print(\"ojo que estás dividiendo entre cero\")\n",
    "            return True\n",
    "            \n",
    "   "
   ]
  },
  {
   "cell_type": "code",
   "execution_count": 13,
   "id": "7088a2f7",
   "metadata": {},
   "outputs": [
    {
     "name": "stdout",
     "output_type": "stream",
     "text": [
      "estoy en enter\n",
      "en la salida\n",
      "ojo que estás dividiendo entre cero\n"
     ]
    }
   ],
   "source": [
    "with MiCM(\"archivoctx.txt\", \"w\") as file:\n",
    "    file.write(\"hola amigos\")\n",
    "    f = 5/0"
   ]
  },
  {
   "cell_type": "code",
   "execution_count": 14,
   "id": "bcba326c",
   "metadata": {},
   "outputs": [
    {
     "name": "stdout",
     "output_type": "stream",
     "text": [
      "estoy en enter\n",
      "en la salida\n"
     ]
    },
    {
     "ename": "RuntimeError",
     "evalue": "No active exception to reraise",
     "output_type": "error",
     "traceback": [
      "\u001b[0;31m---------------------------------------------------------------------------\u001b[0m",
      "\u001b[0;31mRuntimeError\u001b[0m                              Traceback (most recent call last)",
      "\u001b[0;32m<ipython-input-14-4ee8bd992600>\u001b[0m in \u001b[0;36m<module>\u001b[0;34m\u001b[0m\n\u001b[1;32m      1\u001b[0m \u001b[0;32mwith\u001b[0m \u001b[0mMiCM\u001b[0m\u001b[0;34m(\u001b[0m\u001b[0;34m\"archivoctx.txt\"\u001b[0m\u001b[0;34m,\u001b[0m \u001b[0;34m\"w\"\u001b[0m\u001b[0;34m)\u001b[0m \u001b[0;32mas\u001b[0m \u001b[0mfile\u001b[0m\u001b[0;34m:\u001b[0m\u001b[0;34m\u001b[0m\u001b[0;34m\u001b[0m\u001b[0m\n\u001b[1;32m      2\u001b[0m     \u001b[0mfile\u001b[0m\u001b[0;34m.\u001b[0m\u001b[0mwrite\u001b[0m\u001b[0;34m(\u001b[0m\u001b[0;34m\"hola amigos\"\u001b[0m\u001b[0;34m)\u001b[0m\u001b[0;34m\u001b[0m\u001b[0;34m\u001b[0m\u001b[0m\n\u001b[0;32m----> 3\u001b[0;31m     \u001b[0;32mraise\u001b[0m\u001b[0;34m\u001b[0m\u001b[0;34m\u001b[0m\u001b[0m\n\u001b[0m",
      "\u001b[0;31mRuntimeError\u001b[0m: No active exception to reraise"
     ]
    }
   ],
   "source": [
    "with MiCM(\"archivoctx.txt\", \"w\") as file:\n",
    "    file.write(\"hola amigos\")\n",
    "    raise"
   ]
  },
  {
   "cell_type": "code",
   "execution_count": 15,
   "id": "f5f75801",
   "metadata": {},
   "outputs": [],
   "source": [
    "def haz_dos_cosas():\n",
    "    print(\"first thing\")\n",
    "    yield\n",
    "    print(\"second thinb\")"
   ]
  },
  {
   "cell_type": "code",
   "execution_count": 16,
   "id": "596c55e0",
   "metadata": {},
   "outputs": [],
   "source": [
    "gen = haz_dos_cosas()"
   ]
  },
  {
   "cell_type": "code",
   "execution_count": 17,
   "id": "15ad4a91",
   "metadata": {},
   "outputs": [
    {
     "name": "stdout",
     "output_type": "stream",
     "text": [
      "first thing\n"
     ]
    }
   ],
   "source": [
    "next(gen)"
   ]
  },
  {
   "cell_type": "code",
   "execution_count": 18,
   "id": "ab5c882d",
   "metadata": {},
   "outputs": [
    {
     "name": "stdout",
     "output_type": "stream",
     "text": [
      "second thinb\n"
     ]
    },
    {
     "ename": "StopIteration",
     "evalue": "",
     "output_type": "error",
     "traceback": [
      "\u001b[0;31m---------------------------------------------------------------------------\u001b[0m",
      "\u001b[0;31mStopIteration\u001b[0m                             Traceback (most recent call last)",
      "\u001b[0;32m<ipython-input-18-6e72e47198db>\u001b[0m in \u001b[0;36m<module>\u001b[0;34m\u001b[0m\n\u001b[0;32m----> 1\u001b[0;31m \u001b[0mnext\u001b[0m\u001b[0;34m(\u001b[0m\u001b[0mgen\u001b[0m\u001b[0;34m)\u001b[0m\u001b[0;34m\u001b[0m\u001b[0;34m\u001b[0m\u001b[0m\n\u001b[0m",
      "\u001b[0;31mStopIteration\u001b[0m: "
     ]
    }
   ],
   "source": [
    "next(gen)"
   ]
  },
  {
   "cell_type": "markdown",
   "id": "c19bdce6",
   "metadata": {},
   "source": [
    "# contextlib.contextmanager\n",
    "\n",
    "- tengo que escribir una función que puede ejecutarse **exactamente** dos veces (un yield)\n",
    "- lo que ocurre tras el yield está garantizado que se va a a ejecutart\n",
    "- devolver en el yield lo que quieres devolver en el as"
   ]
  },
  {
   "cell_type": "code",
   "execution_count": 19,
   "id": "5e15f004",
   "metadata": {},
   "outputs": [],
   "source": [
    "from contextlib import contextmanager"
   ]
  },
  {
   "cell_type": "code",
   "execution_count": 20,
   "id": "83c5edc5",
   "metadata": {},
   "outputs": [],
   "source": [
    "@contextmanager\n",
    "def escritura(filename):\n",
    "    fichero = open(filename, \"w\")\n",
    "    try:\n",
    "        yield fichero\n",
    "    finally:\n",
    "        fichero.close()"
   ]
  },
  {
   "cell_type": "code",
   "execution_count": 21,
   "id": "04134c3f",
   "metadata": {},
   "outputs": [],
   "source": [
    "with escritura(\"ejemplo.txt\") as fichero:\n",
    "    fichero.write(\"hola mundo\\n\")\n",
    "    fichero.write(\"segunda linea\")"
   ]
  },
  {
   "cell_type": "code",
   "execution_count": 23,
   "id": "1e1f8437",
   "metadata": {},
   "outputs": [
    {
     "ename": "ValueError",
     "evalue": "I/O operation on closed file.",
     "output_type": "error",
     "traceback": [
      "\u001b[0;31m---------------------------------------------------------------------------\u001b[0m",
      "\u001b[0;31mValueError\u001b[0m                                Traceback (most recent call last)",
      "\u001b[0;32m<ipython-input-23-aa9f38c970e6>\u001b[0m in \u001b[0;36m<module>\u001b[0;34m\u001b[0m\n\u001b[0;32m----> 1\u001b[0;31m \u001b[0mfichero\u001b[0m\u001b[0;34m.\u001b[0m\u001b[0mwrite\u001b[0m\u001b[0;34m(\u001b[0m\u001b[0;34m\"holaa\"\u001b[0m\u001b[0;34m)\u001b[0m\u001b[0;34m\u001b[0m\u001b[0;34m\u001b[0m\u001b[0m\n\u001b[0m",
      "\u001b[0;31mValueError\u001b[0m: I/O operation on closed file."
     ]
    }
   ],
   "source": [
    "fichero.write(\"holaa\")"
   ]
  },
  {
   "cell_type": "code",
   "execution_count": 25,
   "id": "60ecd2a5",
   "metadata": {},
   "outputs": [
    {
     "data": {
      "text/plain": [
       "1"
      ]
     },
     "execution_count": 25,
     "metadata": {},
     "output_type": "execute_result"
    }
   ],
   "source": [
    "lista = [1,2,3,4,5]\n",
    "lista.pop()\n",
    "lista.pop()\n",
    "lista.pop()\n",
    "lista.pop()\n",
    "lista.pop()"
   ]
  },
  {
   "cell_type": "code",
   "execution_count": 26,
   "id": "8b35e1fb",
   "metadata": {},
   "outputs": [
    {
     "data": {
      "text/plain": [
       "[]"
      ]
     },
     "execution_count": 26,
     "metadata": {},
     "output_type": "execute_result"
    }
   ],
   "source": [
    "lista"
   ]
  },
  {
   "cell_type": "code",
   "execution_count": 27,
   "id": "7850e00d",
   "metadata": {},
   "outputs": [
    {
     "ename": "RuntimeError",
     "evalue": "No active exception to reraise",
     "output_type": "error",
     "traceback": [
      "\u001b[0;31m---------------------------------------------------------------------------\u001b[0m",
      "\u001b[0;31mRuntimeError\u001b[0m                              Traceback (most recent call last)",
      "\u001b[0;32m<ipython-input-27-fb144cb49aa9>\u001b[0m in \u001b[0;36m<module>\u001b[0;34m\u001b[0m\n\u001b[1;32m      3\u001b[0m \u001b[0mlista\u001b[0m\u001b[0;34m.\u001b[0m\u001b[0mpop\u001b[0m\u001b[0;34m(\u001b[0m\u001b[0;34m)\u001b[0m\u001b[0;34m\u001b[0m\u001b[0;34m\u001b[0m\u001b[0m\n\u001b[1;32m      4\u001b[0m \u001b[0mlista\u001b[0m\u001b[0;34m.\u001b[0m\u001b[0mpop\u001b[0m\u001b[0;34m(\u001b[0m\u001b[0;34m)\u001b[0m\u001b[0;34m\u001b[0m\u001b[0;34m\u001b[0m\u001b[0m\n\u001b[0;32m----> 5\u001b[0;31m \u001b[0;32mraise\u001b[0m\u001b[0;34m\u001b[0m\u001b[0;34m\u001b[0m\u001b[0m\n\u001b[0m\u001b[1;32m      6\u001b[0m \u001b[0mlista\u001b[0m\u001b[0;34m.\u001b[0m\u001b[0mpop\u001b[0m\u001b[0;34m(\u001b[0m\u001b[0;34m)\u001b[0m\u001b[0;34m\u001b[0m\u001b[0;34m\u001b[0m\u001b[0m\n\u001b[1;32m      7\u001b[0m \u001b[0mlista\u001b[0m\u001b[0;34m.\u001b[0m\u001b[0mpop\u001b[0m\u001b[0;34m(\u001b[0m\u001b[0;34m)\u001b[0m\u001b[0;34m\u001b[0m\u001b[0;34m\u001b[0m\u001b[0m\n",
      "\u001b[0;31mRuntimeError\u001b[0m: No active exception to reraise"
     ]
    }
   ],
   "source": [
    "lista = [1,2,3,4,5]\n",
    "lista.pop()\n",
    "lista.pop()\n",
    "lista.pop()\n",
    "raise\n",
    "lista.pop()\n",
    "lista.pop()"
   ]
  },
  {
   "cell_type": "code",
   "execution_count": 28,
   "id": "65a3471f",
   "metadata": {},
   "outputs": [
    {
     "data": {
      "text/plain": [
       "[1, 2]"
      ]
     },
     "execution_count": 28,
     "metadata": {},
     "output_type": "execute_result"
    }
   ],
   "source": [
    "lista"
   ]
  },
  {
   "cell_type": "code",
   "execution_count": 32,
   "id": "076b1864",
   "metadata": {},
   "outputs": [],
   "source": [
    "@contextmanager\n",
    "def contextList(lista):\n",
    "    l = lista[:]\n",
    "    print(l)\n",
    "    try:\n",
    "        yield lista\n",
    "    except:\n",
    "        lista = l\n",
    "        return"
   ]
  },
  {
   "cell_type": "code",
   "execution_count": null,
   "id": "7c5368cc",
   "metadata": {},
   "outputs": [],
   "source": []
  },
  {
   "cell_type": "code",
   "execution_count": 31,
   "id": "8247c573",
   "metadata": {},
   "outputs": [
    {
     "data": {
      "text/plain": [
       "[1, 2, 3]"
      ]
     },
     "execution_count": 31,
     "metadata": {},
     "output_type": "execute_result"
    }
   ],
   "source": [
    "lista = [1,2,3,4,5]\n",
    "with contextList(lista) as l:\n",
    "    l.pop()\n",
    "    l.pop()\n",
    "    raise\n",
    "    l.pop()\n",
    "    l.pop()\n",
    "    l.pop()\n",
    "\n",
    "lista"
   ]
  },
  {
   "cell_type": "code",
   "execution_count": null,
   "id": "c1ad77cb",
   "metadata": {},
   "outputs": [],
   "source": []
  },
  {
   "cell_type": "code",
   "execution_count": null,
   "id": "e712b518",
   "metadata": {},
   "outputs": [],
   "source": []
  },
  {
   "cell_type": "code",
   "execution_count": null,
   "id": "7cf780d0",
   "metadata": {},
   "outputs": [],
   "source": []
  },
  {
   "cell_type": "code",
   "execution_count": null,
   "id": "1358e222",
   "metadata": {},
   "outputs": [],
   "source": []
  },
  {
   "cell_type": "code",
   "execution_count": null,
   "id": "eddd0eb8",
   "metadata": {},
   "outputs": [],
   "source": []
  }
 ],
 "metadata": {
  "kernelspec": {
   "display_name": "Python 3",
   "language": "python",
   "name": "python3"
  },
  "language_info": {
   "codemirror_mode": {
    "name": "ipython",
    "version": 3
   },
   "file_extension": ".py",
   "mimetype": "text/x-python",
   "name": "python",
   "nbconvert_exporter": "python",
   "pygments_lexer": "ipython3",
   "version": "3.7.11"
  }
 },
 "nbformat": 4,
 "nbformat_minor": 5
}
