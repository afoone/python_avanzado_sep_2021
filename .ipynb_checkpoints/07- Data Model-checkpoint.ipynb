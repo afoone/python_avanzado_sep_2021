{
 "cells": [
  {
   "cell_type": "code",
   "execution_count": 1,
   "id": "c15e766e",
   "metadata": {},
   "outputs": [],
   "source": [
    "a = [1,2,3,4,5]"
   ]
  },
  {
   "cell_type": "code",
   "execution_count": 2,
   "id": "5de77ea0",
   "metadata": {},
   "outputs": [
    {
     "data": {
      "text/plain": [
       "5"
      ]
     },
     "execution_count": 2,
     "metadata": {},
     "output_type": "execute_result"
    }
   ],
   "source": [
    "len(a)"
   ]
  },
  {
   "cell_type": "code",
   "execution_count": 3,
   "id": "3f40745d",
   "metadata": {},
   "outputs": [
    {
     "data": {
      "text/plain": [
       "8"
      ]
     },
     "execution_count": 3,
     "metadata": {},
     "output_type": "execute_result"
    }
   ],
   "source": [
    "abs(-8)"
   ]
  },
  {
   "cell_type": "code",
   "execution_count": 4,
   "id": "41d1e88a",
   "metadata": {},
   "outputs": [
    {
     "data": {
      "text/plain": [
       "16"
      ]
     },
     "execution_count": 4,
     "metadata": {},
     "output_type": "execute_result"
    }
   ],
   "source": [
    " 8 + 8"
   ]
  },
  {
   "cell_type": "markdown",
   "id": "74cffa28",
   "metadata": {},
   "source": [
    "# `__dunder__` methods, metodos especiales o métodos mágicos"
   ]
  },
  {
   "cell_type": "code",
   "execution_count": 5,
   "id": "cc5ebcac",
   "metadata": {},
   "outputs": [
    {
     "data": {
      "text/plain": [
       "['__abs__',\n",
       " '__add__',\n",
       " '__and__',\n",
       " '__bool__',\n",
       " '__ceil__',\n",
       " '__class__',\n",
       " '__delattr__',\n",
       " '__dir__',\n",
       " '__divmod__',\n",
       " '__doc__',\n",
       " '__eq__',\n",
       " '__float__',\n",
       " '__floor__',\n",
       " '__floordiv__',\n",
       " '__format__',\n",
       " '__ge__',\n",
       " '__getattribute__',\n",
       " '__getnewargs__',\n",
       " '__gt__',\n",
       " '__hash__',\n",
       " '__index__',\n",
       " '__init__',\n",
       " '__init_subclass__',\n",
       " '__int__',\n",
       " '__invert__',\n",
       " '__le__',\n",
       " '__lshift__',\n",
       " '__lt__',\n",
       " '__mod__',\n",
       " '__mul__',\n",
       " '__ne__',\n",
       " '__neg__',\n",
       " '__new__',\n",
       " '__or__',\n",
       " '__pos__',\n",
       " '__pow__',\n",
       " '__radd__',\n",
       " '__rand__',\n",
       " '__rdivmod__',\n",
       " '__reduce__',\n",
       " '__reduce_ex__',\n",
       " '__repr__',\n",
       " '__rfloordiv__',\n",
       " '__rlshift__',\n",
       " '__rmod__',\n",
       " '__rmul__',\n",
       " '__ror__',\n",
       " '__round__',\n",
       " '__rpow__',\n",
       " '__rrshift__',\n",
       " '__rshift__',\n",
       " '__rsub__',\n",
       " '__rtruediv__',\n",
       " '__rxor__',\n",
       " '__setattr__',\n",
       " '__sizeof__',\n",
       " '__str__',\n",
       " '__sub__',\n",
       " '__subclasshook__',\n",
       " '__truediv__',\n",
       " '__trunc__',\n",
       " '__xor__',\n",
       " 'bit_length',\n",
       " 'conjugate',\n",
       " 'denominator',\n",
       " 'from_bytes',\n",
       " 'imag',\n",
       " 'numerator',\n",
       " 'real',\n",
       " 'to_bytes']"
      ]
     },
     "execution_count": 5,
     "metadata": {},
     "output_type": "execute_result"
    }
   ],
   "source": [
    "dir(int)"
   ]
  },
  {
   "cell_type": "markdown",
   "id": "1fd8c7e6",
   "metadata": {},
   "source": [
    "# Baraja en python\n",
    "\n",
    "`__getitem__` y `__len__`\n"
   ]
  },
  {
   "cell_type": "code",
   "execution_count": 6,
   "id": "ea2ecd3d",
   "metadata": {},
   "outputs": [],
   "source": [
    "import collections\n",
    "\n",
    "Card = collections.namedtuple(\"Card\", [\"carta\", \"palo\"])\n",
    "\n",
    "class Baraja:\n",
    "    palos = [\"oros\", \"copas\", \"espadas\", \"bastos\"]\n",
    "    cartas = [str(n) for n in range(2,8)] + [\"As\", \"Sota\", \"Caballo\", \"Rey\"]\n",
    "    \n",
    "    def __init__(self):\n",
    "        self.cards = [Card(carta, palo) for palo in self.palos for carta in self.cartas]\n",
    "        \n"
   ]
  },
  {
   "cell_type": "code",
   "execution_count": 7,
   "id": "3e3e31d3",
   "metadata": {},
   "outputs": [],
   "source": [
    "b = Baraja()"
   ]
  },
  {
   "cell_type": "code",
   "execution_count": 8,
   "id": "842a6936",
   "metadata": {},
   "outputs": [
    {
     "data": {
      "text/plain": [
       "[Card(carta='2', palo='oros'),\n",
       " Card(carta='3', palo='oros'),\n",
       " Card(carta='4', palo='oros'),\n",
       " Card(carta='5', palo='oros'),\n",
       " Card(carta='6', palo='oros'),\n",
       " Card(carta='7', palo='oros'),\n",
       " Card(carta='As', palo='oros'),\n",
       " Card(carta='Sota', palo='oros'),\n",
       " Card(carta='Caballo', palo='oros'),\n",
       " Card(carta='Rey', palo='oros'),\n",
       " Card(carta='2', palo='copas'),\n",
       " Card(carta='3', palo='copas'),\n",
       " Card(carta='4', palo='copas'),\n",
       " Card(carta='5', palo='copas'),\n",
       " Card(carta='6', palo='copas'),\n",
       " Card(carta='7', palo='copas'),\n",
       " Card(carta='As', palo='copas'),\n",
       " Card(carta='Sota', palo='copas'),\n",
       " Card(carta='Caballo', palo='copas'),\n",
       " Card(carta='Rey', palo='copas'),\n",
       " Card(carta='2', palo='espadas'),\n",
       " Card(carta='3', palo='espadas'),\n",
       " Card(carta='4', palo='espadas'),\n",
       " Card(carta='5', palo='espadas'),\n",
       " Card(carta='6', palo='espadas'),\n",
       " Card(carta='7', palo='espadas'),\n",
       " Card(carta='As', palo='espadas'),\n",
       " Card(carta='Sota', palo='espadas'),\n",
       " Card(carta='Caballo', palo='espadas'),\n",
       " Card(carta='Rey', palo='espadas'),\n",
       " Card(carta='2', palo='bastos'),\n",
       " Card(carta='3', palo='bastos'),\n",
       " Card(carta='4', palo='bastos'),\n",
       " Card(carta='5', palo='bastos'),\n",
       " Card(carta='6', palo='bastos'),\n",
       " Card(carta='7', palo='bastos'),\n",
       " Card(carta='As', palo='bastos'),\n",
       " Card(carta='Sota', palo='bastos'),\n",
       " Card(carta='Caballo', palo='bastos'),\n",
       " Card(carta='Rey', palo='bastos')]"
      ]
     },
     "execution_count": 8,
     "metadata": {},
     "output_type": "execute_result"
    }
   ],
   "source": [
    "b.cards"
   ]
  },
  {
   "cell_type": "code",
   "execution_count": 9,
   "id": "e8fe4f08",
   "metadata": {},
   "outputs": [
    {
     "data": {
      "text/plain": [
       "40"
      ]
     },
     "execution_count": 9,
     "metadata": {},
     "output_type": "execute_result"
    }
   ],
   "source": [
    "len(b.cards)"
   ]
  },
  {
   "cell_type": "code",
   "execution_count": 10,
   "id": "e826189b",
   "metadata": {},
   "outputs": [
    {
     "ename": "TypeError",
     "evalue": "object of type 'Baraja' has no len()",
     "output_type": "error",
     "traceback": [
      "\u001b[0;31m---------------------------------------------------------------------------\u001b[0m",
      "\u001b[0;31mTypeError\u001b[0m                                 Traceback (most recent call last)",
      "\u001b[0;32m<ipython-input-10-97d8916a185b>\u001b[0m in \u001b[0;36m<module>\u001b[0;34m\u001b[0m\n\u001b[0;32m----> 1\u001b[0;31m \u001b[0mlen\u001b[0m\u001b[0;34m(\u001b[0m\u001b[0mb\u001b[0m\u001b[0;34m)\u001b[0m\u001b[0;34m\u001b[0m\u001b[0;34m\u001b[0m\u001b[0m\n\u001b[0m",
      "\u001b[0;31mTypeError\u001b[0m: object of type 'Baraja' has no len()"
     ]
    }
   ],
   "source": [
    "len(b)"
   ]
  },
  {
   "cell_type": "code",
   "execution_count": 11,
   "id": "74cbf43d",
   "metadata": {},
   "outputs": [],
   "source": [
    "import collections\n",
    "\n",
    "Card = collections.namedtuple(\"Card\", [\"carta\", \"palo\"])\n",
    "\n",
    "class Baraja:\n",
    "    palos = [\"oros\", \"copas\", \"espadas\", \"bastos\"]\n",
    "    cartas = [str(n) for n in range(2,8)] + [\"As\", \"Sota\", \"Caballo\", \"Rey\"]\n",
    "    \n",
    "    def __init__(self):\n",
    "        self.__cards = [Card(carta, palo) for palo in self.palos for carta in self.cartas]\n",
    "        \n",
    "    def __len__(self):\n",
    "        return len(self.__cards)"
   ]
  },
  {
   "cell_type": "code",
   "execution_count": 12,
   "id": "09710637",
   "metadata": {},
   "outputs": [
    {
     "data": {
      "text/plain": [
       "40"
      ]
     },
     "execution_count": 12,
     "metadata": {},
     "output_type": "execute_result"
    }
   ],
   "source": [
    "len(Baraja())"
   ]
  },
  {
   "cell_type": "code",
   "execution_count": 13,
   "id": "21ecd2ff",
   "metadata": {},
   "outputs": [
    {
     "ename": "TypeError",
     "evalue": "'Baraja' object is not subscriptable",
     "output_type": "error",
     "traceback": [
      "\u001b[0;31m---------------------------------------------------------------------------\u001b[0m",
      "\u001b[0;31mTypeError\u001b[0m                                 Traceback (most recent call last)",
      "\u001b[0;32m<ipython-input-13-c4d44a81e6a9>\u001b[0m in \u001b[0;36m<module>\u001b[0;34m\u001b[0m\n\u001b[1;32m      1\u001b[0m \u001b[0mb\u001b[0m \u001b[0;34m=\u001b[0m \u001b[0mBaraja\u001b[0m\u001b[0;34m(\u001b[0m\u001b[0;34m)\u001b[0m\u001b[0;34m\u001b[0m\u001b[0;34m\u001b[0m\u001b[0m\n\u001b[0;32m----> 2\u001b[0;31m \u001b[0mb\u001b[0m\u001b[0;34m[\u001b[0m\u001b[0;36m0\u001b[0m\u001b[0;34m]\u001b[0m\u001b[0;34m\u001b[0m\u001b[0;34m\u001b[0m\u001b[0m\n\u001b[0m",
      "\u001b[0;31mTypeError\u001b[0m: 'Baraja' object is not subscriptable"
     ]
    }
   ],
   "source": [
    "b = Baraja()\n",
    "b[0]"
   ]
  },
  {
   "cell_type": "code",
   "execution_count": 14,
   "id": "4b35d766",
   "metadata": {},
   "outputs": [],
   "source": [
    "import collections\n",
    "\n",
    "Card = collections.namedtuple(\"Card\", [\"carta\", \"palo\"])\n",
    "\n",
    "class Baraja:\n",
    "    palos = [\"oros\", \"copas\", \"espadas\", \"bastos\"]\n",
    "    cartas = [str(n) for n in range(2,8)] + [\"As\", \"Sota\", \"Caballo\", \"Rey\"]\n",
    "    \n",
    "    def __init__(self):\n",
    "        self.__cards = [Card(carta, palo) for palo in self.palos for carta in self.cartas]\n",
    "        \n",
    "    def __len__(self):\n",
    "        return len(self.__cards)\n",
    "    \n",
    "    def __getitem__(self, position):\n",
    "        return self.__cards[position]"
   ]
  },
  {
   "cell_type": "code",
   "execution_count": 15,
   "id": "31eca7db",
   "metadata": {},
   "outputs": [
    {
     "data": {
      "text/plain": [
       "Card(carta='2', palo='oros')"
      ]
     },
     "execution_count": 15,
     "metadata": {},
     "output_type": "execute_result"
    }
   ],
   "source": [
    "b = Baraja()\n",
    "b[0]"
   ]
  },
  {
   "cell_type": "code",
   "execution_count": 16,
   "id": "8910a236",
   "metadata": {},
   "outputs": [
    {
     "data": {
      "text/plain": [
       "Card(carta='2', palo='copas')"
      ]
     },
     "execution_count": 16,
     "metadata": {},
     "output_type": "execute_result"
    }
   ],
   "source": [
    "b[10]"
   ]
  },
  {
   "cell_type": "code",
   "execution_count": 17,
   "id": "4cee4704",
   "metadata": {},
   "outputs": [
    {
     "data": {
      "text/plain": [
       "2"
      ]
     },
     "execution_count": 17,
     "metadata": {},
     "output_type": "execute_result"
    }
   ],
   "source": [
    "from random import choice\n",
    "\n",
    "choice([1,2,3,4])"
   ]
  },
  {
   "cell_type": "code",
   "execution_count": 18,
   "id": "bef7f02c",
   "metadata": {},
   "outputs": [
    {
     "data": {
      "text/plain": [
       "Card(carta='4', palo='bastos')"
      ]
     },
     "execution_count": 18,
     "metadata": {},
     "output_type": "execute_result"
    }
   ],
   "source": [
    "choice(b)"
   ]
  },
  {
   "cell_type": "code",
   "execution_count": 19,
   "id": "48a9b60d",
   "metadata": {},
   "outputs": [
    {
     "data": {
      "text/plain": [
       "[Card(carta='4', palo='oros'),\n",
       " Card(carta='5', palo='oros'),\n",
       " Card(carta='6', palo='oros'),\n",
       " Card(carta='7', palo='oros'),\n",
       " Card(carta='As', palo='oros'),\n",
       " Card(carta='Sota', palo='oros')]"
      ]
     },
     "execution_count": 19,
     "metadata": {},
     "output_type": "execute_result"
    }
   ],
   "source": [
    "# soportamos slicing\n",
    "\n",
    "b[2:8]"
   ]
  },
  {
   "cell_type": "code",
   "execution_count": 20,
   "id": "31487050",
   "metadata": {},
   "outputs": [
    {
     "data": {
      "text/plain": [
       "[Card(carta='2', palo='oros'),\n",
       " Card(carta='3', palo='oros'),\n",
       " Card(carta='4', palo='oros')]"
      ]
     },
     "execution_count": 20,
     "metadata": {},
     "output_type": "execute_result"
    }
   ],
   "source": [
    "b[:3]"
   ]
  },
  {
   "cell_type": "code",
   "execution_count": 21,
   "id": "0fbac702",
   "metadata": {},
   "outputs": [
    {
     "name": "stdout",
     "output_type": "stream",
     "text": [
      "Card(carta='2', palo='oros')\n",
      "Card(carta='3', palo='oros')\n",
      "Card(carta='4', palo='oros')\n",
      "Card(carta='5', palo='oros')\n",
      "Card(carta='6', palo='oros')\n",
      "Card(carta='7', palo='oros')\n",
      "Card(carta='As', palo='oros')\n",
      "Card(carta='Sota', palo='oros')\n",
      "Card(carta='Caballo', palo='oros')\n",
      "Card(carta='Rey', palo='oros')\n",
      "Card(carta='2', palo='copas')\n",
      "Card(carta='3', palo='copas')\n",
      "Card(carta='4', palo='copas')\n",
      "Card(carta='5', palo='copas')\n",
      "Card(carta='6', palo='copas')\n",
      "Card(carta='7', palo='copas')\n",
      "Card(carta='As', palo='copas')\n",
      "Card(carta='Sota', palo='copas')\n",
      "Card(carta='Caballo', palo='copas')\n",
      "Card(carta='Rey', palo='copas')\n",
      "Card(carta='2', palo='espadas')\n",
      "Card(carta='3', palo='espadas')\n",
      "Card(carta='4', palo='espadas')\n",
      "Card(carta='5', palo='espadas')\n",
      "Card(carta='6', palo='espadas')\n",
      "Card(carta='7', palo='espadas')\n",
      "Card(carta='As', palo='espadas')\n",
      "Card(carta='Sota', palo='espadas')\n",
      "Card(carta='Caballo', palo='espadas')\n",
      "Card(carta='Rey', palo='espadas')\n",
      "Card(carta='2', palo='bastos')\n",
      "Card(carta='3', palo='bastos')\n",
      "Card(carta='4', palo='bastos')\n",
      "Card(carta='5', palo='bastos')\n",
      "Card(carta='6', palo='bastos')\n",
      "Card(carta='7', palo='bastos')\n",
      "Card(carta='As', palo='bastos')\n",
      "Card(carta='Sota', palo='bastos')\n",
      "Card(carta='Caballo', palo='bastos')\n",
      "Card(carta='Rey', palo='bastos')\n"
     ]
    }
   ],
   "source": [
    "for c in b:\n",
    "    print (c)"
   ]
  },
  {
   "cell_type": "code",
   "execution_count": 22,
   "id": "388a7ea2",
   "metadata": {},
   "outputs": [
    {
     "name": "stdout",
     "output_type": "stream",
     "text": [
      "Card(carta='Rey', palo='bastos')\n",
      "Card(carta='Caballo', palo='bastos')\n",
      "Card(carta='Sota', palo='bastos')\n",
      "Card(carta='As', palo='bastos')\n",
      "Card(carta='7', palo='bastos')\n",
      "Card(carta='6', palo='bastos')\n",
      "Card(carta='5', palo='bastos')\n",
      "Card(carta='4', palo='bastos')\n",
      "Card(carta='3', palo='bastos')\n",
      "Card(carta='2', palo='bastos')\n",
      "Card(carta='Rey', palo='espadas')\n",
      "Card(carta='Caballo', palo='espadas')\n",
      "Card(carta='Sota', palo='espadas')\n",
      "Card(carta='As', palo='espadas')\n",
      "Card(carta='7', palo='espadas')\n",
      "Card(carta='6', palo='espadas')\n",
      "Card(carta='5', palo='espadas')\n",
      "Card(carta='4', palo='espadas')\n",
      "Card(carta='3', palo='espadas')\n",
      "Card(carta='2', palo='espadas')\n",
      "Card(carta='Rey', palo='copas')\n",
      "Card(carta='Caballo', palo='copas')\n",
      "Card(carta='Sota', palo='copas')\n",
      "Card(carta='As', palo='copas')\n",
      "Card(carta='7', palo='copas')\n",
      "Card(carta='6', palo='copas')\n",
      "Card(carta='5', palo='copas')\n",
      "Card(carta='4', palo='copas')\n",
      "Card(carta='3', palo='copas')\n",
      "Card(carta='2', palo='copas')\n",
      "Card(carta='Rey', palo='oros')\n",
      "Card(carta='Caballo', palo='oros')\n",
      "Card(carta='Sota', palo='oros')\n",
      "Card(carta='As', palo='oros')\n",
      "Card(carta='7', palo='oros')\n",
      "Card(carta='6', palo='oros')\n",
      "Card(carta='5', palo='oros')\n",
      "Card(carta='4', palo='oros')\n",
      "Card(carta='3', palo='oros')\n",
      "Card(carta='2', palo='oros')\n"
     ]
    }
   ],
   "source": [
    "for c in reversed(b):\n",
    "    print (c)"
   ]
  },
  {
   "cell_type": "code",
   "execution_count": 23,
   "id": "cfd9b23c",
   "metadata": {},
   "outputs": [
    {
     "data": {
      "text/plain": [
       "True"
      ]
     },
     "execution_count": 23,
     "metadata": {},
     "output_type": "execute_result"
    }
   ],
   "source": [
    "Card(\"7\", \"oros\") in b # busqueda secuencial, si queremos un método específico usamos __contains__"
   ]
  },
  {
   "cell_type": "code",
   "execution_count": 24,
   "id": "00494ffb",
   "metadata": {},
   "outputs": [],
   "source": [
    "import collections\n",
    "\n",
    "Card = collections.namedtuple(\"Card\", [\"carta\", \"palo\"])\n",
    "\n",
    "class Baraja:\n",
    "    palos = [\"oros\", \"copas\", \"espadas\", \"bastos\"]\n",
    "    cartas =  [str(n) for n in range(2,8)] + [ \"Sota\", \"Caballo\", \"Rey\", \"As\"]\n",
    "    \n",
    "    def __init__(self):\n",
    "        self.__cards = [Card(carta, palo) for palo in self.palos for carta in self.cartas]\n",
    "        \n",
    "    def __len__(self):\n",
    "        return len(self.__cards)\n",
    "    \n",
    "    def __getitem__(self, position):\n",
    "        return self.__cards[position]"
   ]
  },
  {
   "cell_type": "code",
   "execution_count": 25,
   "id": "d0166daf",
   "metadata": {},
   "outputs": [],
   "source": [
    "b = Baraja()"
   ]
  },
  {
   "cell_type": "code",
   "execution_count": 26,
   "id": "9f17108d",
   "metadata": {},
   "outputs": [
    {
     "name": "stdout",
     "output_type": "stream",
     "text": [
      "<__main__.Baraja object at 0x7ff6985e6d50>\n"
     ]
    }
   ],
   "source": [
    "print(b)"
   ]
  },
  {
   "cell_type": "code",
   "execution_count": 27,
   "id": "d61b5546",
   "metadata": {},
   "outputs": [],
   "source": [
    "def ordenar_cartas(card):\n",
    "    return Baraja.cartas.index(card.carta)"
   ]
  },
  {
   "cell_type": "code",
   "execution_count": null,
   "id": "db2dd2c2",
   "metadata": {},
   "outputs": [],
   "source": []
  },
  {
   "cell_type": "code",
   "execution_count": 28,
   "id": "ffcf53c2",
   "metadata": {},
   "outputs": [
    {
     "name": "stdout",
     "output_type": "stream",
     "text": [
      "Card(carta='2', palo='oros')\n",
      "Card(carta='2', palo='copas')\n",
      "Card(carta='2', palo='espadas')\n",
      "Card(carta='2', palo='bastos')\n",
      "Card(carta='3', palo='oros')\n",
      "Card(carta='3', palo='copas')\n",
      "Card(carta='3', palo='espadas')\n",
      "Card(carta='3', palo='bastos')\n",
      "Card(carta='4', palo='oros')\n",
      "Card(carta='4', palo='copas')\n",
      "Card(carta='4', palo='espadas')\n",
      "Card(carta='4', palo='bastos')\n",
      "Card(carta='5', palo='oros')\n",
      "Card(carta='5', palo='copas')\n",
      "Card(carta='5', palo='espadas')\n",
      "Card(carta='5', palo='bastos')\n",
      "Card(carta='6', palo='oros')\n",
      "Card(carta='6', palo='copas')\n",
      "Card(carta='6', palo='espadas')\n",
      "Card(carta='6', palo='bastos')\n",
      "Card(carta='7', palo='oros')\n",
      "Card(carta='7', palo='copas')\n",
      "Card(carta='7', palo='espadas')\n",
      "Card(carta='7', palo='bastos')\n",
      "Card(carta='Sota', palo='oros')\n",
      "Card(carta='Sota', palo='copas')\n",
      "Card(carta='Sota', palo='espadas')\n",
      "Card(carta='Sota', palo='bastos')\n",
      "Card(carta='Caballo', palo='oros')\n",
      "Card(carta='Caballo', palo='copas')\n",
      "Card(carta='Caballo', palo='espadas')\n",
      "Card(carta='Caballo', palo='bastos')\n",
      "Card(carta='Rey', palo='oros')\n",
      "Card(carta='Rey', palo='copas')\n",
      "Card(carta='Rey', palo='espadas')\n",
      "Card(carta='Rey', palo='bastos')\n",
      "Card(carta='As', palo='oros')\n",
      "Card(carta='As', palo='copas')\n",
      "Card(carta='As', palo='espadas')\n",
      "Card(carta='As', palo='bastos')\n"
     ]
    }
   ],
   "source": [
    "for c in sorted(b, key=ordenar_cartas):\n",
    "    print (c)"
   ]
  },
  {
   "cell_type": "code",
   "execution_count": 29,
   "id": "667b396c",
   "metadata": {},
   "outputs": [
    {
     "ename": "TypeError",
     "evalue": "'Baraja' object does not support item assignment",
     "output_type": "error",
     "traceback": [
      "\u001b[0;31m---------------------------------------------------------------------------\u001b[0m",
      "\u001b[0;31mTypeError\u001b[0m                                 Traceback (most recent call last)",
      "\u001b[0;32m<ipython-input-29-5fad8d3b87e2>\u001b[0m in \u001b[0;36m<module>\u001b[0;34m\u001b[0m\n\u001b[1;32m      2\u001b[0m \u001b[0;32mimport\u001b[0m \u001b[0mrandom\u001b[0m\u001b[0;34m\u001b[0m\u001b[0;34m\u001b[0m\u001b[0m\n\u001b[1;32m      3\u001b[0m \u001b[0;34m\u001b[0m\u001b[0m\n\u001b[0;32m----> 4\u001b[0;31m \u001b[0mrandom\u001b[0m\u001b[0;34m.\u001b[0m\u001b[0mshuffle\u001b[0m\u001b[0;34m(\u001b[0m\u001b[0mb\u001b[0m\u001b[0;34m)\u001b[0m\u001b[0;34m\u001b[0m\u001b[0;34m\u001b[0m\u001b[0m\n\u001b[0m",
      "\u001b[0;32m~/miniconda3/envs/jupyter/lib/python3.7/random.py\u001b[0m in \u001b[0;36mshuffle\u001b[0;34m(self, x, random)\u001b[0m\n\u001b[1;32m    276\u001b[0m                 \u001b[0;31m# pick an element in x[:i+1] with which to exchange x[i]\u001b[0m\u001b[0;34m\u001b[0m\u001b[0;34m\u001b[0m\u001b[0;34m\u001b[0m\u001b[0m\n\u001b[1;32m    277\u001b[0m                 \u001b[0mj\u001b[0m \u001b[0;34m=\u001b[0m \u001b[0mrandbelow\u001b[0m\u001b[0;34m(\u001b[0m\u001b[0mi\u001b[0m\u001b[0;34m+\u001b[0m\u001b[0;36m1\u001b[0m\u001b[0;34m)\u001b[0m\u001b[0;34m\u001b[0m\u001b[0;34m\u001b[0m\u001b[0m\n\u001b[0;32m--> 278\u001b[0;31m                 \u001b[0mx\u001b[0m\u001b[0;34m[\u001b[0m\u001b[0mi\u001b[0m\u001b[0;34m]\u001b[0m\u001b[0;34m,\u001b[0m \u001b[0mx\u001b[0m\u001b[0;34m[\u001b[0m\u001b[0mj\u001b[0m\u001b[0;34m]\u001b[0m \u001b[0;34m=\u001b[0m \u001b[0mx\u001b[0m\u001b[0;34m[\u001b[0m\u001b[0mj\u001b[0m\u001b[0;34m]\u001b[0m\u001b[0;34m,\u001b[0m \u001b[0mx\u001b[0m\u001b[0;34m[\u001b[0m\u001b[0mi\u001b[0m\u001b[0;34m]\u001b[0m\u001b[0;34m\u001b[0m\u001b[0;34m\u001b[0m\u001b[0m\n\u001b[0m\u001b[1;32m    279\u001b[0m         \u001b[0;32melse\u001b[0m\u001b[0;34m:\u001b[0m\u001b[0;34m\u001b[0m\u001b[0;34m\u001b[0m\u001b[0m\n\u001b[1;32m    280\u001b[0m             \u001b[0m_int\u001b[0m \u001b[0;34m=\u001b[0m \u001b[0mint\u001b[0m\u001b[0;34m\u001b[0m\u001b[0;34m\u001b[0m\u001b[0m\n",
      "\u001b[0;31mTypeError\u001b[0m: 'Baraja' object does not support item assignment"
     ]
    }
   ],
   "source": [
    "# las podemos barajar?\n",
    "import random\n",
    "\n",
    "random.shuffle(b)"
   ]
  },
  {
   "cell_type": "code",
   "execution_count": 30,
   "id": "eb096923",
   "metadata": {},
   "outputs": [],
   "source": [
    "import collections\n",
    "\n",
    "Card = collections.namedtuple(\"Card\", [\"carta\", \"palo\"])\n",
    "\n",
    "class Baraja:\n",
    "    palos = [\"oros\", \"copas\", \"espadas\", \"bastos\"]\n",
    "    cartas =  [str(n) for n in range(2,8)] + [ \"Sota\", \"Caballo\", \"Rey\", \"As\"]\n",
    "    \n",
    "    def __init__(self):\n",
    "        self.__cards = [Card(carta, palo) for palo in self.palos for carta in self.cartas]\n",
    "        \n",
    "    def __len__(self):\n",
    "        return len(self.__cards)\n",
    "    \n",
    "    def __getitem__(self, position):\n",
    "        return self.__cards[position]\n",
    "    \n",
    "    def __setitem__(self, position, value): #b[3]=Card...\n",
    "        self.__cards[position] = value\n",
    "        return self.__cards"
   ]
  },
  {
   "cell_type": "code",
   "execution_count": 31,
   "id": "8daa8b3b",
   "metadata": {},
   "outputs": [],
   "source": [
    "b = Baraja()"
   ]
  },
  {
   "cell_type": "code",
   "execution_count": 32,
   "id": "96d734c4",
   "metadata": {},
   "outputs": [],
   "source": [
    "import random\n",
    "\n",
    "random.shuffle(b)"
   ]
  },
  {
   "cell_type": "code",
   "execution_count": 33,
   "id": "2be8162f",
   "metadata": {},
   "outputs": [
    {
     "name": "stdout",
     "output_type": "stream",
     "text": [
      "Card(carta='5', palo='espadas')\n",
      "Card(carta='Sota', palo='oros')\n",
      "Card(carta='Caballo', palo='copas')\n",
      "Card(carta='Rey', palo='oros')\n",
      "Card(carta='4', palo='bastos')\n",
      "Card(carta='3', palo='espadas')\n",
      "Card(carta='5', palo='oros')\n",
      "Card(carta='2', palo='espadas')\n",
      "Card(carta='4', palo='copas')\n",
      "Card(carta='As', palo='copas')\n",
      "Card(carta='3', palo='bastos')\n",
      "Card(carta='6', palo='bastos')\n",
      "Card(carta='As', palo='oros')\n",
      "Card(carta='3', palo='oros')\n",
      "Card(carta='Caballo', palo='bastos')\n",
      "Card(carta='6', palo='copas')\n",
      "Card(carta='5', palo='bastos')\n",
      "Card(carta='2', palo='bastos')\n",
      "Card(carta='Caballo', palo='espadas')\n",
      "Card(carta='7', palo='oros')\n",
      "Card(carta='Sota', palo='espadas')\n",
      "Card(carta='Sota', palo='copas')\n",
      "Card(carta='4', palo='espadas')\n",
      "Card(carta='Rey', palo='espadas')\n",
      "Card(carta='6', palo='espadas')\n",
      "Card(carta='5', palo='copas')\n",
      "Card(carta='7', palo='espadas')\n",
      "Card(carta='Rey', palo='bastos')\n",
      "Card(carta='Sota', palo='bastos')\n",
      "Card(carta='6', palo='oros')\n",
      "Card(carta='7', palo='bastos')\n",
      "Card(carta='Caballo', palo='oros')\n",
      "Card(carta='2', palo='oros')\n",
      "Card(carta='As', palo='espadas')\n",
      "Card(carta='2', palo='copas')\n",
      "Card(carta='4', palo='oros')\n",
      "Card(carta='7', palo='copas')\n",
      "Card(carta='3', palo='copas')\n",
      "Card(carta='As', palo='bastos')\n",
      "Card(carta='Rey', palo='copas')\n"
     ]
    }
   ],
   "source": [
    "for c in b:\n",
    "    print (c)"
   ]
  },
  {
   "cell_type": "code",
   "execution_count": 34,
   "id": "fca40117",
   "metadata": {},
   "outputs": [
    {
     "data": {
      "text/plain": [
       "4"
      ]
     },
     "execution_count": 34,
     "metadata": {},
     "output_type": "execute_result"
    }
   ],
   "source": [
    "l  = [1,2,3,4]\n",
    "l.pop()\n",
    "# pop(l)"
   ]
  },
  {
   "cell_type": "code",
   "execution_count": 35,
   "id": "4288e0ba",
   "metadata": {},
   "outputs": [
    {
     "data": {
      "text/plain": [
       "[1, 2, 3]"
      ]
     },
     "execution_count": 35,
     "metadata": {},
     "output_type": "execute_result"
    }
   ],
   "source": [
    "l"
   ]
  },
  {
   "cell_type": "code",
   "execution_count": 36,
   "id": "b018b539",
   "metadata": {},
   "outputs": [],
   "source": [
    "import collections\n",
    "\n",
    "Card = collections.namedtuple(\"Card\", [\"carta\", \"palo\"])\n",
    "\n",
    "class Baraja:\n",
    "    palos = [\"oros\", \"copas\", \"espadas\", \"bastos\"]\n",
    "    cartas =  [str(n) for n in range(2,8)] + [ \"Sota\", \"Caballo\", \"Rey\", \"As\"]\n",
    "    \n",
    "    def __init__(self):\n",
    "        self.__cards = [Card(carta, palo) for palo in self.palos for carta in self.cartas]\n",
    "        \n",
    "    def __len__(self):\n",
    "        return len(self.__cards)\n",
    "    \n",
    "    def __getitem__(self, position):\n",
    "        return self.__cards[position]\n",
    "    \n",
    "    def __setitem__(self, position, value): #b[3]=Card...\n",
    "        self.__cards[position] = value\n",
    "        return self.__cards\n",
    "    \n",
    "    def pop(self):\n",
    "        return self.__cards.pop()"
   ]
  },
  {
   "cell_type": "code",
   "execution_count": 37,
   "id": "f079c498",
   "metadata": {},
   "outputs": [],
   "source": [
    "b = Baraja()"
   ]
  },
  {
   "cell_type": "code",
   "execution_count": 38,
   "id": "11c76e2e",
   "metadata": {},
   "outputs": [
    {
     "data": {
      "text/plain": [
       "Card(carta='As', palo='bastos')"
      ]
     },
     "execution_count": 38,
     "metadata": {},
     "output_type": "execute_result"
    }
   ],
   "source": [
    "b.pop()"
   ]
  },
  {
   "cell_type": "code",
   "execution_count": 39,
   "id": "02560b4b",
   "metadata": {},
   "outputs": [
    {
     "data": {
      "text/plain": [
       "Card(carta='Rey', palo='bastos')"
      ]
     },
     "execution_count": 39,
     "metadata": {},
     "output_type": "execute_result"
    }
   ],
   "source": [
    "b.pop()"
   ]
  },
  {
   "cell_type": "code",
   "execution_count": 40,
   "id": "e86866bc",
   "metadata": {},
   "outputs": [
    {
     "data": {
      "text/plain": [
       "38"
      ]
     },
     "execution_count": 40,
     "metadata": {},
     "output_type": "execute_result"
    }
   ],
   "source": [
    "len(b)"
   ]
  },
  {
   "cell_type": "code",
   "execution_count": 42,
   "id": "13c82d48",
   "metadata": {},
   "outputs": [
    {
     "data": {
      "text/plain": [
       "38"
      ]
     },
     "execution_count": 42,
     "metadata": {},
     "output_type": "execute_result"
    }
   ],
   "source": [
    "b.__len__()"
   ]
  },
  {
   "cell_type": "code",
   "execution_count": 43,
   "id": "7b1dadbd",
   "metadata": {},
   "outputs": [
    {
     "data": {
      "text/plain": [
       "3"
      ]
     },
     "execution_count": 43,
     "metadata": {},
     "output_type": "execute_result"
    }
   ],
   "source": [
    "[1,2,3].__len__()"
   ]
  },
  {
   "cell_type": "code",
   "execution_count": 44,
   "id": "8634de4c",
   "metadata": {},
   "outputs": [
    {
     "data": {
      "text/plain": [
       "3"
      ]
     },
     "execution_count": 44,
     "metadata": {},
     "output_type": "execute_result"
    }
   ],
   "source": [
    "len([1,2,3])"
   ]
  },
  {
   "cell_type": "code",
   "execution_count": 45,
   "id": "33781602",
   "metadata": {},
   "outputs": [
    {
     "data": {
      "text/plain": [
       "10"
      ]
     },
     "execution_count": 45,
     "metadata": {},
     "output_type": "execute_result"
    }
   ],
   "source": [
    "len(\"ksdjflksdj\")"
   ]
  },
  {
   "cell_type": "markdown",
   "id": "188c8b06",
   "metadata": {},
   "source": [
    "\"kdsjflksdj\".__len__()"
   ]
  },
  {
   "cell_type": "markdown",
   "id": "05e1e633",
   "metadata": {},
   "source": [
    "Python almacena las listas en una estructura similar a \n",
    "\n",
    "```c\n",
    "struct {\n",
    "    lista ...\n",
    "    len: 9\n",
    "}\n",
    "```"
   ]
  },
  {
   "cell_type": "code",
   "execution_count": 48,
   "id": "78f8cb83",
   "metadata": {},
   "outputs": [],
   "source": [
    "# por qué len() y no .len()\n",
    "# len([]) __len__ CPython obtimiza ese len()\n",
    "# len no se llama como un método en un tipo básico porque tiene para ellos un funcionamiento especial, optimizado\n",
    "# forma parte del zen de python \"lo pŕactico vence a lo puro\""
   ]
  },
  {
   "cell_type": "code",
   "execution_count": 49,
   "id": "dc1c1446",
   "metadata": {},
   "outputs": [],
   "source": [
    "# Tipos numéricos"
   ]
  },
  {
   "cell_type": "code",
   "execution_count": 64,
   "id": "149e962f",
   "metadata": {},
   "outputs": [],
   "source": [
    "class Vector:\n",
    "    \n",
    "    def __init__(self, x = 0, y = 0):\n",
    "        self.x = x\n",
    "        self.y = y\n",
    "        \n",
    "    def __repr__(self):\n",
    "        return f'-> ({self.x}, {self.y})'\n",
    "    \n",
    "    def __str__(self):\n",
    "        return f'Vector con x = ({self.x}) e y = ({self.y})'"
   ]
  },
  {
   "cell_type": "code",
   "execution_count": 65,
   "id": "81e7d926",
   "metadata": {},
   "outputs": [],
   "source": [
    "v = Vector(4, 8)"
   ]
  },
  {
   "cell_type": "code",
   "execution_count": 66,
   "id": "06b7bde0",
   "metadata": {},
   "outputs": [
    {
     "data": {
      "text/plain": [
       "-> (4, 8)"
      ]
     },
     "execution_count": 66,
     "metadata": {},
     "output_type": "execute_result"
    }
   ],
   "source": [
    "v"
   ]
  },
  {
   "cell_type": "code",
   "execution_count": 67,
   "id": "57909f06",
   "metadata": {},
   "outputs": [
    {
     "name": "stdout",
     "output_type": "stream",
     "text": [
      "Vector con x = (4) e y = (8)\n"
     ]
    }
   ],
   "source": [
    "print(v)"
   ]
  },
  {
   "cell_type": "code",
   "execution_count": 68,
   "id": "0978cbf3",
   "metadata": {},
   "outputs": [
    {
     "data": {
      "text/plain": [
       "'Vector con x = (4) e y = (8)'"
      ]
     },
     "execution_count": 68,
     "metadata": {},
     "output_type": "execute_result"
    }
   ],
   "source": [
    "str(v)"
   ]
  },
  {
   "cell_type": "code",
   "execution_count": 69,
   "id": "e96de76d",
   "metadata": {},
   "outputs": [
    {
     "ename": "TypeError",
     "evalue": "bad operand type for abs(): 'Vector'",
     "output_type": "error",
     "traceback": [
      "\u001b[0;31m---------------------------------------------------------------------------\u001b[0m",
      "\u001b[0;31mTypeError\u001b[0m                                 Traceback (most recent call last)",
      "\u001b[0;32m<ipython-input-69-09d4e6f30397>\u001b[0m in \u001b[0;36m<module>\u001b[0;34m\u001b[0m\n\u001b[0;32m----> 1\u001b[0;31m \u001b[0mabs\u001b[0m\u001b[0;34m(\u001b[0m\u001b[0mv\u001b[0m\u001b[0;34m)\u001b[0m\u001b[0;34m\u001b[0m\u001b[0;34m\u001b[0m\u001b[0m\n\u001b[0m",
      "\u001b[0;31mTypeError\u001b[0m: bad operand type for abs(): 'Vector'"
     ]
    }
   ],
   "source": [
    "abs(v)"
   ]
  },
  {
   "cell_type": "code",
   "execution_count": 103,
   "id": "0c2ae5ab",
   "metadata": {},
   "outputs": [],
   "source": [
    "from math import hypot\n",
    "\n",
    "class Vector:\n",
    "    \n",
    "    def __init__(self, x = 0, y = 0):\n",
    "        self.x = x\n",
    "        self.y = y\n",
    "        \n",
    "    def __repr__(self):\n",
    "        return f'-> ({self.x}, {self.y})'\n",
    "    \n",
    "    def __str__(self):\n",
    "        return f'Vector con x = ({self.x}) e y = ({self.y})'\n",
    "    \n",
    "    def __bool__(self):\n",
    "        return bool(abs(self))\n",
    "    \n",
    "    def __abs__(self):\n",
    "        return hypot(self.x, self.y)\n",
    "    \n",
    "    def __add__(self, value): # Esta función modifica el objeto\n",
    "        self.x += value.x\n",
    "        self.y += value.y\n",
    "        return Vector(self.x, self.y)\n",
    "    \n",
    "    def __mul__(self, scalar): # Esta función no modifica el objeto \n",
    "#         self.x *= scalar\n",
    "#         self.y *= scalar\n",
    "        return Vector(self.x * 3, self.y * 3)\n",
    "\n",
    "v = Vector(4, 8)"
   ]
  },
  {
   "cell_type": "code",
   "execution_count": 73,
   "id": "44486bd7",
   "metadata": {},
   "outputs": [
    {
     "data": {
      "text/plain": [
       "8.94427190999916"
      ]
     },
     "execution_count": 73,
     "metadata": {},
     "output_type": "execute_result"
    }
   ],
   "source": [
    "abs(v)"
   ]
  },
  {
   "cell_type": "code",
   "execution_count": 77,
   "id": "2e31ce5b",
   "metadata": {},
   "outputs": [],
   "source": [
    "v2 = Vector(1,1)"
   ]
  },
  {
   "cell_type": "code",
   "execution_count": 78,
   "id": "173dcfe3",
   "metadata": {},
   "outputs": [
    {
     "data": {
      "text/plain": [
       "-> (5, 9)"
      ]
     },
     "execution_count": 78,
     "metadata": {},
     "output_type": "execute_result"
    }
   ],
   "source": [
    "v + v2"
   ]
  },
  {
   "cell_type": "code",
   "execution_count": 81,
   "id": "d9b72a6e",
   "metadata": {},
   "outputs": [
    {
     "data": {
      "text/plain": [
       "-> (12, 24)"
      ]
     },
     "execution_count": 81,
     "metadata": {},
     "output_type": "execute_result"
    }
   ],
   "source": [
    "v * 3"
   ]
  },
  {
   "cell_type": "code",
   "execution_count": 82,
   "id": "4ebc4ae7",
   "metadata": {},
   "outputs": [
    {
     "data": {
      "text/plain": [
       "-> (12, 24)"
      ]
     },
     "execution_count": 82,
     "metadata": {},
     "output_type": "execute_result"
    }
   ],
   "source": [
    "v"
   ]
  },
  {
   "cell_type": "code",
   "execution_count": 83,
   "id": "622d2988",
   "metadata": {},
   "outputs": [
    {
     "data": {
      "text/plain": [
       "-> (36, 72)"
      ]
     },
     "execution_count": 83,
     "metadata": {},
     "output_type": "execute_result"
    }
   ],
   "source": [
    "v * 3"
   ]
  },
  {
   "cell_type": "code",
   "execution_count": 87,
   "id": "840543c3",
   "metadata": {},
   "outputs": [
    {
     "data": {
      "text/plain": [
       "-> (12, 24)"
      ]
     },
     "execution_count": 87,
     "metadata": {},
     "output_type": "execute_result"
    }
   ],
   "source": [
    "v*3"
   ]
  },
  {
   "cell_type": "code",
   "execution_count": 88,
   "id": "0aedeb2c",
   "metadata": {},
   "outputs": [
    {
     "data": {
      "text/plain": [
       "-> (4, 8)"
      ]
     },
     "execution_count": 88,
     "metadata": {},
     "output_type": "execute_result"
    }
   ],
   "source": [
    "v"
   ]
  },
  {
   "cell_type": "code",
   "execution_count": 92,
   "id": "7772c0f6",
   "metadata": {},
   "outputs": [
    {
     "name": "stdout",
     "output_type": "stream",
     "text": [
      "hay v\n"
     ]
    }
   ],
   "source": [
    "if (v):\n",
    "    print (\"hay v\")\n",
    "else:\n",
    "    print(\"no uve\")"
   ]
  },
  {
   "cell_type": "code",
   "execution_count": 93,
   "id": "ea7e0e57",
   "metadata": {},
   "outputs": [
    {
     "data": {
      "text/plain": [
       "140697095347856"
      ]
     },
     "execution_count": 93,
     "metadata": {},
     "output_type": "execute_result"
    }
   ],
   "source": [
    "id(v)"
   ]
  },
  {
   "cell_type": "code",
   "execution_count": 94,
   "id": "dac7955c",
   "metadata": {},
   "outputs": [
    {
     "name": "stdout",
     "output_type": "stream",
     "text": [
      "no uve\n"
     ]
    }
   ],
   "source": [
    "if (0):\n",
    "    print (\"hay v\")\n",
    "else:\n",
    "    print(\"no uve\")"
   ]
  },
  {
   "cell_type": "code",
   "execution_count": 104,
   "id": "42a6924d",
   "metadata": {},
   "outputs": [],
   "source": [
    "cero = Vector(0,0)"
   ]
  },
  {
   "cell_type": "code",
   "execution_count": 105,
   "id": "a21fead8",
   "metadata": {},
   "outputs": [
    {
     "data": {
      "text/plain": [
       "False"
      ]
     },
     "execution_count": 105,
     "metadata": {},
     "output_type": "execute_result"
    }
   ],
   "source": [
    "bool(cero)"
   ]
  },
  {
   "cell_type": "code",
   "execution_count": 106,
   "id": "0f50c19f",
   "metadata": {},
   "outputs": [
    {
     "name": "stdout",
     "output_type": "stream",
     "text": [
      "no uve\n"
     ]
    }
   ],
   "source": [
    "if (cero):\n",
    "    print (\"hay v\")\n",
    "else:\n",
    "    print(\"no uve\")"
   ]
  },
  {
   "cell_type": "code",
   "execution_count": 111,
   "id": "b79b8693",
   "metadata": {},
   "outputs": [],
   "source": [
    "class Spam:\n",
    "    def __new__(cls):\n",
    "        print(\"se ha hecho el new\")\n",
    "        inst = object.__new__(cls)\n",
    "        return inst\n",
    "    \n",
    "    def __init__(self):\n",
    "        print(\"init se ha llamado\")\n",
    "        self.name=\"pepito\""
   ]
  },
  {
   "cell_type": "code",
   "execution_count": 112,
   "id": "75678135",
   "metadata": {},
   "outputs": [
    {
     "name": "stdout",
     "output_type": "stream",
     "text": [
      "se ha hecho el new\n",
      "init se ha llamado\n"
     ]
    }
   ],
   "source": [
    "eggs = Spam()"
   ]
  },
  {
   "cell_type": "code",
   "execution_count": 113,
   "id": "c10f141a",
   "metadata": {},
   "outputs": [
    {
     "data": {
      "text/plain": [
       "'pepito'"
      ]
     },
     "execution_count": 113,
     "metadata": {},
     "output_type": "execute_result"
    }
   ],
   "source": [
    "eggs.name"
   ]
  },
  {
   "cell_type": "code",
   "execution_count": 114,
   "id": "ac695b55",
   "metadata": {},
   "outputs": [
    {
     "name": "stdout",
     "output_type": "stream",
     "text": [
      "se ha hecho el new\n",
      "init se ha llamado\n"
     ]
    },
    {
     "ename": "TypeError",
     "evalue": "unsupported operand type(s) for +: 'Spam' and 'str'",
     "output_type": "error",
     "traceback": [
      "\u001b[0;31m---------------------------------------------------------------------------\u001b[0m",
      "\u001b[0;31mTypeError\u001b[0m                                 Traceback (most recent call last)",
      "\u001b[0;32m<ipython-input-114-770a03cfb587>\u001b[0m in \u001b[0;36m<module>\u001b[0;34m\u001b[0m\n\u001b[0;32m----> 1\u001b[0;31m \u001b[0meggs\u001b[0m \u001b[0;34m=\u001b[0m \u001b[0mSpam\u001b[0m\u001b[0;34m(\u001b[0m\u001b[0;34m)\u001b[0m \u001b[0;34m+\u001b[0m \u001b[0;34m\" a lot\"\u001b[0m\u001b[0;34m\u001b[0m\u001b[0;34m\u001b[0m\u001b[0m\n\u001b[0m",
      "\u001b[0;31mTypeError\u001b[0m: unsupported operand type(s) for +: 'Spam' and 'str'"
     ]
    }
   ],
   "source": [
    "eggs = Spam() + \" a lot\""
   ]
  },
  {
   "cell_type": "code",
   "execution_count": null,
   "id": "02260512",
   "metadata": {},
   "outputs": [],
   "source": []
  },
  {
   "cell_type": "code",
   "execution_count": null,
   "id": "e78ff0a0",
   "metadata": {},
   "outputs": [],
   "source": []
  },
  {
   "cell_type": "code",
   "execution_count": null,
   "id": "a3729f18",
   "metadata": {},
   "outputs": [],
   "source": []
  },
  {
   "cell_type": "code",
   "execution_count": null,
   "id": "ef0452f9",
   "metadata": {},
   "outputs": [],
   "source": []
  },
  {
   "cell_type": "code",
   "execution_count": null,
   "id": "d06b9b7c",
   "metadata": {},
   "outputs": [],
   "source": []
  },
  {
   "cell_type": "code",
   "execution_count": null,
   "id": "602217dc",
   "metadata": {},
   "outputs": [],
   "source": []
  }
 ],
 "metadata": {
  "kernelspec": {
   "display_name": "Python 3",
   "language": "python",
   "name": "python3"
  },
  "language_info": {
   "codemirror_mode": {
    "name": "ipython",
    "version": 3
   },
   "file_extension": ".py",
   "mimetype": "text/x-python",
   "name": "python",
   "nbconvert_exporter": "python",
   "pygments_lexer": "ipython3",
   "version": "3.7.11"
  }
 },
 "nbformat": 4,
 "nbformat_minor": 5
}
