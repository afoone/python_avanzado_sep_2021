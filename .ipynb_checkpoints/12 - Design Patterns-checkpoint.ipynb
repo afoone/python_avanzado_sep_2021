{
 "cells": [
  {
   "cell_type": "markdown",
   "id": "83d15384",
   "metadata": {},
   "source": [
    "# Factory method\n",
    "\n",
    "Una factoría es un métodoque crea otros objetos\n",
    "\n",
    "- Vehiculo\n",
    "  -  Camión\n",
    "  -  Coche\n",
    "  \n",
    "```python\n",
    "if (clase == \"camion):\n",
    "    v = Camion()\n",
    "elif \n",
    "    (clase == \"coche\"):\n",
    "    v = Coche()\n",
    "```\n",
    "\n",
    "Cada vez que yo tuviese que crear un vehículo tendría que volver a hacer este código\n",
    "\n",
    "para eso está el factory method"
   ]
  },
  {
   "cell_type": "code",
   "execution_count": 15,
   "id": "22da4127",
   "metadata": {},
   "outputs": [],
   "source": [
    "# Diccionarios (traductor de una aplicación)\n",
    "import abc\n",
    "\n",
    "class ConcreteLocalizer(abc.ABC):\n",
    "    @abc.abstractmethod\n",
    "    def localize():\n",
    "        pass\n",
    "\n",
    "\n",
    "class SpanishLocalizer(ConcreteLocalizer):\n",
    "    \"\"\"\n",
    "    Tiene las traducciones al español\n",
    "    \"\"\"\n",
    "    def __init__(self) -> None:\n",
    "        self.traducciones = {\"dog\": \"perro\", \"cat\": \"gato\"}\n",
    "    def localize(self, msg):\n",
    "        return self.traducciones.get(msg, msg)\n",
    "    \n",
    "class EnglishLocalizer(ConcreteLocalizer):\n",
    "    def __init__(self) -> None:\n",
    "        self.traducciones = {\"dog\": \"dog\", \"cat\": \"cat\"}\n",
    "    def localize(self, msg):\n",
    "        return self.traducciones.get(msg, msg)"
   ]
  },
  {
   "cell_type": "code",
   "execution_count": 18,
   "id": "0eabe16b",
   "metadata": {},
   "outputs": [],
   "source": [
    "class Localizer:\n",
    "    localizers = {\n",
    "        \"english\": EnglishLocalizer,\n",
    "        \"spanish\": SpanishLocalizer\n",
    "    }\n",
    "    \n",
    "    # esta es la factoría\n",
    "    @classmethod\n",
    "    def get_localizer(cls, language : str = \"spanish\") -> ConcreteLocalizer:\n",
    "        return cls.localizers[language]()\n",
    "    "
   ]
  },
  {
   "cell_type": "code",
   "execution_count": 19,
   "id": "a21b3c7c",
   "metadata": {},
   "outputs": [
    {
     "data": {
      "text/plain": [
       "'perro'"
      ]
     },
     "execution_count": 19,
     "metadata": {},
     "output_type": "execute_result"
    }
   ],
   "source": [
    "Localizer.get_localizer(\"spanish\").localize(\"dog\")"
   ]
  },
  {
   "cell_type": "code",
   "execution_count": 20,
   "id": "08c5871a",
   "metadata": {},
   "outputs": [
    {
     "data": {
      "text/plain": [
       "'dog'"
      ]
     },
     "execution_count": 20,
     "metadata": {},
     "output_type": "execute_result"
    }
   ],
   "source": [
    "Localizer.get_localizer(\"english\").localize(\"dog\")"
   ]
  },
  {
   "cell_type": "code",
   "execution_count": 21,
   "id": "ba21cee3",
   "metadata": {},
   "outputs": [],
   "source": [
    "e = Localizer.get_localizer(\"english\")"
   ]
  },
  {
   "cell_type": "code",
   "execution_count": 22,
   "id": "410da781",
   "metadata": {},
   "outputs": [
    {
     "data": {
      "text/plain": [
       "<__main__.EnglishLocalizer at 0x7f5c147460d0>"
      ]
     },
     "execution_count": 22,
     "metadata": {},
     "output_type": "execute_result"
    }
   ],
   "source": [
    "e"
   ]
  },
  {
   "cell_type": "code",
   "execution_count": 23,
   "id": "1a700402",
   "metadata": {},
   "outputs": [
    {
     "data": {
      "text/plain": [
       "'gato'"
      ]
     },
     "execution_count": 23,
     "metadata": {},
     "output_type": "execute_result"
    }
   ],
   "source": [
    "Localizer.get_localizer().localize(\"cat\")"
   ]
  },
  {
   "cell_type": "code",
   "execution_count": 26,
   "id": "cba2242d",
   "metadata": {},
   "outputs": [],
   "source": [
    "# Diccionarios (traductor de una aplicación)\n",
    "# abstract factory method\n",
    "import abc\n",
    "\n",
    "class Localizer(abc.ABC):\n",
    "    @abc.abstractmethod\n",
    "    def localize():\n",
    "        pass\n",
    "    \n",
    "    @abc.abstractclassmethod\n",
    "    def get_localizer(cls, language : str = \"spanish\") -> ConcreteLocalizer:\n",
    "        pass\n",
    "\n",
    "\n",
    "class SpanishLocalizer(Localizer):\n",
    "    \"\"\"\n",
    "    Tiene las traducciones al español\n",
    "    \"\"\"\n",
    "    def __init__(self) -> None:\n",
    "        self.traducciones = {\"dog\": \"perro\", \"cat\": \"gato\"}\n",
    "    def localize(self, msg):\n",
    "        return self.traducciones.get(msg, msg)\n",
    "    def get_localizer():\n",
    "        return SpanishLocalizer()\n",
    "    \n",
    "class EnglishLocalizer(Localizer):\n",
    "    def __init__(self) -> None:\n",
    "        self.traducciones = {\"dog\": \"dog\", \"cat\": \"cat\"}\n",
    "    def localize(self, msg):\n",
    "        return self.traducciones.get(msg, msg)\n",
    "        \n",
    "    def get_localizer():\n",
    "        return EnglishLocalizer()"
   ]
  },
  {
   "cell_type": "code",
   "execution_count": 28,
   "id": "f923fbb1",
   "metadata": {},
   "outputs": [
    {
     "data": {
      "text/plain": [
       "'perro'"
      ]
     },
     "execution_count": 28,
     "metadata": {},
     "output_type": "execute_result"
    }
   ],
   "source": [
    "SpanishLocalizer.get_localizer().localize(\"dog\")"
   ]
  },
  {
   "cell_type": "markdown",
   "id": "7100853a",
   "metadata": {},
   "source": [
    "# Command\n",
    "\n",
    "Desacoplar el objeto que invoca a un trabajo de aquél que sabe cómo hacerlo. \n",
    "\n",
    "Items de menú. Tienes un menú con muchos items y cada item es responsable de una tarea. El objetivo es llamaaar a método ejecutar de los \"menu items\" cuando se pulsa, sin necesidad de saber qué es lo que va a hacer.\n",
    "\n"
   ]
  },
  {
   "cell_type": "code",
   "execution_count": 1,
   "id": "0722dac9",
   "metadata": {},
   "outputs": [],
   "source": [
    "import abc\n",
    "\n",
    "class Command(abc.ABC):\n",
    "    \"\"\"\n",
    "    Command pattern\n",
    "    \"\"\"\n",
    "    \n",
    "    @abc.abstractmethod\n",
    "    def execute(self, fichero: str) -> None:\n",
    "        pass\n",
    "    \n",
    "    @abc.abstractmethod\n",
    "    def undo(self) -> None:\n",
    "        pass\n",
    "    \n",
    "\n",
    "class HideFileCommand(Command):\n",
    "    \n",
    "    def __init__(self) -> None:\n",
    "        self.hidden_files = []\n",
    "    \n",
    "    def execute(self, filename: str) -> None:\n",
    "        self.hidden_files.append(filename)\n",
    "        print(f'Ocultando {filename}')\n",
    "        \n",
    "    def undo(self):\n",
    "        print(f'Des-Ocultando {self.hidden_files.pop()}')\n",
    "        \n",
    "class DeleteFileCommand(Command):\n",
    "    \n",
    "    def __init__(self) -> None:\n",
    "        self.deleted_files = []\n",
    "    \n",
    "    def execute(self, filename: str) -> None:\n",
    "        self.deleted_files.append(filename)\n",
    "        print(f'Borrando {filename}')\n",
    "        \n",
    "    def undo(self):\n",
    "        \n",
    "        print(f'Undelete {self.deleted_files.pop()}')\n",
    "        \n",
    "\n",
    "class MenuItem:\n",
    "    \"\"\"\n",
    "    El invocador\n",
    "    \"\"\"\n",
    "    def __init__(self, command: Command) -> None:\n",
    "        self.command = command\n",
    "        \n",
    "    def on_press(self, filename: str) -> None:\n",
    "        self.command.execute(filename)\n",
    "        \n",
    "    def on_undo(self):\n",
    "        self.command.undo()\n",
    "        \n",
    "        \n"
   ]
  },
  {
   "cell_type": "code",
   "execution_count": 54,
   "id": "f9ea0a73",
   "metadata": {},
   "outputs": [],
   "source": [
    "deleteButton = MenuItem(DeleteFileCommand())\n",
    "hideButton = MenuItem(HideFileCommand())"
   ]
  },
  {
   "cell_type": "code",
   "execution_count": 55,
   "id": "2f5b13c2",
   "metadata": {},
   "outputs": [
    {
     "name": "stdout",
     "output_type": "stream",
     "text": [
      "Borrando hola\n"
     ]
    }
   ],
   "source": [
    "deleteButton.on_press(\"hola\")"
   ]
  },
  {
   "cell_type": "code",
   "execution_count": 56,
   "id": "09b8a97b",
   "metadata": {},
   "outputs": [
    {
     "name": "stdout",
     "output_type": "stream",
     "text": [
      "Undelete hola\n"
     ]
    }
   ],
   "source": [
    "deleteButton.on_undo()"
   ]
  },
  {
   "cell_type": "code",
   "execution_count": 57,
   "id": "d58ec9b6",
   "metadata": {},
   "outputs": [
    {
     "name": "stdout",
     "output_type": "stream",
     "text": [
      "Ocultando filename\n"
     ]
    }
   ],
   "source": [
    "hideButton.on_press(\"filename\")"
   ]
  },
  {
   "cell_type": "code",
   "execution_count": 58,
   "id": "ec762f9b",
   "metadata": {},
   "outputs": [
    {
     "name": "stdout",
     "output_type": "stream",
     "text": [
      "Des-Ocultando filename\n"
     ]
    }
   ],
   "source": [
    "hideButton.on_undo()"
   ]
  },
  {
   "cell_type": "code",
   "execution_count": 59,
   "id": "86a4a444",
   "metadata": {},
   "outputs": [
    {
     "ename": "IndexError",
     "evalue": "pop from empty list",
     "output_type": "error",
     "traceback": [
      "\u001b[0;31m---------------------------------------------------------------------------\u001b[0m",
      "\u001b[0;31mIndexError\u001b[0m                                Traceback (most recent call last)",
      "\u001b[0;32m<ipython-input-59-cb225a60e7d7>\u001b[0m in \u001b[0;36m<module>\u001b[0;34m\u001b[0m\n\u001b[0;32m----> 1\u001b[0;31m \u001b[0mhideButton\u001b[0m\u001b[0;34m.\u001b[0m\u001b[0mon_undo\u001b[0m\u001b[0;34m(\u001b[0m\u001b[0;34m)\u001b[0m\u001b[0;34m\u001b[0m\u001b[0;34m\u001b[0m\u001b[0m\n\u001b[0m",
      "\u001b[0;32m<ipython-input-53-2a9d72ea40cb>\u001b[0m in \u001b[0;36mon_undo\u001b[0;34m(self)\u001b[0m\n\u001b[1;32m     52\u001b[0m \u001b[0;34m\u001b[0m\u001b[0m\n\u001b[1;32m     53\u001b[0m     \u001b[0;32mdef\u001b[0m \u001b[0mon_undo\u001b[0m\u001b[0;34m(\u001b[0m\u001b[0mself\u001b[0m\u001b[0;34m)\u001b[0m\u001b[0;34m:\u001b[0m\u001b[0;34m\u001b[0m\u001b[0;34m\u001b[0m\u001b[0m\n\u001b[0;32m---> 54\u001b[0;31m         \u001b[0mself\u001b[0m\u001b[0;34m.\u001b[0m\u001b[0mcommand\u001b[0m\u001b[0;34m.\u001b[0m\u001b[0mundo\u001b[0m\u001b[0;34m(\u001b[0m\u001b[0;34m)\u001b[0m\u001b[0;34m\u001b[0m\u001b[0;34m\u001b[0m\u001b[0m\n\u001b[0m\u001b[1;32m     55\u001b[0m \u001b[0;34m\u001b[0m\u001b[0m\n\u001b[1;32m     56\u001b[0m \u001b[0;34m\u001b[0m\u001b[0m\n",
      "\u001b[0;32m<ipython-input-53-2a9d72ea40cb>\u001b[0m in \u001b[0;36mundo\u001b[0;34m(self)\u001b[0m\n\u001b[1;32m     25\u001b[0m \u001b[0;34m\u001b[0m\u001b[0m\n\u001b[1;32m     26\u001b[0m     \u001b[0;32mdef\u001b[0m \u001b[0mundo\u001b[0m\u001b[0;34m(\u001b[0m\u001b[0mself\u001b[0m\u001b[0;34m)\u001b[0m\u001b[0;34m:\u001b[0m\u001b[0;34m\u001b[0m\u001b[0;34m\u001b[0m\u001b[0m\n\u001b[0;32m---> 27\u001b[0;31m         \u001b[0mprint\u001b[0m\u001b[0;34m(\u001b[0m\u001b[0;34mf'Des-Ocultando {self.hidden_files.pop()}'\u001b[0m\u001b[0;34m)\u001b[0m\u001b[0;34m\u001b[0m\u001b[0;34m\u001b[0m\u001b[0m\n\u001b[0m\u001b[1;32m     28\u001b[0m \u001b[0;34m\u001b[0m\u001b[0m\n\u001b[1;32m     29\u001b[0m \u001b[0;32mclass\u001b[0m \u001b[0mDeleteFileCommand\u001b[0m\u001b[0;34m(\u001b[0m\u001b[0mCommand\u001b[0m\u001b[0;34m)\u001b[0m\u001b[0;34m:\u001b[0m\u001b[0;34m\u001b[0m\u001b[0;34m\u001b[0m\u001b[0m\n",
      "\u001b[0;31mIndexError\u001b[0m: pop from empty list"
     ]
    }
   ],
   "source": [
    "hideButton.on_undo()"
   ]
  },
  {
   "cell_type": "markdown",
   "id": "2ce75af0",
   "metadata": {},
   "source": [
    "# Observer\n",
    "\n",
    "Crear una serie de objetos que \"observan\" o se \"suscriben\" a ciertos eventos de otro objeto.\n"
   ]
  },
  {
   "cell_type": "code",
   "execution_count": 82,
   "id": "afb50a25",
   "metadata": {},
   "outputs": [],
   "source": [
    "# Interfaz de los observadores\n",
    "\n",
    "import abc\n",
    "\n",
    "class Subscriber(abc.ABC):\n",
    "    @abc.abstractmethod\n",
    "    def update(self, context):\n",
    "        pass\n",
    "    \n",
    "\n",
    "class Publisher:\n",
    "    def __init__(self) -> None:\n",
    "        self._subscribers = []\n",
    "        \n",
    "    def subscribe(self, subscriber : Subscriber) -> None:\n",
    "        if subscriber not in self._subscribers:\n",
    "            self._subscribers.append(subscriber)\n",
    "            \n",
    "    def unsubscribe(self, subscriber : Subscriber) -> None:\n",
    "        with suppress(ValueError):\n",
    "            self._subscribers.remove(subscriber)\n",
    "        \n",
    "    def notify(self):\n",
    "        for s in self._subscribers:\n",
    "            s.update(self)\n",
    "            \n",
    "            \n",
    "class Data(Publisher):\n",
    "    \n",
    "    def __init__(self, name: str = \"\") -> None:\n",
    "        super().__init__()\n",
    "        self.name = name\n",
    "        self._data = 0\n",
    "        \n",
    "    @property\n",
    "    def data(self) -> int:\n",
    "        return self._data\n",
    "    \n",
    "    @data.setter\n",
    "    def data(self, value: int) -> None:\n",
    "        self._data = value\n",
    "        self.notify()\n",
    "        \n",
    "class DecimalViewer(Subscriber):\n",
    "    def update(self, context: Data):\n",
    "        print(f'Decimal: El elemento {context.name} tiene el valor {context.data}')\n",
    "        \n",
    "class HexViewer(Subscriber):\n",
    "    def update(self, context: Data):\n",
    "        print(f'Hex: El elemento {context.name} tiene el valor 0x{context.data:x}')\n",
    "\n",
    "    "
   ]
  },
  {
   "cell_type": "code",
   "execution_count": null,
   "id": "0f5f23c8",
   "metadata": {},
   "outputs": [],
   "source": []
  },
  {
   "cell_type": "code",
   "execution_count": 83,
   "id": "db359dc7",
   "metadata": {},
   "outputs": [],
   "source": [
    "data1 = Data(\"Data 1\")"
   ]
  },
  {
   "cell_type": "code",
   "execution_count": 84,
   "id": "35dc7eaa",
   "metadata": {},
   "outputs": [],
   "source": [
    "data1.subscribe(DecimalViewer())"
   ]
  },
  {
   "cell_type": "code",
   "execution_count": 87,
   "id": "20c0b2da",
   "metadata": {},
   "outputs": [],
   "source": [
    "data1.subscribe(HexViewer())\n"
   ]
  },
  {
   "cell_type": "code",
   "execution_count": 88,
   "id": "50d3f1a4",
   "metadata": {},
   "outputs": [
    {
     "name": "stdout",
     "output_type": "stream",
     "text": [
      "Decimal: El elemento Data 1 tiene el valor 9\n",
      "Hex: El elemento Data 1 tiene el valor 0x9\n",
      "Hex: El elemento Data 1 tiene el valor 0x9\n",
      "Hex: El elemento Data 1 tiene el valor 0x9\n"
     ]
    }
   ],
   "source": [
    "data1.data = 9"
   ]
  },
  {
   "cell_type": "code",
   "execution_count": 89,
   "id": "bf24f18e",
   "metadata": {},
   "outputs": [
    {
     "name": "stdout",
     "output_type": "stream",
     "text": [
      "Decimal: El elemento Data 1 tiene el valor 150\n",
      "Hex: El elemento Data 1 tiene el valor 0x96\n",
      "Hex: El elemento Data 1 tiene el valor 0x96\n",
      "Hex: El elemento Data 1 tiene el valor 0x96\n"
     ]
    }
   ],
   "source": [
    "data1.data = 150"
   ]
  },
  {
   "cell_type": "markdown",
   "id": "6febc471",
   "metadata": {},
   "source": [
    "# facade o fachada\n",
    "\n",
    "Es una forma de proveer una interfaz más simple y unificada a un sistema complejo. "
   ]
  },
  {
   "cell_type": "code",
   "execution_count": 2,
   "id": "3748388b",
   "metadata": {},
   "outputs": [],
   "source": [
    "class CPU:\n",
    "    def freeze(self):\n",
    "        print (\"Freezing processor\")\n",
    "        \n",
    "    def jump(self, position):\n",
    "        print (\"Jumping to \", position)\n",
    "    \n",
    "    def execute(self):\n",
    "        print(\"Executing\")\n",
    "    \n",
    "    \n",
    "class Memory:\n",
    "    def load(self, position, data):\n",
    "        print (\"Loading \", data, \"on position \", position)\n",
    "    \n",
    "\n",
    "class Drive:\n",
    "    def read(self, lba, size):\n",
    "        return f'Datos del sector {lba} con tamaño {size}'\n",
    "    \n",
    "    #def spam(a, b, c):\n",
    "     #   if c == \"abrir\":\n",
    "      #      open()\n",
    "            \n",
    "        \n",
    "    \n",
    "    \n",
    "class ComputerFacade:\n",
    "    \"\"\"\n",
    "    Representa la fachada para los demás componentes\n",
    "    \"\"\"\n",
    "    def __init__(self):\n",
    "        self.cpu = CPU()\n",
    "        self.memory = Memory()\n",
    "        self.drive = Drive()\n",
    "        \n",
    "    def start(self):\n",
    "        self.cpu.freeze()\n",
    "        self.memory.load(\"0x00\", self.drive.read(\"100\", \"1024\"))\n",
    "        self.cpu.jump(\"0x00\")\n",
    "        self.cpu.execute()\n",
    "        \n",
    "    #def open_connection(self, a, b):\n",
    "        #self.spam(a,b, \"abrir\")\n",
    "        \n",
    "    #def close_connection(self, a, b):\n",
    "        #self.spam(a,b, \"cerrar\")\n",
    "        \n",
    "        "
   ]
  },
  {
   "cell_type": "code",
   "execution_count": 3,
   "id": "08d7f51e",
   "metadata": {},
   "outputs": [],
   "source": [
    "computer = ComputerFacade()"
   ]
  },
  {
   "cell_type": "code",
   "execution_count": 4,
   "id": "672f3848",
   "metadata": {},
   "outputs": [
    {
     "name": "stdout",
     "output_type": "stream",
     "text": [
      "Freezing processor\n",
      "Loading  Datos del sector 100 con tamaño 1024 on position  0x00\n",
      "Jumping to  0x00\n",
      "Executing\n"
     ]
    }
   ],
   "source": [
    "computer.start()"
   ]
  },
  {
   "cell_type": "markdown",
   "id": "6310e065",
   "metadata": {},
   "source": [
    "# Mediator\n",
    "\n",
    "Objetos en un sistema se comunican a través de un intermediario en lugar de diretamente uno al otro .\n",
    "\n",
    "Reduce las depencias comunicando objectos, con lo cual reduce el acoplamiento"
   ]
  },
  {
   "cell_type": "code",
   "execution_count": 5,
   "id": "4b28f2a1",
   "metadata": {},
   "outputs": [],
   "source": [
    "from __future__ import annotations\n",
    "\n",
    "class ChatRoom:\n",
    "    \"\"\"\n",
    "    Clase mediadora\n",
    "    \"\"\"\n",
    "    \n",
    "    def display_message(self, user: User, message: str) -> None:\n",
    "        print ( f'El usuario {user} dice {message}')\n",
    "    \n",
    "\n",
    "class User:\n",
    "    def __init__(self, name: str):\n",
    "        self.name = name\n",
    "        self.chat_room = ChatRoom()\n",
    "        \n",
    "    def say(self, message: str) -> None:\n",
    "        self.chat_room.display_message(self, message)\n",
    "        \n",
    "    def __repr__(self) -> str:\n",
    "        return self.name"
   ]
  },
  {
   "cell_type": "code",
   "execution_count": 6,
   "id": "3620edbe",
   "metadata": {},
   "outputs": [],
   "source": [
    "pepe = User(\"pepe\")\n",
    "juan = User(\"juan\")\n",
    "laura = User(\"laura\")"
   ]
  },
  {
   "cell_type": "code",
   "execution_count": 7,
   "id": "77966410",
   "metadata": {},
   "outputs": [
    {
     "name": "stdout",
     "output_type": "stream",
     "text": [
      "El usuario pepe dice hola mundo, soy pepe\n"
     ]
    }
   ],
   "source": [
    "pepe.say(\"hola mundo, soy pepe\")"
   ]
  },
  {
   "cell_type": "code",
   "execution_count": null,
   "id": "d03d6a5c",
   "metadata": {},
   "outputs": [],
   "source": [
    "# HEAD FIRST DESIGN PATTERNS: Freeman & Robson"
   ]
  },
  {
   "cell_type": "markdown",
   "id": "2d2f5f1b",
   "metadata": {},
   "source": [
    "# Patrón proxy\n",
    "\n",
    "Proxy sirve cuando quieres añadir funcionalida a una clase sin cambiar su interfaz.\n",
    "\n",
    "La clase principal se llama \"Real Subject\", un cliente tendría que poder acudir al PROXY de la clase \"Real Subject\" sin cambiar código, por lo tanto comparten la interfaz. \n",
    "\n",
    "Entonces, para que la usamos?\n",
    "\n",
    "- Control de acceso \n",
    "- Logging\n",
    "\n",
    "\n",
    "Poli malo - poli bueno...\n",
    "\n",
    "\"Real Subject\" es el poli bueno, esto es, expone su api sin ningún control. El proxy es el poli malo, interviene para dar control de acceso a la \"Real Subject\"\n",
    "\n"
   ]
  },
  {
   "cell_type": "code",
   "execution_count": 24,
   "id": "a28b0ed3",
   "metadata": {},
   "outputs": [],
   "source": [
    "import abc\n",
    "\n",
    "class ServiceInterface(abc.ABC):\n",
    "    \n",
    "    @abc.abstractmethod\n",
    "    def do_the_job(self, user: str) -> None:\n",
    "        pass\n",
    "    \n",
    "    \n",
    "class Service(ServiceInterface):\n",
    "    \"\"\"\n",
    "    El servicio hace el trabajo REAL\n",
    "    \"\"\"\n",
    "    def do_the_job(self, user: str) -> None:\n",
    "        print (f'Estoy haciendo el trabajo del usuario {user}')\n",
    "        \n",
    "class ServiceProxy(ServiceInterface):\n",
    "    \n",
    "    def __init__(self) -> None:\n",
    "        self._service = Service()\n",
    "        \n",
    "    def do_the_job(self, user: str) -> None:\n",
    "        \"\"\"\n",
    "        Logging del servicio\n",
    "        \"\"\"\n",
    "        print(f'Logging del servicio para el usuario {user}')\n",
    "        if user == \"admin\":\n",
    "            self._service.do_the_job(user)\n",
    "        else:\n",
    "            print(\"Not authorized\")"
   ]
  },
  {
   "cell_type": "code",
   "execution_count": 25,
   "id": "e5fe55a2",
   "metadata": {},
   "outputs": [],
   "source": [
    "s = ServiceProxy()"
   ]
  },
  {
   "cell_type": "code",
   "execution_count": 26,
   "id": "ffad8b98",
   "metadata": {},
   "outputs": [
    {
     "name": "stdout",
     "output_type": "stream",
     "text": [
      "Logging del servicio para el usuario pepito\n",
      "Not authorized\n"
     ]
    }
   ],
   "source": [
    "s.do_the_job(\"pepito\")"
   ]
  },
  {
   "cell_type": "code",
   "execution_count": 27,
   "id": "a00e1eb9",
   "metadata": {},
   "outputs": [
    {
     "name": "stdout",
     "output_type": "stream",
     "text": [
      "Logging del servicio para el usuario admin\n",
      "Estoy haciendo el trabajo del usuario admin\n"
     ]
    }
   ],
   "source": [
    "s.do_the_job(\"admin\")"
   ]
  },
  {
   "cell_type": "code",
   "execution_count": null,
   "id": "440e52b0",
   "metadata": {},
   "outputs": [],
   "source": []
  }
 ],
 "metadata": {
  "kernelspec": {
   "display_name": "Python 3",
   "language": "python",
   "name": "python3"
  },
  "language_info": {
   "codemirror_mode": {
    "name": "ipython",
    "version": 3
   },
   "file_extension": ".py",
   "mimetype": "text/x-python",
   "name": "python",
   "nbconvert_exporter": "python",
   "pygments_lexer": "ipython3",
   "version": "3.7.11"
  }
 },
 "nbformat": 4,
 "nbformat_minor": 5
}
