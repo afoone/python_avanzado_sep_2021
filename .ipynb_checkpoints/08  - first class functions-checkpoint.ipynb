{
 "cells": [
  {
   "cell_type": "code",
   "execution_count": 1,
   "id": "67e4266f",
   "metadata": {},
   "outputs": [],
   "source": [
    "def suma(a, b):\n",
    "    return a + b\n",
    "\n",
    "def mult(a, b):\n",
    "    return a * b\n",
    "\n",
    "# paso la función como parámetro\n",
    "def operacion(a, b, oper):\n",
    "    return (oper(a, b))\n",
    "\n"
   ]
  },
  {
   "cell_type": "code",
   "execution_count": 2,
   "id": "ecbae5e0",
   "metadata": {},
   "outputs": [
    {
     "data": {
      "text/plain": [
       "<function __main__.suma(a, b)>"
      ]
     },
     "execution_count": 2,
     "metadata": {},
     "output_type": "execute_result"
    }
   ],
   "source": [
    "suma"
   ]
  },
  {
   "cell_type": "code",
   "execution_count": 3,
   "id": "175d3b7b",
   "metadata": {},
   "outputs": [],
   "source": [
    "d = suma\n"
   ]
  },
  {
   "cell_type": "code",
   "execution_count": 4,
   "id": "2f19af86",
   "metadata": {},
   "outputs": [
    {
     "data": {
      "text/plain": [
       "<function __main__.suma(a, b)>"
      ]
     },
     "execution_count": 4,
     "metadata": {},
     "output_type": "execute_result"
    }
   ],
   "source": [
    "d"
   ]
  },
  {
   "cell_type": "code",
   "execution_count": 5,
   "id": "68b3e7f6",
   "metadata": {},
   "outputs": [
    {
     "data": {
      "text/plain": [
       "7"
      ]
     },
     "execution_count": 5,
     "metadata": {},
     "output_type": "execute_result"
    }
   ],
   "source": [
    "d(3,4)"
   ]
  },
  {
   "cell_type": "code",
   "execution_count": 6,
   "id": "bca792b9",
   "metadata": {},
   "outputs": [
    {
     "data": {
      "text/plain": [
       "7"
      ]
     },
     "execution_count": 6,
     "metadata": {},
     "output_type": "execute_result"
    }
   ],
   "source": [
    "operacion(3,4, suma)"
   ]
  },
  {
   "cell_type": "code",
   "execution_count": 7,
   "id": "b766b8dc",
   "metadata": {},
   "outputs": [
    {
     "data": {
      "text/plain": [
       "12"
      ]
     },
     "execution_count": 7,
     "metadata": {},
     "output_type": "execute_result"
    }
   ],
   "source": [
    "operacion(3,4, mult)"
   ]
  },
  {
   "cell_type": "code",
   "execution_count": 8,
   "id": "9ea8b853",
   "metadata": {},
   "outputs": [],
   "source": [
    "# Una función de orden superior es aquella que admite funciones como parámetro y / o devuelve otra función"
   ]
  },
  {
   "cell_type": "markdown",
   "id": "63d74659",
   "metadata": {},
   "source": [
    "# Principios funcionales\n",
    "\n",
    "1. Funciones puras\n",
    "2. Recursión\n",
    "3. Las funciones son first class y pueden ser de orden superior\n",
    "4. Las variables son immutables"
   ]
  },
  {
   "cell_type": "code",
   "execution_count": 17,
   "id": "31c6c357",
   "metadata": {},
   "outputs": [],
   "source": [
    "# Función pura es aquella que si la ejecutas con los mismos parámetros siempre da el mismo resultado\n",
    "\n",
    "def pura(a,b):\n",
    "    return a + b\n",
    "\n",
    "k = 9\n",
    "\n",
    "def impura(a): # esta función tiene un side effect\n",
    "    return k + a\n",
    "\n",
    "# Clojure\n"
   ]
  },
  {
   "cell_type": "code",
   "execution_count": 10,
   "id": "b4396e89",
   "metadata": {},
   "outputs": [
    {
     "data": {
      "text/plain": [
       "6"
      ]
     },
     "execution_count": 10,
     "metadata": {},
     "output_type": "execute_result"
    }
   ],
   "source": [
    "pura (3,3)"
   ]
  },
  {
   "cell_type": "code",
   "execution_count": 13,
   "id": "1eaa2e7f",
   "metadata": {},
   "outputs": [
    {
     "data": {
      "text/plain": [
       "12"
      ]
     },
     "execution_count": 13,
     "metadata": {},
     "output_type": "execute_result"
    }
   ],
   "source": [
    "impura(3)"
   ]
  },
  {
   "cell_type": "code",
   "execution_count": 14,
   "id": "70a8b59e",
   "metadata": {},
   "outputs": [],
   "source": [
    "k = 3"
   ]
  },
  {
   "cell_type": "code",
   "execution_count": 15,
   "id": "ce4494ca",
   "metadata": {},
   "outputs": [
    {
     "data": {
      "text/plain": [
       "6"
      ]
     },
     "execution_count": 15,
     "metadata": {},
     "output_type": "execute_result"
    }
   ],
   "source": [
    "impura(3)"
   ]
  },
  {
   "cell_type": "code",
   "execution_count": 22,
   "id": "222486eb",
   "metadata": {},
   "outputs": [],
   "source": [
    "def cuadrado(x):\n",
    "    return x * x\n",
    "\n",
    "def mas_uno(x):\n",
    "    return x + 1\n",
    "\n",
    "def cuadrado_mas_uno():\n",
    "    def f(x):\n",
    "        return mas_uno(cuadrado(x))\n",
    "    return f\n",
    "\n",
    "cmu = cuadrado_mas_uno()\n"
   ]
  },
  {
   "cell_type": "code",
   "execution_count": 23,
   "id": "264c76fb",
   "metadata": {},
   "outputs": [
    {
     "data": {
      "text/plain": [
       "<function __main__.cuadrado_mas_uno.<locals>.f(x)>"
      ]
     },
     "execution_count": 23,
     "metadata": {},
     "output_type": "execute_result"
    }
   ],
   "source": [
    "cmu"
   ]
  },
  {
   "cell_type": "code",
   "execution_count": 24,
   "id": "45762497",
   "metadata": {},
   "outputs": [
    {
     "data": {
      "text/plain": [
       "37"
      ]
     },
     "execution_count": 24,
     "metadata": {},
     "output_type": "execute_result"
    }
   ],
   "source": [
    "cmu(6)"
   ]
  },
  {
   "cell_type": "markdown",
   "id": "ce195f8f",
   "metadata": {},
   "source": [
    "# funciones de orden superior de uso común  y funcionale\n",
    "\n",
    "# filter"
   ]
  },
  {
   "cell_type": "code",
   "execution_count": null,
   "id": "2d97805c",
   "metadata": {},
   "outputs": [],
   "source": []
  },
  {
   "cell_type": "code",
   "execution_count": 27,
   "id": "2624a291",
   "metadata": {},
   "outputs": [],
   "source": [
    "l = [-5,-4,-3, -2, -1, 0, 1,2,3,4,5]"
   ]
  },
  {
   "cell_type": "code",
   "execution_count": null,
   "id": "07d79166",
   "metadata": {},
   "outputs": [],
   "source": []
  },
  {
   "cell_type": "code",
   "execution_count": 28,
   "id": "6ffa985c",
   "metadata": {},
   "outputs": [
    {
     "data": {
      "text/plain": [
       "[-5, -4, -3, -2, -1, 0, 1, 2, 3, 4, 5]"
      ]
     },
     "execution_count": 28,
     "metadata": {},
     "output_type": "execute_result"
    }
   ],
   "source": [
    "l"
   ]
  },
  {
   "cell_type": "code",
   "execution_count": 29,
   "id": "797648a4",
   "metadata": {},
   "outputs": [],
   "source": [
    "def mqc(x):\n",
    "    return x < 0\n",
    "\n",
    "menor_que_cero = filter(mqc, l )"
   ]
  },
  {
   "cell_type": "code",
   "execution_count": 30,
   "id": "d675c0c0",
   "metadata": {},
   "outputs": [
    {
     "data": {
      "text/plain": [
       "<filter at 0x7f2aa86bad50>"
      ]
     },
     "execution_count": 30,
     "metadata": {},
     "output_type": "execute_result"
    }
   ],
   "source": [
    "menor_que_cero"
   ]
  },
  {
   "cell_type": "code",
   "execution_count": 31,
   "id": "3639ad23",
   "metadata": {},
   "outputs": [
    {
     "data": {
      "text/plain": [
       "[-5, -4, -3, -2, -1]"
      ]
     },
     "execution_count": 31,
     "metadata": {},
     "output_type": "execute_result"
    }
   ],
   "source": [
    "list(menor_que_cero)"
   ]
  },
  {
   "cell_type": "code",
   "execution_count": 34,
   "id": "7c1c8086",
   "metadata": {},
   "outputs": [
    {
     "data": {
      "text/plain": [
       "<function __main__.<lambda>(x)>"
      ]
     },
     "execution_count": 34,
     "metadata": {},
     "output_type": "execute_result"
    }
   ],
   "source": [
    "g = lambda x: x<0\n",
    "g"
   ]
  },
  {
   "cell_type": "code",
   "execution_count": 35,
   "id": "1598ed9b",
   "metadata": {},
   "outputs": [
    {
     "data": {
      "text/plain": [
       "False"
      ]
     },
     "execution_count": 35,
     "metadata": {},
     "output_type": "execute_result"
    }
   ],
   "source": [
    "g(5)"
   ]
  },
  {
   "cell_type": "code",
   "execution_count": 38,
   "id": "8e5f50b3",
   "metadata": {},
   "outputs": [
    {
     "data": {
      "text/plain": [
       "[-5, -4, -3, -2, -1]"
      ]
     },
     "execution_count": 38,
     "metadata": {},
     "output_type": "execute_result"
    }
   ],
   "source": [
    "list(filter(lambda x: x < 0, l ))"
   ]
  },
  {
   "cell_type": "code",
   "execution_count": 39,
   "id": "59356dfe",
   "metadata": {},
   "outputs": [
    {
     "data": {
      "text/plain": [
       "[-5, -4, -3, -2, -1, 0, 1, 2, 3, 4, 5]"
      ]
     },
     "execution_count": 39,
     "metadata": {},
     "output_type": "execute_result"
    }
   ],
   "source": [
    "l"
   ]
  },
  {
   "cell_type": "markdown",
   "id": "a8f5b7f8",
   "metadata": {},
   "source": [
    "## Map"
   ]
  },
  {
   "cell_type": "code",
   "execution_count": 40,
   "id": "11383248",
   "metadata": {},
   "outputs": [
    {
     "data": {
      "text/plain": [
       "[-10, -8, -6, -4, -2, 0, 2, 4, 6, 8, 10]"
      ]
     },
     "execution_count": 40,
     "metadata": {},
     "output_type": "execute_result"
    }
   ],
   "source": [
    "list(map(lambda x: x*2, l))"
   ]
  },
  {
   "cell_type": "code",
   "execution_count": 41,
   "id": "76e9cca4",
   "metadata": {},
   "outputs": [
    {
     "data": {
      "text/plain": [
       "[-5, -4, -3, -2, -1, 0, 1, 2, 3, 4, 5]"
      ]
     },
     "execution_count": 41,
     "metadata": {},
     "output_type": "execute_result"
    }
   ],
   "source": [
    "l"
   ]
  },
  {
   "cell_type": "markdown",
   "id": "91a1090d",
   "metadata": {},
   "source": [
    "# Reduce"
   ]
  },
  {
   "cell_type": "code",
   "execution_count": 42,
   "id": "4d3cd138",
   "metadata": {},
   "outputs": [
    {
     "data": {
      "text/plain": [
       "0"
      ]
     },
     "execution_count": 42,
     "metadata": {},
     "output_type": "execute_result"
    }
   ],
   "source": [
    "from functools import reduce\n",
    "reduce(lambda acc, curr: acc + curr, l)"
   ]
  },
  {
   "cell_type": "code",
   "execution_count": 44,
   "id": "b7a2c573",
   "metadata": {},
   "outputs": [
    {
     "data": {
      "text/plain": [
       "36"
      ]
     },
     "execution_count": 44,
     "metadata": {},
     "output_type": "execute_result"
    }
   ],
   "source": [
    "reduce(lambda acc, curr: acc + curr, range(9))"
   ]
  },
  {
   "cell_type": "code",
   "execution_count": 50,
   "id": "52e4ff91",
   "metadata": {},
   "outputs": [],
   "source": [
    "def mult(x): # currying\n",
    "    return lambda y : x * y"
   ]
  },
  {
   "cell_type": "code",
   "execution_count": 51,
   "id": "50314738",
   "metadata": {},
   "outputs": [
    {
     "data": {
      "text/plain": [
       "20"
      ]
     },
     "execution_count": 51,
     "metadata": {},
     "output_type": "execute_result"
    }
   ],
   "source": [
    "mult(4)(5)"
   ]
  },
  {
   "cell_type": "code",
   "execution_count": 52,
   "id": "3acf5df5",
   "metadata": {},
   "outputs": [
    {
     "data": {
      "text/plain": [
       "<function __main__.mult(x)>"
      ]
     },
     "execution_count": 52,
     "metadata": {},
     "output_type": "execute_result"
    }
   ],
   "source": [
    "mult"
   ]
  },
  {
   "cell_type": "code",
   "execution_count": 53,
   "id": "14ea0af2",
   "metadata": {},
   "outputs": [
    {
     "name": "stdout",
     "output_type": "stream",
     "text": [
      "Help on function mult in module __main__:\n",
      "\n",
      "mult(x)\n",
      "\n"
     ]
    }
   ],
   "source": [
    "help(mult)"
   ]
  },
  {
   "cell_type": "code",
   "execution_count": 54,
   "id": "664d8661",
   "metadata": {},
   "outputs": [],
   "source": [
    "def mult(x): # currying\n",
    "    \"\"\"\n",
    "    multiplica una funcion\n",
    "    \"\"\"\n",
    "    return lambda y : x * y"
   ]
  },
  {
   "cell_type": "code",
   "execution_count": 55,
   "id": "4b4d1135",
   "metadata": {},
   "outputs": [
    {
     "name": "stdout",
     "output_type": "stream",
     "text": [
      "Help on function mult in module __main__:\n",
      "\n",
      "mult(x)\n",
      "    multiplica una funcion\n",
      "\n"
     ]
    }
   ],
   "source": [
    "help(mult)"
   ]
  },
  {
   "cell_type": "code",
   "execution_count": 56,
   "id": "d5ce9fa8",
   "metadata": {},
   "outputs": [
    {
     "name": "stdout",
     "output_type": "stream",
     "text": [
      "Help on built-in function len in module builtins:\n",
      "\n",
      "len(obj, /)\n",
      "    Return the number of items in a container.\n",
      "\n"
     ]
    }
   ],
   "source": [
    "help(len)"
   ]
  },
  {
   "cell_type": "code",
   "execution_count": 59,
   "id": "27c6d189",
   "metadata": {},
   "outputs": [
    {
     "data": {
      "text/plain": [
       "False"
      ]
     },
     "execution_count": 59,
     "metadata": {},
     "output_type": "execute_result"
    }
   ],
   "source": [
    "hasattr(len, \"obj\")"
   ]
  },
  {
   "cell_type": "code",
   "execution_count": 60,
   "id": "eafee0b0",
   "metadata": {},
   "outputs": [
    {
     "data": {
      "text/plain": [
       "'<built-in function len>'"
      ]
     },
     "execution_count": 60,
     "metadata": {},
     "output_type": "execute_result"
    }
   ],
   "source": [
    "repr(len)"
   ]
  },
  {
   "cell_type": "code",
   "execution_count": 61,
   "id": "7cb141fc",
   "metadata": {},
   "outputs": [
    {
     "data": {
      "text/plain": [
       "True"
      ]
     },
     "execution_count": 61,
     "metadata": {},
     "output_type": "execute_result"
    }
   ],
   "source": [
    "callable(len)"
   ]
  },
  {
   "cell_type": "code",
   "execution_count": 62,
   "id": "f111e2cb",
   "metadata": {},
   "outputs": [
    {
     "data": {
      "text/plain": [
       "False"
      ]
     },
     "execution_count": 62,
     "metadata": {},
     "output_type": "execute_result"
    }
   ],
   "source": [
    "callable({\"hola\": \"hola\"})"
   ]
  },
  {
   "cell_type": "code",
   "execution_count": null,
   "id": "3f59cefc",
   "metadata": {},
   "outputs": [],
   "source": [
    "# isinstance(o, c)\n",
    "# issubclass()"
   ]
  },
  {
   "cell_type": "code",
   "execution_count": 63,
   "id": "1b5b3169",
   "metadata": {},
   "outputs": [
    {
     "data": {
      "text/plain": [
       "'len'"
      ]
     },
     "execution_count": 63,
     "metadata": {},
     "output_type": "execute_result"
    }
   ],
   "source": [
    "len.__name__\n"
   ]
  },
  {
   "cell_type": "markdown",
   "id": "42f97787",
   "metadata": {},
   "source": [
    "# Anotación"
   ]
  },
  {
   "cell_type": "code",
   "execution_count": 64,
   "id": "dff4dc4d",
   "metadata": {},
   "outputs": [],
   "source": [
    "def suma(a, b):\n",
    "    return a + b"
   ]
  },
  {
   "cell_type": "code",
   "execution_count": 65,
   "id": "6c9e5df2",
   "metadata": {},
   "outputs": [],
   "source": [
    "def suma(a : float, b : float) -> float:\n",
    "    return a + b"
   ]
  },
  {
   "cell_type": "code",
   "execution_count": 66,
   "id": "9267e2de",
   "metadata": {},
   "outputs": [],
   "source": [
    "def suma(a : float, b : float = 0.0) -> float:\n",
    "    return a + b"
   ]
  },
  {
   "cell_type": "markdown",
   "id": "009929a7",
   "metadata": {},
   "source": [
    "# functools partial\n",
    "\n",
    "partial recibe una función A con sus argumentos y retorna una función b que es el resultado de llamar a la función a con unos argumentos provistos"
   ]
  },
  {
   "cell_type": "code",
   "execution_count": 68,
   "id": "95c87a3e",
   "metadata": {},
   "outputs": [
    {
     "data": {
      "text/plain": [
       "10"
      ]
     },
     "execution_count": 68,
     "metadata": {},
     "output_type": "execute_result"
    }
   ],
   "source": [
    "from functools import partial\n",
    "\n",
    "def suma(a, b):\n",
    "    return a + b\n",
    "\n",
    "f = partial(suma, 5, 5)\n",
    "f()"
   ]
  },
  {
   "cell_type": "code",
   "execution_count": null,
   "id": "f547786c",
   "metadata": {},
   "outputs": [],
   "source": []
  },
  {
   "cell_type": "code",
   "execution_count": null,
   "id": "6853bef7",
   "metadata": {},
   "outputs": [],
   "source": []
  },
  {
   "cell_type": "code",
   "execution_count": null,
   "id": "0272abaf",
   "metadata": {},
   "outputs": [],
   "source": []
  },
  {
   "cell_type": "code",
   "execution_count": null,
   "id": "0b719c5b",
   "metadata": {},
   "outputs": [],
   "source": []
  },
  {
   "cell_type": "code",
   "execution_count": null,
   "id": "d8458c22",
   "metadata": {},
   "outputs": [],
   "source": []
  },
  {
   "cell_type": "code",
   "execution_count": null,
   "id": "19d7a165",
   "metadata": {},
   "outputs": [],
   "source": []
  },
  {
   "cell_type": "code",
   "execution_count": null,
   "id": "41c308d1",
   "metadata": {},
   "outputs": [],
   "source": []
  },
  {
   "cell_type": "code",
   "execution_count": null,
   "id": "4c92bd17",
   "metadata": {},
   "outputs": [],
   "source": []
  }
 ],
 "metadata": {
  "kernelspec": {
   "display_name": "Python 3",
   "language": "python",
   "name": "python3"
  },
  "language_info": {
   "codemirror_mode": {
    "name": "ipython",
    "version": 3
   },
   "file_extension": ".py",
   "mimetype": "text/x-python",
   "name": "python",
   "nbconvert_exporter": "python",
   "pygments_lexer": "ipython3",
   "version": "3.7.11"
  }
 },
 "nbformat": 4,
 "nbformat_minor": 5
}
