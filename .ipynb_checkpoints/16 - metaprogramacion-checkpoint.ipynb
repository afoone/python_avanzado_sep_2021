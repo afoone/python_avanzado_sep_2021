{
 "cells": [
  {
   "cell_type": "markdown",
   "id": "2e7006ab",
   "metadata": {},
   "source": [
    "# Metaprogramación\n",
    "\n",
    "- Todo en python es un \"objeto\", esto incluye las clases\n",
    "- Una clase es un objeto que se puede utilizar para crear otros objetos. \n",
    "- Una metaclase esá por encima de la clase. Es un objeto que se usa para crear clases."
   ]
  },
  {
   "cell_type": "code",
   "execution_count": 2,
   "id": "f9d0ff41",
   "metadata": {},
   "outputs": [
    {
     "name": "stdout",
     "output_type": "stream",
     "text": [
      "<class '__main__.get_curso_alfonso.<locals>.CursoAlfonso'>\n"
     ]
    }
   ],
   "source": [
    "def get_curso_alfonso():\n",
    "    class CursoAlfonso:\n",
    "        pass\n",
    "    \n",
    "    return CursoAlfonso\n",
    "\n",
    "print(get_curso_alfonso())"
   ]
  },
  {
   "cell_type": "code",
   "execution_count": 4,
   "id": "ecb44b5d",
   "metadata": {},
   "outputs": [
    {
     "name": "stdout",
     "output_type": "stream",
     "text": [
      "<class 'function'>\n",
      "<class 'type'>\n"
     ]
    }
   ],
   "source": [
    "# método type\n",
    "def get_curso_alfonso():\n",
    "    class CursoAlfonso:\n",
    "        pass\n",
    "    \n",
    "    return CursoAlfonso\n",
    "\n",
    "print(type(get_curso_alfonso))\n",
    "print(type(get_curso_alfonso()))\n"
   ]
  },
  {
   "cell_type": "code",
   "execution_count": 9,
   "id": "7e6f42db",
   "metadata": {},
   "outputs": [
    {
     "name": "stdout",
     "output_type": "stream",
     "text": [
      "Blog name is python\n"
     ]
    }
   ],
   "source": [
    "class Blog:\n",
    "    def __init__(self, blog_name):\n",
    "        self._blog_name = blog_name\n",
    "        \n",
    "    def get_blog_name(self):\n",
    "        return f'Blog name is {self._blog_name}'\n",
    "    \n",
    "blog = Blog(\"python\")\n",
    "print(blog.get_blog_name())"
   ]
  },
  {
   "cell_type": "code",
   "execution_count": 7,
   "id": "73386b74",
   "metadata": {},
   "outputs": [
    {
     "data": {
      "text/plain": [
       "mappingproxy({'__module__': '__main__',\n",
       "              '__init__': <function __main__.Blog.__init__(self, blog_name)>,\n",
       "              'get_blog_name': <function __main__.Blog.get_blog_name(self)>,\n",
       "              '__dict__': <attribute '__dict__' of 'Blog' objects>,\n",
       "              '__weakref__': <attribute '__weakref__' of 'Blog' objects>,\n",
       "              '__doc__': None})"
      ]
     },
     "execution_count": 7,
     "metadata": {},
     "output_type": "execute_result"
    }
   ],
   "source": [
    "Blog.__dict__"
   ]
  },
  {
   "cell_type": "code",
   "execution_count": 11,
   "id": "c2da14a2",
   "metadata": {},
   "outputs": [],
   "source": [
    "def blog2_init(self, blog_name):\n",
    "    self._blog_name = blog_name\n",
    "\n",
    "Blog2 = type(\n",
    "    \"Blog2\", # nombre de la clase\n",
    "    (), # tupla de herencias\n",
    "    {\n",
    "        \"__init__\": blog2_init,\n",
    "        \"get_blog_name\": lambda self: f'Blog name is {self._blog_name}'\n",
    "    } # diccionario\n",
    ")"
   ]
  },
  {
   "cell_type": "code",
   "execution_count": 12,
   "id": "314c57d0",
   "metadata": {},
   "outputs": [
    {
     "data": {
      "text/plain": [
       "type"
      ]
     },
     "execution_count": 12,
     "metadata": {},
     "output_type": "execute_result"
    }
   ],
   "source": [
    "type(Blog2)"
   ]
  },
  {
   "cell_type": "code",
   "execution_count": 14,
   "id": "b3b54658",
   "metadata": {},
   "outputs": [],
   "source": [
    "b = Blog2(\"otra cosa\")"
   ]
  },
  {
   "cell_type": "code",
   "execution_count": 15,
   "id": "0c29d3c3",
   "metadata": {},
   "outputs": [
    {
     "data": {
      "text/plain": [
       "'Blog name is otra cosa'"
      ]
     },
     "execution_count": 15,
     "metadata": {},
     "output_type": "execute_result"
    }
   ],
   "source": [
    "b.get_blog_name()"
   ]
  },
  {
   "cell_type": "code",
   "execution_count": 16,
   "id": "7b1f1e6f",
   "metadata": {},
   "outputs": [
    {
     "data": {
      "text/plain": [
       "mappingproxy({'__init__': <function __main__.blog2_init(self, blog_name)>,\n",
       "              'get_blog_name': <function __main__.<lambda>(self)>,\n",
       "              '__module__': '__main__',\n",
       "              '__dict__': <attribute '__dict__' of 'Blog2' objects>,\n",
       "              '__weakref__': <attribute '__weakref__' of 'Blog2' objects>,\n",
       "              '__doc__': None})"
      ]
     },
     "execution_count": 16,
     "metadata": {},
     "output_type": "execute_result"
    }
   ],
   "source": [
    "Blog2.__dict__"
   ]
  },
  {
   "cell_type": "code",
   "execution_count": 17,
   "id": "94959975",
   "metadata": {},
   "outputs": [],
   "source": [
    "    \n",
    "ParentClass = type(\"ParentClass\", (), {\"parent_function\": lambda _ : print(\"hola desde el padre\")})\n",
    "\n",
    "ChildClass = type (\"ChildClass\", (ParentClass, ), {\n",
    "    \"variable\": 5,\n",
    "    \"child_function\": lambda _ : print(\"hola desde el hijo\")\n",
    "})"
   ]
  },
  {
   "cell_type": "code",
   "execution_count": 18,
   "id": "5c958a91",
   "metadata": {},
   "outputs": [],
   "source": [
    "c = ChildClass()"
   ]
  },
  {
   "cell_type": "code",
   "execution_count": 19,
   "id": "c766f5d4",
   "metadata": {},
   "outputs": [
    {
     "name": "stdout",
     "output_type": "stream",
     "text": [
      "hola desde el hijo\n"
     ]
    }
   ],
   "source": [
    "c.child_function()"
   ]
  },
  {
   "cell_type": "code",
   "execution_count": 20,
   "id": "b7872e46",
   "metadata": {},
   "outputs": [
    {
     "name": "stdout",
     "output_type": "stream",
     "text": [
      "hola desde el padre\n"
     ]
    }
   ],
   "source": [
    "c.parent_function()"
   ]
  },
  {
   "cell_type": "code",
   "execution_count": 21,
   "id": "8ae44eca",
   "metadata": {},
   "outputs": [
    {
     "data": {
      "text/plain": [
       "5"
      ]
     },
     "execution_count": 21,
     "metadata": {},
     "output_type": "execute_result"
    }
   ],
   "source": [
    "c.variable"
   ]
  },
  {
   "cell_type": "code",
   "execution_count": 30,
   "id": "96413829",
   "metadata": {},
   "outputs": [],
   "source": [
    "# Otro ejemplo de class factory\n",
    "\n",
    "def manzana():\n",
    "    \"\"\"\n",
    "        devuelve una clase manzana, creada con la keyword class\n",
    "    \"\"\"\n",
    "    class Manzana():\n",
    "        def __init__(self,  color):\n",
    "            self._color = color\n",
    "        \n",
    "        def get_color(self):\n",
    "            return self._color\n",
    "        \n",
    "    return Manzana"
   ]
  },
  {
   "cell_type": "code",
   "execution_count": null,
   "id": "40454294",
   "metadata": {},
   "outputs": [],
   "source": []
  },
  {
   "cell_type": "code",
   "execution_count": 31,
   "id": "474ad139",
   "metadata": {},
   "outputs": [],
   "source": [
    "Manzana = manzana()"
   ]
  },
  {
   "cell_type": "code",
   "execution_count": 32,
   "id": "35bd8f8c",
   "metadata": {},
   "outputs": [],
   "source": [
    "m = Manzana(\"roja\")"
   ]
  },
  {
   "cell_type": "code",
   "execution_count": 33,
   "id": "db42c2c7",
   "metadata": {},
   "outputs": [
    {
     "data": {
      "text/plain": [
       "'roja'"
      ]
     },
     "execution_count": 33,
     "metadata": {},
     "output_type": "execute_result"
    }
   ],
   "source": [
    "m.get_color()"
   ]
  },
  {
   "cell_type": "markdown",
   "id": "22084b15",
   "metadata": {},
   "source": [
    " # Decoradores de clase"
   ]
  },
  {
   "cell_type": "code",
   "execution_count": 37,
   "id": "6dedd486",
   "metadata": {},
   "outputs": [],
   "source": [
    "def decorator(cls):\n",
    "\n",
    "    def decorator_init(self):\n",
    "        print (\"en el decorador\")\n",
    "        \n",
    "    cls.__init__ = decorator_init\n",
    "    \n",
    "    return cls\n",
    "\n",
    "@decorator\n",
    "class Spam:\n",
    "    def __init__(self):\n",
    "        print(\"init de la clase Spam\")\n",
    "    \n",
    "    "
   ]
  },
  {
   "cell_type": "code",
   "execution_count": 38,
   "id": "d7c38ca1",
   "metadata": {},
   "outputs": [
    {
     "name": "stdout",
     "output_type": "stream",
     "text": [
      "en el decorador\n"
     ]
    },
    {
     "data": {
      "text/plain": [
       "<__main__.Spam at 0x7f504047b290>"
      ]
     },
     "execution_count": 38,
     "metadata": {},
     "output_type": "execute_result"
    }
   ],
   "source": [
    "Spam()"
   ]
  },
  {
   "cell_type": "markdown",
   "id": "0b952b06",
   "metadata": {},
   "source": [
    "Una metaclase lo que hace es:\n",
    "- Modifica la clase\n",
    "- Devuelve la clase"
   ]
  },
  {
   "cell_type": "code",
   "execution_count": 41,
   "id": "82b82c34",
   "metadata": {},
   "outputs": [],
   "source": [
    "# sintaxis básica de una metaclase\n",
    "\n",
    "class SpamMetaClass(type):\n",
    "    def __new__(mcs, name, bases, namespace):\n",
    "        print (\"creando clase\")\n",
    "        return type.__new__(mcs, name, bases, namespace)\n",
    "    \n"
   ]
  },
  {
   "cell_type": "code",
   "execution_count": 42,
   "id": "b9ae03cd",
   "metadata": {},
   "outputs": [
    {
     "name": "stdout",
     "output_type": "stream",
     "text": [
      "creando clase\n"
     ]
    }
   ],
   "source": [
    "class Egg(object, metaclass=SpamMetaClass):\n",
    "    pass"
   ]
  },
  {
   "cell_type": "code",
   "execution_count": 43,
   "id": "7beec2f2",
   "metadata": {},
   "outputs": [
    {
     "data": {
      "text/plain": [
       "<__main__.Egg at 0x7f5040483990>"
      ]
     },
     "execution_count": 43,
     "metadata": {},
     "output_type": "execute_result"
    }
   ],
   "source": [
    "Egg()"
   ]
  },
  {
   "cell_type": "markdown",
   "id": "c099dac0",
   "metadata": {},
   "source": [
    "# Para qué usar metaclases:\n",
    "\n",
    "\n",
    "django orm\n",
    "```python\n",
    "class Person(models.Model):\n",
    "    name = models.CharField(max_length=30)\n",
    "    age = models.IntegerField()\n",
    "```"
   ]
  },
  {
   "cell_type": "code",
   "execution_count": 49,
   "id": "acfb9ac5",
   "metadata": {},
   "outputs": [],
   "source": [
    "# una clase abstracta que dice a sus hijos que han de implementar el método get_blog\n",
    "\n",
    "class SpamMetaClass(type):\n",
    "    def __new__(mcs, name, bases, dictionary):\n",
    "        print (dictionary)\n",
    "        if 'get_blog' in dictionary:\n",
    "            print (\"correcto, estas implementando el método abstracto\")\n",
    "        else:\n",
    "            raise Exception(\"No está el método get_blog\")\n",
    "        return type.__new__(mcs, name, bases, dictionary)"
   ]
  },
  {
   "cell_type": "code",
   "execution_count": null,
   "id": "f90ed925",
   "metadata": {},
   "outputs": [],
   "source": []
  },
  {
   "cell_type": "code",
   "execution_count": 50,
   "id": "f617d44b",
   "metadata": {},
   "outputs": [
    {
     "name": "stdout",
     "output_type": "stream",
     "text": [
      "{'__module__': '__main__', '__qualname__': 'Spam'}\n"
     ]
    },
    {
     "ename": "Exception",
     "evalue": "No está el método get_blog",
     "output_type": "error",
     "traceback": [
      "\u001b[0;31m---------------------------------------------------------------------------\u001b[0m",
      "\u001b[0;31mException\u001b[0m                                 Traceback (most recent call last)",
      "\u001b[0;32m<ipython-input-50-b1585052ceaa>\u001b[0m in \u001b[0;36m<module>\u001b[0;34m\u001b[0m\n\u001b[0;32m----> 1\u001b[0;31m \u001b[0;32mclass\u001b[0m \u001b[0mSpam\u001b[0m\u001b[0;34m(\u001b[0m\u001b[0mmetaclass\u001b[0m \u001b[0;34m=\u001b[0m \u001b[0mSpamMetaClass\u001b[0m\u001b[0;34m)\u001b[0m\u001b[0;34m:\u001b[0m\u001b[0;34m\u001b[0m\u001b[0;34m\u001b[0m\u001b[0m\n\u001b[0m\u001b[1;32m      2\u001b[0m     \u001b[0;32mpass\u001b[0m\u001b[0;34m\u001b[0m\u001b[0;34m\u001b[0m\u001b[0m\n",
      "\u001b[0;32m<ipython-input-49-7f3a3f3f4609>\u001b[0m in \u001b[0;36m__new__\u001b[0;34m(mcs, name, bases, dictionary)\u001b[0m\n\u001b[1;32m      7\u001b[0m             \u001b[0mprint\u001b[0m \u001b[0;34m(\u001b[0m\u001b[0;34m\"correcto, estas implementando el método abstracto\"\u001b[0m\u001b[0;34m)\u001b[0m\u001b[0;34m\u001b[0m\u001b[0;34m\u001b[0m\u001b[0m\n\u001b[1;32m      8\u001b[0m         \u001b[0;32melse\u001b[0m\u001b[0;34m:\u001b[0m\u001b[0;34m\u001b[0m\u001b[0;34m\u001b[0m\u001b[0m\n\u001b[0;32m----> 9\u001b[0;31m             \u001b[0;32mraise\u001b[0m \u001b[0mException\u001b[0m\u001b[0;34m(\u001b[0m\u001b[0;34m\"No está el método get_blog\"\u001b[0m\u001b[0;34m)\u001b[0m\u001b[0;34m\u001b[0m\u001b[0;34m\u001b[0m\u001b[0m\n\u001b[0m\u001b[1;32m     10\u001b[0m         \u001b[0;32mreturn\u001b[0m \u001b[0mtype\u001b[0m\u001b[0;34m.\u001b[0m\u001b[0m__new__\u001b[0m\u001b[0;34m(\u001b[0m\u001b[0mmcs\u001b[0m\u001b[0;34m,\u001b[0m \u001b[0mname\u001b[0m\u001b[0;34m,\u001b[0m \u001b[0mbases\u001b[0m\u001b[0;34m,\u001b[0m \u001b[0mdictionary\u001b[0m\u001b[0;34m)\u001b[0m\u001b[0;34m\u001b[0m\u001b[0;34m\u001b[0m\u001b[0m\n",
      "\u001b[0;31mException\u001b[0m: No está el método get_blog"
     ]
    }
   ],
   "source": [
    "class Spam(metaclass = SpamMetaClass):\n",
    "    pass"
   ]
  },
  {
   "cell_type": "code",
   "execution_count": 51,
   "id": "3a124017",
   "metadata": {},
   "outputs": [
    {
     "name": "stdout",
     "output_type": "stream",
     "text": [
      "{'__module__': '__main__', '__qualname__': 'Spam', 'get_blog': <function Spam.get_blog at 0x7f504048a680>}\n",
      "correcto, estas implementando el método abstracto\n"
     ]
    }
   ],
   "source": [
    "class Spam(metaclass = SpamMetaClass):\n",
    "     def get_blog():\n",
    "            pass"
   ]
  },
  {
   "cell_type": "markdown",
   "id": "2397225d",
   "metadata": {},
   "source": [
    "Usos posibles:\n",
    "- comprobar que una clase está definida correctamente (validar)\n",
    "- levantar errores al importar modulos\n",
    "- si queremos que cada módulo de nuestro framework tenga una convención de nombre\n",
    "- generadoress de código\n",
    "- modificar propiedades al construir la clase"
   ]
  },
  {
   "cell_type": "code",
   "execution_count": 54,
   "id": "7960e7d7",
   "metadata": {},
   "outputs": [],
   "source": [
    "class SpamMetaClass(type):\n",
    "    def __new__(mcs, name, bases, dictionary):\n",
    "        print (dictionary)\n",
    "        if 'get_blog' in dictionary:\n",
    "            print (\"correcto, estas implementando el método abstracto\")\n",
    "        else:\n",
    "            raise Exception(\"No está el método get_blog\")\n",
    "            \n",
    "        new_dict = {}\n",
    "        for k, v in dictionary.items():\n",
    "            new_dict[f'alfonso_{k}'] = v\n",
    "\n",
    "        return type.__new__(mcs, name, bases, new_dict)"
   ]
  },
  {
   "cell_type": "code",
   "execution_count": 59,
   "id": "15b9783d",
   "metadata": {},
   "outputs": [
    {
     "name": "stdout",
     "output_type": "stream",
     "text": [
      "{'__module__': '__main__', '__qualname__': 'Spam', 'variable': 5, 'get_blog': <function Spam.get_blog at 0x7f504048aa70>}\n",
      "correcto, estas implementando el método abstracto\n"
     ]
    }
   ],
   "source": [
    "class Spam(metaclass = SpamMetaClass):\n",
    "    variable = 5\n",
    "    \n",
    "    def get_blog(self):\n",
    "            pass"
   ]
  },
  {
   "cell_type": "code",
   "execution_count": 60,
   "id": "b82f480a",
   "metadata": {},
   "outputs": [],
   "source": [
    "s = Spam()"
   ]
  },
  {
   "cell_type": "code",
   "execution_count": 61,
   "id": "5a9c71d1",
   "metadata": {},
   "outputs": [
    {
     "ename": "AttributeError",
     "evalue": "'Spam' object has no attribute 'get_blog'",
     "output_type": "error",
     "traceback": [
      "\u001b[0;31m---------------------------------------------------------------------------\u001b[0m",
      "\u001b[0;31mAttributeError\u001b[0m                            Traceback (most recent call last)",
      "\u001b[0;32m<ipython-input-61-334291fe93d0>\u001b[0m in \u001b[0;36m<module>\u001b[0;34m\u001b[0m\n\u001b[0;32m----> 1\u001b[0;31m \u001b[0ms\u001b[0m\u001b[0;34m.\u001b[0m\u001b[0mget_blog\u001b[0m\u001b[0;34m(\u001b[0m\u001b[0;34m)\u001b[0m\u001b[0;34m\u001b[0m\u001b[0;34m\u001b[0m\u001b[0m\n\u001b[0m",
      "\u001b[0;31mAttributeError\u001b[0m: 'Spam' object has no attribute 'get_blog'"
     ]
    }
   ],
   "source": [
    "s.get_blog()"
   ]
  },
  {
   "cell_type": "code",
   "execution_count": 62,
   "id": "d807ebe4",
   "metadata": {},
   "outputs": [],
   "source": [
    "s.alfonso_get_blog()"
   ]
  },
  {
   "cell_type": "code",
   "execution_count": 63,
   "id": "d4812f17",
   "metadata": {},
   "outputs": [
    {
     "data": {
      "text/plain": [
       "5"
      ]
     },
     "execution_count": 63,
     "metadata": {},
     "output_type": "execute_result"
    }
   ],
   "source": [
    "s.alfonso_variable"
   ]
  },
  {
   "cell_type": "code",
   "execution_count": 64,
   "id": "990b6df9",
   "metadata": {},
   "outputs": [
    {
     "name": "stdout",
     "output_type": "stream",
     "text": [
      "Found Model: User\n",
      "Mapeo encontrado : id ==> <IntegerField:id>\n",
      "Mapeo encontrado : name ==> <StringField:username>\n",
      "Mapeo encontrado : email ==> <StringField:email>\n",
      "Mapeo encontrado : password ==> <StringField:password>\n",
      "id------<IntegerField:id>\n",
      "name------<StringField:username>\n",
      "email------<StringField:email>\n",
      "password------<StringField:password>\n",
      "SQL: insert into User (`id`,`name`,`email`,`password`) values (?,?,?,?)\n",
      "ARGS: [12345, 'Michael', 'test@orm.org', 'my-pwd']\n"
     ]
    }
   ],
   "source": [
    "class Field:\n",
    "    def __init__(self, name, column_type):\n",
    "        self.name = name\n",
    "        self.column_type = column_type\n",
    " \n",
    "    def __str__(self):\n",
    "        return '<%s:%s>' % (self.__class__.__name__, self.name)\n",
    " \n",
    " \n",
    "class StringField(Field):\n",
    "    def __init__(self, name):\n",
    "        super(StringField, self).__init__(name, 'varchar(100)')\n",
    " \n",
    " \n",
    "class IntegerField(Field):\n",
    "    def __init__(self, name):\n",
    "        super(IntegerField, self).__init__(name, 'bigint')\n",
    " \n",
    " \n",
    "class ModelMetaclass(type):\n",
    "    def __new__(mcs, name, bases, attrs):\n",
    "        if name == 'Model':\n",
    "            return type.__new__(mcs, name, bases, attrs)\n",
    "        print(\"Found Model: %s\" % name)\n",
    "        mapping = dict()\n",
    "        fields = list()\n",
    "        # Guarda el atributo en el map\n",
    "        for k, v in attrs.items():\n",
    "            if isinstance(v, Field):\n",
    "                print('Mapeo encontrado : %s ==> %s' % (k, v))\n",
    "                mapping[k] = v\n",
    "                fields.append(k)\n",
    "                 # Eliminar campo en modelo\n",
    "        for k in mapping.keys():\n",
    "            attrs.pop(k)\n",
    " \n",
    "        attrs['__fields__'] = list(map(lambda f: '`%s`' % f, fields))\n",
    "        attrs['__mapping__'] = mapping\n",
    "        attrs['__table__'] = name\n",
    "        return type.__new__(mcs, name, bases, attrs)\n",
    " \n",
    " \n",
    "class Model(dict, metaclass=ModelMetaclass):\n",
    "    def __init__(self, **kwargs):\n",
    "        super(Model, self).__init__(kwargs)\n",
    " \n",
    "    def __getattr__(self, key):\n",
    "        try:\n",
    "            return self[key]\n",
    "        except KeyError:\n",
    "            raise AttributeError(r\"'Model' object has no attribute '%s'\" % key)\n",
    " \n",
    "    def __setattr__(self, key, value):\n",
    "        self[key] = value\n",
    " \n",
    "    def save(self):\n",
    "        fields = []\n",
    "        params = []\n",
    "        args = []\n",
    " \n",
    "        for k, v in self.__mapping__.items():\n",
    "            print(\"%s------%s\" % (k, v))\n",
    "            fields.append(v.name)\n",
    "            params.append('?')\n",
    "            args.append(getattr(self, k, None))\n",
    " \n",
    "        sql = 'insert into %s (%s) values (%s)' % (self.__table__, ','.join(self.__fields__), ','.join(params))\n",
    "        print('SQL: %s' % sql)\n",
    "        print('ARGS: %s' % str(args))\n",
    " \n",
    " \n",
    "class User(Model):\n",
    "         # Defina el mapeo de atributos de clase a columnas:\n",
    "    id = IntegerField('id')\n",
    "    name = StringField('username')\n",
    "    email = StringField('email')\n",
    "    password = StringField('password')\n",
    " \n",
    " \n",
    "u = User(id=12345, name='Michael', email='test@orm.org', password='my-pwd')\n",
    "u.save()"
   ]
  },
  {
   "cell_type": "code",
   "execution_count": null,
   "id": "a3630949",
   "metadata": {},
   "outputs": [],
   "source": []
  },
  {
   "cell_type": "code",
   "execution_count": null,
   "id": "06880351",
   "metadata": {},
   "outputs": [],
   "source": []
  },
  {
   "cell_type": "code",
   "execution_count": null,
   "id": "75d49b34",
   "metadata": {},
   "outputs": [],
   "source": []
  },
  {
   "cell_type": "code",
   "execution_count": null,
   "id": "f95a3a8d",
   "metadata": {},
   "outputs": [],
   "source": []
  },
  {
   "cell_type": "code",
   "execution_count": null,
   "id": "89507633",
   "metadata": {},
   "outputs": [],
   "source": []
  }
 ],
 "metadata": {
  "kernelspec": {
   "display_name": "Python 3",
   "language": "python",
   "name": "python3"
  },
  "language_info": {
   "codemirror_mode": {
    "name": "ipython",
    "version": 3
   },
   "file_extension": ".py",
   "mimetype": "text/x-python",
   "name": "python",
   "nbconvert_exporter": "python",
   "pygments_lexer": "ipython3",
   "version": "3.7.11"
  }
 },
 "nbformat": 4,
 "nbformat_minor": 5
}
