{
 "cells": [
  {
   "cell_type": "markdown",
   "id": "2d72beea",
   "metadata": {},
   "source": [
    "### Decoradores"
   ]
  },
  {
   "cell_type": "code",
   "execution_count": 10,
   "id": "3348e19f",
   "metadata": {},
   "outputs": [],
   "source": [
    "## función de orden superior: recibe funciones como parametros, devuelve una función\n",
    "\n",
    "def funcion():\n",
    "    print (\"ejecutando la función\")\n",
    "    \n",
    "def decorador(f):\n",
    "    \n",
    "    print(\"voy a ejecutar la función\")\n",
    "    f()\n",
    "    print(\"he terminado de ejecutar la función\")\n",
    "    \n"
   ]
  },
  {
   "cell_type": "code",
   "execution_count": null,
   "id": "647d83ff",
   "metadata": {},
   "outputs": [],
   "source": []
  },
  {
   "cell_type": "code",
   "execution_count": 11,
   "id": "4d4820a4",
   "metadata": {},
   "outputs": [
    {
     "name": "stdout",
     "output_type": "stream",
     "text": [
      "voy a ejecutar la función\n",
      "ejecutando la función\n",
      "he terminado de ejecutar la función\n"
     ]
    }
   ],
   "source": [
    "decorador(funcion)"
   ]
  },
  {
   "cell_type": "code",
   "execution_count": 17,
   "id": "a7bf2d63",
   "metadata": {},
   "outputs": [],
   "source": [
    "def mi_decorador(f):\n",
    "    def dec():\n",
    "        print(\"voy a ejecutar la función\")\n",
    "        f()\n",
    "        print(\"he terminado de ejecutar la función\")\n",
    "    return dec\n",
    "\n",
    "@mi_decorador\n",
    "def hola():\n",
    "    print (\"hola mundo\")"
   ]
  },
  {
   "cell_type": "code",
   "execution_count": 18,
   "id": "7e4bc843",
   "metadata": {},
   "outputs": [
    {
     "name": "stdout",
     "output_type": "stream",
     "text": [
      "voy a ejecutar la función\n",
      "hola mundo\n",
      "he terminado de ejecutar la función\n"
     ]
    }
   ],
   "source": [
    "hola()"
   ]
  },
  {
   "cell_type": "code",
   "execution_count": 21,
   "id": "99e8ee75",
   "metadata": {},
   "outputs": [
    {
     "name": "stdout",
     "output_type": "stream",
     "text": [
      "voy a ejecutar la función\n",
      "hola mundo\n",
      "he terminado de ejecutar la función\n"
     ]
    },
    {
     "data": {
      "text/plain": [
       "<function __main__.mi_decorador.<locals>.dec()>"
      ]
     },
     "execution_count": 21,
     "metadata": {},
     "output_type": "execute_result"
    }
   ],
   "source": [
    "mi_decorador(hola())"
   ]
  },
  {
   "cell_type": "code",
   "execution_count": 22,
   "id": "0cdb2c3f",
   "metadata": {},
   "outputs": [],
   "source": [
    "def dos_veces(f):\n",
    "    def dec():\n",
    "        f()\n",
    "        f()\n",
    "    return dec"
   ]
  },
  {
   "cell_type": "code",
   "execution_count": 23,
   "id": "0172da76",
   "metadata": {},
   "outputs": [],
   "source": [
    "@dos_veces\n",
    "def hola():\n",
    "    print (\"hola mundo\")"
   ]
  },
  {
   "cell_type": "code",
   "execution_count": 24,
   "id": "89dce8b4",
   "metadata": {},
   "outputs": [
    {
     "name": "stdout",
     "output_type": "stream",
     "text": [
      "hola mundo\n",
      "hola mundo\n"
     ]
    }
   ],
   "source": [
    "hola()"
   ]
  },
  {
   "cell_type": "code",
   "execution_count": 25,
   "id": "2e7002e9",
   "metadata": {},
   "outputs": [],
   "source": [
    "@mi_decorador\n",
    "@dos_veces\n",
    "def hola():\n",
    "    print (\"hola mundo\")"
   ]
  },
  {
   "cell_type": "code",
   "execution_count": 26,
   "id": "9dc3fbeb",
   "metadata": {},
   "outputs": [
    {
     "name": "stdout",
     "output_type": "stream",
     "text": [
      "voy a ejecutar la función\n",
      "hola mundo\n",
      "hola mundo\n",
      "he terminado de ejecutar la función\n"
     ]
    }
   ],
   "source": [
    "hola()"
   ]
  },
  {
   "cell_type": "code",
   "execution_count": 27,
   "id": "f23d4d5c",
   "metadata": {},
   "outputs": [],
   "source": [
    "@dos_veces\n",
    "@mi_decorador\n",
    "def hola():\n",
    "    print (\"hola mundo\")"
   ]
  },
  {
   "cell_type": "code",
   "execution_count": 28,
   "id": "9539c5a3",
   "metadata": {},
   "outputs": [
    {
     "name": "stdout",
     "output_type": "stream",
     "text": [
      "voy a ejecutar la función\n",
      "hola mundo\n",
      "he terminado de ejecutar la función\n",
      "voy a ejecutar la función\n",
      "hola mundo\n",
      "he terminado de ejecutar la función\n"
     ]
    }
   ],
   "source": [
    "hola()"
   ]
  },
  {
   "cell_type": "code",
   "execution_count": 29,
   "id": "f6bbb538",
   "metadata": {},
   "outputs": [],
   "source": [
    "@dos_veces\n",
    "def hola(nombre):\n",
    "    print(f'Hola {nombre}')"
   ]
  },
  {
   "cell_type": "code",
   "execution_count": 30,
   "id": "dc32692b",
   "metadata": {},
   "outputs": [
    {
     "ename": "TypeError",
     "evalue": "dec() takes 0 positional arguments but 1 was given",
     "output_type": "error",
     "traceback": [
      "\u001b[0;31m---------------------------------------------------------------------------\u001b[0m",
      "\u001b[0;31mTypeError\u001b[0m                                 Traceback (most recent call last)",
      "\u001b[0;32m<ipython-input-30-cf8a989455e3>\u001b[0m in \u001b[0;36m<module>\u001b[0;34m\u001b[0m\n\u001b[0;32m----> 1\u001b[0;31m \u001b[0mhola\u001b[0m\u001b[0;34m(\u001b[0m\u001b[0;34m\"pepito\"\u001b[0m\u001b[0;34m)\u001b[0m\u001b[0;34m\u001b[0m\u001b[0;34m\u001b[0m\u001b[0m\n\u001b[0m",
      "\u001b[0;31mTypeError\u001b[0m: dec() takes 0 positional arguments but 1 was given"
     ]
    }
   ],
   "source": [
    "hola(\"pepito\")"
   ]
  },
  {
   "cell_type": "code",
   "execution_count": 31,
   "id": "9e1af380",
   "metadata": {},
   "outputs": [],
   "source": [
    "def dos_veces(f):\n",
    "    def dec(*args, **kwargs):\n",
    "        f(*args, **kwargs)\n",
    "        f(*args, **kwargs)\n",
    "    return dec"
   ]
  },
  {
   "cell_type": "code",
   "execution_count": 32,
   "id": "9421d9f1",
   "metadata": {},
   "outputs": [],
   "source": [
    "@dos_veces\n",
    "def hola(nombre):\n",
    "    print(f'Hola {nombre}')"
   ]
  },
  {
   "cell_type": "code",
   "execution_count": 33,
   "id": "38a1ce15",
   "metadata": {},
   "outputs": [
    {
     "name": "stdout",
     "output_type": "stream",
     "text": [
      "Hola pepito\n",
      "Hola pepito\n"
     ]
    }
   ],
   "source": [
    "hola(\"pepito\")"
   ]
  },
  {
   "cell_type": "code",
   "execution_count": 34,
   "id": "cffd28bc",
   "metadata": {},
   "outputs": [],
   "source": [
    "@dos_veces\n",
    "def hola(nombre):\n",
    "    return f'Hola {nombre}'"
   ]
  },
  {
   "cell_type": "code",
   "execution_count": 35,
   "id": "f4868e56",
   "metadata": {},
   "outputs": [],
   "source": [
    "hola(\"pepito\")"
   ]
  },
  {
   "cell_type": "code",
   "execution_count": 42,
   "id": "e048d56a",
   "metadata": {},
   "outputs": [],
   "source": [
    "def dos_veces(f):\n",
    "    def dec(*args, **kwargs):\n",
    "        \"\"\"\n",
    "        ayuda de dos veces        \n",
    "        \"\"\"\n",
    "        return [f(*args, **kwargs), f(*args, **kwargs)]\n",
    "    return dec"
   ]
  },
  {
   "cell_type": "code",
   "execution_count": null,
   "id": "2d96da32",
   "metadata": {},
   "outputs": [],
   "source": []
  },
  {
   "cell_type": "code",
   "execution_count": 43,
   "id": "787b6e16",
   "metadata": {},
   "outputs": [],
   "source": [
    "@dos_veces\n",
    "def hola(nombre):\n",
    "    \"\"\"\n",
    "    ayuda de hola\n",
    "    \"\"\"\n",
    "    return f'Hola {nombre}'"
   ]
  },
  {
   "cell_type": "code",
   "execution_count": 44,
   "id": "27e78a8b",
   "metadata": {},
   "outputs": [
    {
     "data": {
      "text/plain": [
       "['Hola pepito', 'Hola pepito']"
      ]
     },
     "execution_count": 44,
     "metadata": {},
     "output_type": "execute_result"
    }
   ],
   "source": [
    "hola(\"pepito\")"
   ]
  },
  {
   "cell_type": "code",
   "execution_count": 45,
   "id": "0bd8cd2a",
   "metadata": {},
   "outputs": [
    {
     "data": {
      "text/plain": [
       "'dec'"
      ]
     },
     "execution_count": 45,
     "metadata": {},
     "output_type": "execute_result"
    }
   ],
   "source": [
    "hola.__name__"
   ]
  },
  {
   "cell_type": "code",
   "execution_count": 46,
   "id": "8e441253",
   "metadata": {},
   "outputs": [
    {
     "name": "stdout",
     "output_type": "stream",
     "text": [
      "Help on function dec in module __main__:\n",
      "\n",
      "dec(*args, **kwargs)\n",
      "\n"
     ]
    }
   ],
   "source": [
    "help(hola)"
   ]
  },
  {
   "cell_type": "code",
   "execution_count": null,
   "id": "6e589ec5",
   "metadata": {},
   "outputs": [],
   "source": []
  },
  {
   "cell_type": "code",
   "execution_count": null,
   "id": "b88fe96f",
   "metadata": {},
   "outputs": [],
   "source": []
  },
  {
   "cell_type": "code",
   "execution_count": null,
   "id": "4a08b168",
   "metadata": {},
   "outputs": [],
   "source": []
  },
  {
   "cell_type": "code",
   "execution_count": null,
   "id": "a77d4671",
   "metadata": {},
   "outputs": [],
   "source": []
  },
  {
   "cell_type": "code",
   "execution_count": null,
   "id": "61b73c7f",
   "metadata": {},
   "outputs": [],
   "source": []
  },
  {
   "cell_type": "code",
   "execution_count": null,
   "id": "42fee79a",
   "metadata": {},
   "outputs": [],
   "source": []
  },
  {
   "cell_type": "code",
   "execution_count": 6,
   "id": "378ab3f0",
   "metadata": {},
   "outputs": [
    {
     "name": "stdout",
     "output_type": "stream",
     "text": [
      "hola mundo\n"
     ]
    }
   ],
   "source": [
    "hola()"
   ]
  },
  {
   "cell_type": "code",
   "execution_count": null,
   "id": "4d98e670",
   "metadata": {},
   "outputs": [],
   "source": []
  },
  {
   "cell_type": "code",
   "execution_count": null,
   "id": "96e90847",
   "metadata": {},
   "outputs": [],
   "source": []
  }
 ],
 "metadata": {
  "kernelspec": {
   "display_name": "Python 3",
   "language": "python",
   "name": "python3"
  },
  "language_info": {
   "codemirror_mode": {
    "name": "ipython",
    "version": 3
   },
   "file_extension": ".py",
   "mimetype": "text/x-python",
   "name": "python",
   "nbconvert_exporter": "python",
   "pygments_lexer": "ipython3",
   "version": "3.7.11"
  }
 },
 "nbformat": 4,
 "nbformat_minor": 5
}
