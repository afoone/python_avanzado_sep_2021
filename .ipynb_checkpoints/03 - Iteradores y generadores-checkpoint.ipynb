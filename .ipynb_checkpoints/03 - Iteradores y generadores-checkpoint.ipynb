{
 "cells": [
  {
   "cell_type": "code",
   "execution_count": 1,
   "id": "3eab0c8a",
   "metadata": {},
   "outputs": [
    {
     "name": "stdout",
     "output_type": "stream",
     "text": [
      "h\n",
      "o\n",
      "l\n",
      "a\n",
      " \n",
      "m\n",
      "u\n",
      "n\n",
      "d\n",
      "o\n"
     ]
    }
   ],
   "source": [
    "cadena = \"hola mundo\" # un iterable\n",
    "for caracter in cadena:\n",
    "    print(caracter)"
   ]
  },
  {
   "cell_type": "code",
   "execution_count": 2,
   "id": "740690f0",
   "metadata": {},
   "outputs": [
    {
     "name": "stdout",
     "output_type": "stream",
     "text": [
      "o\n",
      "d\n",
      "n\n",
      "u\n",
      "m\n",
      " \n",
      "a\n",
      "l\n",
      "o\n",
      "h\n"
     ]
    }
   ],
   "source": [
    "cadena = \"hola mundo\" # un iterable\n",
    "for caracter in cadena[::-1]:\n",
    "    print(caracter)"
   ]
  },
  {
   "cell_type": "code",
   "execution_count": 3,
   "id": "4ed0dad6",
   "metadata": {},
   "outputs": [
    {
     "name": "stdout",
     "output_type": "stream",
     "text": [
      "hola\n",
      "mundo\n"
     ]
    }
   ],
   "source": [
    "palabras = [\"hola\", \"mundo\"]\n",
    "for p in palabras:\n",
    "    print (p)"
   ]
  },
  {
   "cell_type": "code",
   "execution_count": 4,
   "id": "d8254d53",
   "metadata": {},
   "outputs": [
    {
     "name": "stdout",
     "output_type": "stream",
     "text": [
      "0 h\n",
      "1 o\n",
      "2 l\n",
      "3 a\n",
      "4  \n",
      "5 m\n",
      "6 u\n",
      "7 n\n",
      "8 d\n",
      "9 o\n"
     ]
    }
   ],
   "source": [
    "for i in range(len(cadena)):\n",
    "    print (i, cadena[i])"
   ]
  },
  {
   "cell_type": "code",
   "execution_count": 5,
   "id": "63623bc9",
   "metadata": {},
   "outputs": [
    {
     "name": "stdout",
     "output_type": "stream",
     "text": [
      "Lorca  :  Escritor\n",
      "Goya  :  Pintor\n"
     ]
    }
   ],
   "source": [
    "artistas = {\"Lorca\": \"Escritor\", \"Goya\": \"Pintor\"}\n",
    "for c, v in artistas.items():\n",
    "    print (c, \" : \", v)"
   ]
  },
  {
   "cell_type": "code",
   "execution_count": 6,
   "id": "80f22daf",
   "metadata": {},
   "outputs": [
    {
     "name": "stdout",
     "output_type": "stream",
     "text": [
      "1\n",
      "2\n",
      "3\n",
      "4\n",
      "5\n"
     ]
    }
   ],
   "source": [
    "# La funcion iter()\n",
    "\n",
    "lista = [1,2,3,4,5]\n",
    "\n",
    "indice = 0\n",
    "while indice < len(lista):\n",
    "    print(lista[indice])\n",
    "    indice += 1\n",
    "    "
   ]
  },
  {
   "cell_type": "code",
   "execution_count": 7,
   "id": "e37306dd",
   "metadata": {},
   "outputs": [
    {
     "data": {
      "text/plain": [
       "<list_iterator at 0x7f5f6039b550>"
      ]
     },
     "execution_count": 7,
     "metadata": {},
     "output_type": "execute_result"
    }
   ],
   "source": [
    "lista = [1,2,3,4,5]\n",
    "iterador = iter(lista)\n",
    "\n",
    "iterador"
   ]
  },
  {
   "cell_type": "code",
   "execution_count": 8,
   "id": "fabbded3",
   "metadata": {},
   "outputs": [
    {
     "data": {
      "text/plain": [
       "[1, 2, 3, 4, 5]"
      ]
     },
     "execution_count": 8,
     "metadata": {},
     "output_type": "execute_result"
    }
   ],
   "source": [
    "lista"
   ]
  },
  {
   "cell_type": "code",
   "execution_count": 9,
   "id": "056b3038",
   "metadata": {},
   "outputs": [
    {
     "data": {
      "text/plain": [
       "1"
      ]
     },
     "execution_count": 9,
     "metadata": {},
     "output_type": "execute_result"
    }
   ],
   "source": [
    "iterador.__next__()"
   ]
  },
  {
   "cell_type": "code",
   "execution_count": 10,
   "id": "06162f0c",
   "metadata": {},
   "outputs": [
    {
     "data": {
      "text/plain": [
       "2"
      ]
     },
     "execution_count": 10,
     "metadata": {},
     "output_type": "execute_result"
    }
   ],
   "source": [
    "iterador.__next__()"
   ]
  },
  {
   "cell_type": "code",
   "execution_count": 11,
   "id": "e2680f55",
   "metadata": {},
   "outputs": [
    {
     "data": {
      "text/plain": [
       "3"
      ]
     },
     "execution_count": 11,
     "metadata": {},
     "output_type": "execute_result"
    }
   ],
   "source": [
    "iterador.__next__()"
   ]
  },
  {
   "cell_type": "code",
   "execution_count": 12,
   "id": "765613ba",
   "metadata": {},
   "outputs": [
    {
     "data": {
      "text/plain": [
       "4"
      ]
     },
     "execution_count": 12,
     "metadata": {},
     "output_type": "execute_result"
    }
   ],
   "source": [
    "iterador.__next__()\n"
   ]
  },
  {
   "cell_type": "code",
   "execution_count": 13,
   "id": "b54274ae",
   "metadata": {},
   "outputs": [
    {
     "data": {
      "text/plain": [
       "5"
      ]
     },
     "execution_count": 13,
     "metadata": {},
     "output_type": "execute_result"
    }
   ],
   "source": [
    "iterador.__next__()"
   ]
  },
  {
   "cell_type": "code",
   "execution_count": 14,
   "id": "adab1108",
   "metadata": {},
   "outputs": [
    {
     "ename": "StopIteration",
     "evalue": "",
     "output_type": "error",
     "traceback": [
      "\u001b[0;31m---------------------------------------------------------------------------\u001b[0m",
      "\u001b[0;31mStopIteration\u001b[0m                             Traceback (most recent call last)",
      "\u001b[0;32m<ipython-input-14-6df1ef0bba1f>\u001b[0m in \u001b[0;36m<module>\u001b[0;34m\u001b[0m\n\u001b[0;32m----> 1\u001b[0;31m \u001b[0miterador\u001b[0m\u001b[0;34m.\u001b[0m\u001b[0m__next__\u001b[0m\u001b[0;34m(\u001b[0m\u001b[0;34m)\u001b[0m\u001b[0;34m\u001b[0m\u001b[0;34m\u001b[0m\u001b[0m\n\u001b[0m",
      "\u001b[0;31mStopIteration\u001b[0m: "
     ]
    }
   ],
   "source": [
    "iterador.__next__()"
   ]
  },
  {
   "cell_type": "code",
   "execution_count": 24,
   "id": "663d419b",
   "metadata": {},
   "outputs": [],
   "source": [
    "# para crear un iterador propio debermos implementar los métodos de clase __iter__ y __next__\n",
    "\n",
    "class Invertir:\n",
    "    def __init__(self, cadena):\n",
    "        self.cadena = cadena\n",
    "        self.puntero = len(cadena)\n",
    "    \n",
    "    def __iter__(self):\n",
    "        return (self)\n",
    "    \n",
    "    def __next__(self):\n",
    "        if self.puntero == 0:\n",
    "            raise (StopIteration)\n",
    "        self.puntero -= 1\n",
    "        return self.cadena[self.puntero]"
   ]
  },
  {
   "cell_type": "code",
   "execution_count": 17,
   "id": "59d420be",
   "metadata": {},
   "outputs": [],
   "source": [
    "inverted = Invertir(\"Hola mundo\")"
   ]
  },
  {
   "cell_type": "code",
   "execution_count": 19,
   "id": "3500983e",
   "metadata": {},
   "outputs": [
    {
     "data": {
      "text/plain": [
       "'o'"
      ]
     },
     "execution_count": 19,
     "metadata": {},
     "output_type": "execute_result"
    }
   ],
   "source": [
    "inverted.__next__()"
   ]
  },
  {
   "cell_type": "code",
   "execution_count": 20,
   "id": "bc8a5473",
   "metadata": {},
   "outputs": [
    {
     "data": {
      "text/plain": [
       "'d'"
      ]
     },
     "execution_count": 20,
     "metadata": {},
     "output_type": "execute_result"
    }
   ],
   "source": [
    "inverted.__next__()"
   ]
  },
  {
   "cell_type": "code",
   "execution_count": 23,
   "id": "93885548",
   "metadata": {},
   "outputs": [
    {
     "ename": "IndexError",
     "evalue": "string index out of range",
     "output_type": "error",
     "traceback": [
      "\u001b[0;31m---------------------------------------------------------------------------\u001b[0m",
      "\u001b[0;31mIndexError\u001b[0m                                Traceback (most recent call last)",
      "\u001b[0;32m<ipython-input-23-7ae33daa210f>\u001b[0m in \u001b[0;36m<module>\u001b[0;34m\u001b[0m\n\u001b[1;32m      3\u001b[0m \u001b[0minverted\u001b[0m\u001b[0;34m.\u001b[0m\u001b[0m__next__\u001b[0m\u001b[0;34m(\u001b[0m\u001b[0;34m)\u001b[0m\u001b[0;34m\u001b[0m\u001b[0;34m\u001b[0m\u001b[0m\n\u001b[1;32m      4\u001b[0m \u001b[0minverted\u001b[0m\u001b[0;34m.\u001b[0m\u001b[0m__next__\u001b[0m\u001b[0;34m(\u001b[0m\u001b[0;34m)\u001b[0m\u001b[0;34m\u001b[0m\u001b[0;34m\u001b[0m\u001b[0m\n\u001b[0;32m----> 5\u001b[0;31m \u001b[0minverted\u001b[0m\u001b[0;34m.\u001b[0m\u001b[0m__next__\u001b[0m\u001b[0;34m(\u001b[0m\u001b[0;34m)\u001b[0m\u001b[0;34m\u001b[0m\u001b[0;34m\u001b[0m\u001b[0m\n\u001b[0m\u001b[1;32m      6\u001b[0m \u001b[0minverted\u001b[0m\u001b[0;34m.\u001b[0m\u001b[0m__next__\u001b[0m\u001b[0;34m(\u001b[0m\u001b[0;34m)\u001b[0m\u001b[0;34m\u001b[0m\u001b[0;34m\u001b[0m\u001b[0m\n\u001b[1;32m      7\u001b[0m \u001b[0minverted\u001b[0m\u001b[0;34m.\u001b[0m\u001b[0m__next__\u001b[0m\u001b[0;34m(\u001b[0m\u001b[0;34m)\u001b[0m\u001b[0;34m\u001b[0m\u001b[0;34m\u001b[0m\u001b[0m\n",
      "\u001b[0;32m<ipython-input-16-37c0997b4da7>\u001b[0m in \u001b[0;36m__next__\u001b[0;34m(self)\u001b[0m\n\u001b[1;32m     11\u001b[0m     \u001b[0;32mdef\u001b[0m \u001b[0m__next__\u001b[0m\u001b[0;34m(\u001b[0m\u001b[0mself\u001b[0m\u001b[0;34m)\u001b[0m\u001b[0;34m:\u001b[0m\u001b[0;34m\u001b[0m\u001b[0;34m\u001b[0m\u001b[0m\n\u001b[1;32m     12\u001b[0m         \u001b[0mself\u001b[0m\u001b[0;34m.\u001b[0m\u001b[0mpuntero\u001b[0m \u001b[0;34m-=\u001b[0m \u001b[0;36m1\u001b[0m\u001b[0;34m\u001b[0m\u001b[0;34m\u001b[0m\u001b[0m\n\u001b[0;32m---> 13\u001b[0;31m         \u001b[0;32mreturn\u001b[0m \u001b[0mself\u001b[0m\u001b[0;34m.\u001b[0m\u001b[0mcadena\u001b[0m\u001b[0;34m[\u001b[0m\u001b[0mself\u001b[0m\u001b[0;34m.\u001b[0m\u001b[0mpuntero\u001b[0m\u001b[0;34m]\u001b[0m\u001b[0;34m\u001b[0m\u001b[0;34m\u001b[0m\u001b[0m\n\u001b[0m\u001b[1;32m     14\u001b[0m \u001b[0;34m\u001b[0m\u001b[0m\n",
      "\u001b[0;31mIndexError\u001b[0m: string index out of range"
     ]
    }
   ],
   "source": [
    "inverted.__next__()\n",
    "inverted.__next__()\n",
    "inverted.__next__()\n",
    "inverted.__next__()\n",
    "inverted.__next__()\n",
    "inverted.__next__()\n",
    "inverted.__next__()"
   ]
  },
  {
   "cell_type": "code",
   "execution_count": 2,
   "id": "d2550b44",
   "metadata": {},
   "outputs": [],
   "source": [
    "class NumerosDelUnoAlDiez:\n",
    "    def __init__(self):\n",
    "        self.puntero = 0\n",
    "    \n",
    "    def __iter__(self):\n",
    "        return (self)\n",
    "    \n",
    "    def __next__(self):\n",
    "        if self.puntero == 10:\n",
    "            raise (StopIteration)\n",
    "        self.puntero +=1\n",
    "        return self.puntero"
   ]
  },
  {
   "cell_type": "code",
   "execution_count": 8,
   "id": "b8cf77f0",
   "metadata": {},
   "outputs": [],
   "source": [
    "del_uno_diez = NumerosDelUnoAlDiez()"
   ]
  },
  {
   "cell_type": "code",
   "execution_count": 9,
   "id": "4271146d",
   "metadata": {},
   "outputs": [
    {
     "data": {
      "text/plain": [
       "1"
      ]
     },
     "execution_count": 9,
     "metadata": {},
     "output_type": "execute_result"
    }
   ],
   "source": [
    "del_uno_diez.__next__()"
   ]
  },
  {
   "cell_type": "code",
   "execution_count": 14,
   "id": "9f950802",
   "metadata": {},
   "outputs": [
    {
     "data": {
      "text/plain": [
       "4"
      ]
     },
     "execution_count": 14,
     "metadata": {},
     "output_type": "execute_result"
    }
   ],
   "source": [
    "del_uno_diez.__next__() # dunder"
   ]
  },
  {
   "cell_type": "code",
   "execution_count": 11,
   "id": "dc14dfba",
   "metadata": {},
   "outputs": [
    {
     "name": "stdout",
     "output_type": "stream",
     "text": [
      "1\n",
      "2\n",
      "3\n",
      "4\n",
      "5\n",
      "6\n",
      "7\n",
      "8\n",
      "9\n",
      "10\n"
     ]
    }
   ],
   "source": [
    "for i in NumerosDelUnoAlDiez():\n",
    "    print (i)"
   ]
  },
  {
   "cell_type": "code",
   "execution_count": 15,
   "id": "d82ba006",
   "metadata": {},
   "outputs": [
    {
     "data": {
      "text/plain": [
       "5"
      ]
     },
     "execution_count": 15,
     "metadata": {},
     "output_type": "execute_result"
    }
   ],
   "source": [
    "next(del_uno_diez)"
   ]
  },
  {
   "cell_type": "code",
   "execution_count": 16,
   "id": "93961a76",
   "metadata": {},
   "outputs": [
    {
     "data": {
      "text/plain": [
       "2"
      ]
     },
     "execution_count": 16,
     "metadata": {},
     "output_type": "execute_result"
    }
   ],
   "source": [
    "len([1,3])"
   ]
  },
  {
   "cell_type": "code",
   "execution_count": 17,
   "id": "90f49d8c",
   "metadata": {},
   "outputs": [],
   "source": [
    "# __len__\n"
   ]
  },
  {
   "cell_type": "code",
   "execution_count": 18,
   "id": "667981c4",
   "metadata": {},
   "outputs": [
    {
     "data": {
      "text/plain": [
       "6"
      ]
     },
     "execution_count": 18,
     "metadata": {},
     "output_type": "execute_result"
    }
   ],
   "source": [
    "next(del_uno_diez)"
   ]
  },
  {
   "cell_type": "code",
   "execution_count": 19,
   "id": "662a228e",
   "metadata": {},
   "outputs": [
    {
     "name": "stdout",
     "output_type": "stream",
     "text": [
      "1\n",
      "2\n",
      "3\n",
      "4\n",
      "5\n",
      "6\n",
      "7\n",
      "8\n",
      "9\n",
      "10\n"
     ]
    }
   ],
   "source": [
    "# range\n",
    "\n",
    "for elemento in range(1,11):\n",
    "    print(elemento)"
   ]
  },
  {
   "cell_type": "code",
   "execution_count": 20,
   "id": "d4a771b1",
   "metadata": {},
   "outputs": [
    {
     "name": "stdout",
     "output_type": "stream",
     "text": [
      "10\n",
      "9\n",
      "8\n",
      "7\n",
      "6\n",
      "5\n",
      "4\n",
      "3\n",
      "2\n",
      "1\n"
     ]
    }
   ],
   "source": [
    "for elemento in range(10, 0, -1):\n",
    "    print (elemento)"
   ]
  },
  {
   "cell_type": "code",
   "execution_count": 21,
   "id": "f4652621",
   "metadata": {},
   "outputs": [],
   "source": [
    "r = range(10)"
   ]
  },
  {
   "cell_type": "code",
   "execution_count": 22,
   "id": "93031c28",
   "metadata": {},
   "outputs": [
    {
     "data": {
      "text/plain": [
       "range(0, 10)"
      ]
     },
     "execution_count": 22,
     "metadata": {},
     "output_type": "execute_result"
    }
   ],
   "source": [
    "r"
   ]
  },
  {
   "cell_type": "markdown",
   "id": "68016beb",
   "metadata": {},
   "source": [
    "# Generadores\n",
    "\n",
    "Simplificación de la creación de un iterador. "
   ]
  },
  {
   "cell_type": "code",
   "execution_count": 27,
   "id": "be05e1da",
   "metadata": {},
   "outputs": [],
   "source": [
    "def contador(max):\n",
    "    n = 1\n",
    "    while n <= max:\n",
    "        yield n # se para aquí\n",
    "        n += 1\n"
   ]
  },
  {
   "cell_type": "code",
   "execution_count": 28,
   "id": "f89a0aec",
   "metadata": {},
   "outputs": [],
   "source": [
    "mi_contador = contador(5)"
   ]
  },
  {
   "cell_type": "code",
   "execution_count": 29,
   "id": "45dccf58",
   "metadata": {},
   "outputs": [
    {
     "name": "stdout",
     "output_type": "stream",
     "text": [
      "1\n",
      "2\n",
      "3\n",
      "4\n",
      "5\n"
     ]
    }
   ],
   "source": [
    "for i in mi_contador:\n",
    "    print(i)"
   ]
  },
  {
   "cell_type": "code",
   "execution_count": 30,
   "id": "6ac0421d",
   "metadata": {},
   "outputs": [
    {
     "data": {
      "text/plain": [
       "<generator object contador at 0x7fa3882620d0>"
      ]
     },
     "execution_count": 30,
     "metadata": {},
     "output_type": "execute_result"
    }
   ],
   "source": [
    "mi_contador"
   ]
  },
  {
   "cell_type": "code",
   "execution_count": 32,
   "id": "a68ad207",
   "metadata": {},
   "outputs": [
    {
     "data": {
      "text/plain": [
       "1"
      ]
     },
     "execution_count": 32,
     "metadata": {},
     "output_type": "execute_result"
    }
   ],
   "source": [
    "mi_contador = contador(5)\n",
    "next(mi_contador)"
   ]
  },
  {
   "cell_type": "code",
   "execution_count": 33,
   "id": "bb50dcf9",
   "metadata": {},
   "outputs": [
    {
     "data": {
      "text/plain": [
       "2"
      ]
     },
     "execution_count": 33,
     "metadata": {},
     "output_type": "execute_result"
    }
   ],
   "source": [
    "next(mi_contador)"
   ]
  },
  {
   "cell_type": "code",
   "execution_count": 34,
   "id": "2375fa8b",
   "metadata": {},
   "outputs": [
    {
     "ename": "StopIteration",
     "evalue": "",
     "output_type": "error",
     "traceback": [
      "\u001b[0;31m---------------------------------------------------------------------------\u001b[0m",
      "\u001b[0;31mStopIteration\u001b[0m                             Traceback (most recent call last)",
      "\u001b[0;32m<ipython-input-34-d2bd861d0724>\u001b[0m in \u001b[0;36m<module>\u001b[0;34m\u001b[0m\n\u001b[1;32m      2\u001b[0m \u001b[0mnext\u001b[0m\u001b[0;34m(\u001b[0m\u001b[0mmi_contador\u001b[0m\u001b[0;34m)\u001b[0m\u001b[0;34m\u001b[0m\u001b[0;34m\u001b[0m\u001b[0m\n\u001b[1;32m      3\u001b[0m \u001b[0mnext\u001b[0m\u001b[0;34m(\u001b[0m\u001b[0mmi_contador\u001b[0m\u001b[0;34m)\u001b[0m\u001b[0;34m\u001b[0m\u001b[0;34m\u001b[0m\u001b[0m\n\u001b[0;32m----> 4\u001b[0;31m \u001b[0mnext\u001b[0m\u001b[0;34m(\u001b[0m\u001b[0mmi_contador\u001b[0m\u001b[0;34m)\u001b[0m\u001b[0;34m\u001b[0m\u001b[0;34m\u001b[0m\u001b[0m\n\u001b[0m",
      "\u001b[0;31mStopIteration\u001b[0m: "
     ]
    }
   ],
   "source": [
    "next(mi_contador)\n",
    "next(mi_contador)\n",
    "next(mi_contador)\n",
    "next(mi_contador)"
   ]
  },
  {
   "cell_type": "code",
   "execution_count": 35,
   "id": "795832f0",
   "metadata": {},
   "outputs": [],
   "source": [
    "def contador(max):\n",
    "    print(\"cebando el contador\")\n",
    "    n = 1\n",
    "    print (f'a n le doy el valor{n}')\n",
    "    while n <= max:\n",
    "        print(\"en while\")\n",
    "        yield n # se para aquí\n",
    "        print(\"pasando el yield\")\n",
    "        n += 1"
   ]
  },
  {
   "cell_type": "code",
   "execution_count": 36,
   "id": "4829047f",
   "metadata": {},
   "outputs": [],
   "source": [
    "c = contador (5)"
   ]
  },
  {
   "cell_type": "code",
   "execution_count": 37,
   "id": "6d2e934d",
   "metadata": {},
   "outputs": [
    {
     "name": "stdout",
     "output_type": "stream",
     "text": [
      "cebando el contador\n",
      "a n le doy el valor1\n",
      "en while\n"
     ]
    },
    {
     "data": {
      "text/plain": [
       "1"
      ]
     },
     "execution_count": 37,
     "metadata": {},
     "output_type": "execute_result"
    }
   ],
   "source": [
    "next(c)"
   ]
  },
  {
   "cell_type": "code",
   "execution_count": 38,
   "id": "adf4305b",
   "metadata": {},
   "outputs": [
    {
     "name": "stdout",
     "output_type": "stream",
     "text": [
      "pasando el yield\n",
      "en while\n"
     ]
    },
    {
     "data": {
      "text/plain": [
       "2"
      ]
     },
     "execution_count": 38,
     "metadata": {},
     "output_type": "execute_result"
    }
   ],
   "source": [
    "next(c)"
   ]
  },
  {
   "cell_type": "code",
   "execution_count": 39,
   "id": "b7f66502",
   "metadata": {},
   "outputs": [
    {
     "name": "stdout",
     "output_type": "stream",
     "text": [
      "pasando el yield\n",
      "en while\n"
     ]
    },
    {
     "data": {
      "text/plain": [
       "3"
      ]
     },
     "execution_count": 39,
     "metadata": {},
     "output_type": "execute_result"
    }
   ],
   "source": [
    "next(c)"
   ]
  },
  {
   "cell_type": "code",
   "execution_count": 40,
   "id": "e905cd07",
   "metadata": {},
   "outputs": [
    {
     "name": "stdout",
     "output_type": "stream",
     "text": [
      "cebando el contador\n",
      "a n le doy el valor1\n",
      "en while\n",
      "1\n",
      "pasando el yield\n",
      "en while\n",
      "2\n",
      "pasando el yield\n",
      "en while\n",
      "3\n",
      "pasando el yield\n",
      "en while\n",
      "4\n",
      "pasando el yield\n",
      "en while\n",
      "5\n",
      "pasando el yield\n"
     ]
    }
   ],
   "source": [
    "for i in contador(5):\n",
    "    print(i)"
   ]
  },
  {
   "cell_type": "markdown",
   "id": "4ee08cac",
   "metadata": {},
   "source": [
    "# yield vs return \n",
    "\n"
   ]
  },
  {
   "cell_type": "code",
   "execution_count": 41,
   "id": "0ac21c8b",
   "metadata": {},
   "outputs": [],
   "source": [
    "def testGen():\n",
    "    yield 3\n",
    "    yield 6\n",
    "    yield 9\n",
    "    "
   ]
  },
  {
   "cell_type": "code",
   "execution_count": 42,
   "id": "1b2ca3bc",
   "metadata": {},
   "outputs": [
    {
     "data": {
      "text/plain": [
       "3"
      ]
     },
     "execution_count": 42,
     "metadata": {},
     "output_type": "execute_result"
    }
   ],
   "source": [
    "tg = testGen()\n",
    "\n",
    "next(tg)"
   ]
  },
  {
   "cell_type": "code",
   "execution_count": 43,
   "id": "8c9f161b",
   "metadata": {},
   "outputs": [
    {
     "data": {
      "text/plain": [
       "6"
      ]
     },
     "execution_count": 43,
     "metadata": {},
     "output_type": "execute_result"
    }
   ],
   "source": [
    "next(tg)"
   ]
  },
  {
   "cell_type": "code",
   "execution_count": 45,
   "id": "1f99df1f",
   "metadata": {},
   "outputs": [
    {
     "data": {
      "text/plain": [
       "9"
      ]
     },
     "execution_count": 45,
     "metadata": {},
     "output_type": "execute_result"
    }
   ],
   "source": [
    "next(tg)"
   ]
  },
  {
   "cell_type": "code",
   "execution_count": 46,
   "id": "267fdc46",
   "metadata": {},
   "outputs": [
    {
     "ename": "StopIteration",
     "evalue": "",
     "output_type": "error",
     "traceback": [
      "\u001b[0;31m---------------------------------------------------------------------------\u001b[0m",
      "\u001b[0;31mStopIteration\u001b[0m                             Traceback (most recent call last)",
      "\u001b[0;32m<ipython-input-46-9ea42518e9e4>\u001b[0m in \u001b[0;36m<module>\u001b[0;34m\u001b[0m\n\u001b[0;32m----> 1\u001b[0;31m \u001b[0mnext\u001b[0m\u001b[0;34m(\u001b[0m\u001b[0mtg\u001b[0m\u001b[0;34m)\u001b[0m\u001b[0;34m\u001b[0m\u001b[0;34m\u001b[0m\u001b[0m\n\u001b[0m",
      "\u001b[0;31mStopIteration\u001b[0m: "
     ]
    }
   ],
   "source": [
    "next(tg)"
   ]
  },
  {
   "cell_type": "code",
   "execution_count": 48,
   "id": "4ee22a24",
   "metadata": {},
   "outputs": [
    {
     "data": {
      "text/plain": [
       "[0, 1, 2, 3, 4, 5, 6, 7, 8, 9]"
      ]
     },
     "execution_count": 48,
     "metadata": {},
     "output_type": "execute_result"
    }
   ],
   "source": [
    "[x for x in range(10)]"
   ]
  },
  {
   "cell_type": "code",
   "execution_count": 49,
   "id": "bdbe70a7",
   "metadata": {},
   "outputs": [],
   "source": [
    "g = (x*x for x in range(10))"
   ]
  },
  {
   "cell_type": "code",
   "execution_count": 50,
   "id": "5d802dc1",
   "metadata": {},
   "outputs": [
    {
     "name": "stdout",
     "output_type": "stream",
     "text": [
      "0\n",
      "1\n",
      "4\n",
      "9\n",
      "16\n",
      "25\n",
      "36\n",
      "49\n",
      "64\n",
      "81\n"
     ]
    }
   ],
   "source": [
    "for i in g:\n",
    "    print(i)"
   ]
  },
  {
   "cell_type": "code",
   "execution_count": 52,
   "id": "bfa28861",
   "metadata": {},
   "outputs": [
    {
     "name": "stdout",
     "output_type": "stream",
     "text": [
      "285\n"
     ]
    }
   ],
   "source": [
    "g = (x*x for x in range(10))\n",
    "print(sum(g))"
   ]
  },
  {
   "cell_type": "code",
   "execution_count": 57,
   "id": "7569c754",
   "metadata": {},
   "outputs": [],
   "source": [
    "# generator pipeline\n",
    "\n",
    "def cuadrados():\n",
    "    for i in range(10):\n",
    "        yield i*i\n"
   ]
  },
  {
   "cell_type": "code",
   "execution_count": 59,
   "id": "9da5c4d9",
   "metadata": {},
   "outputs": [
    {
     "name": "stdout",
     "output_type": "stream",
     "text": [
      "0\n",
      "1\n",
      "4\n",
      "9\n",
      "16\n",
      "25\n",
      "36\n",
      "49\n",
      "64\n",
      "81\n"
     ]
    }
   ],
   "source": [
    "for i in cuadrados():\n",
    "    print(i)"
   ]
  },
  {
   "cell_type": "code",
   "execution_count": 60,
   "id": "26188043",
   "metadata": {},
   "outputs": [],
   "source": [
    "def impares(seq):\n",
    "    for num in seq:\n",
    "        if num % 2 == 1:\n",
    "            yield num"
   ]
  },
  {
   "cell_type": "code",
   "execution_count": 61,
   "id": "5bd76775",
   "metadata": {},
   "outputs": [
    {
     "name": "stdout",
     "output_type": "stream",
     "text": [
      "3\n",
      "5\n"
     ]
    }
   ],
   "source": [
    "for i in impares([2,3,4,5]):\n",
    "    print(i)"
   ]
  },
  {
   "cell_type": "code",
   "execution_count": 62,
   "id": "a83571d1",
   "metadata": {},
   "outputs": [],
   "source": [
    "cuadrados_impares = impares(cuadrados())"
   ]
  },
  {
   "cell_type": "code",
   "execution_count": 64,
   "id": "86ae46cd",
   "metadata": {},
   "outputs": [
    {
     "name": "stdout",
     "output_type": "stream",
     "text": [
      "1\n",
      "9\n",
      "25\n",
      "49\n",
      "81\n"
     ]
    }
   ],
   "source": [
    "for i in cuadrados_impares:\n",
    "    print(i)"
   ]
  },
  {
   "cell_type": "code",
   "execution_count": 66,
   "id": "126d4dbb",
   "metadata": {},
   "outputs": [],
   "source": [
    "# iter\n",
    "i =iter([0,2,3])\n"
   ]
  },
  {
   "cell_type": "code",
   "execution_count": 70,
   "id": "5cd922f6",
   "metadata": {},
   "outputs": [
    {
     "ename": "StopIteration",
     "evalue": "",
     "output_type": "error",
     "traceback": [
      "\u001b[0;31m---------------------------------------------------------------------------\u001b[0m",
      "\u001b[0;31mStopIteration\u001b[0m                             Traceback (most recent call last)",
      "\u001b[0;32m<ipython-input-70-a883b34d6d8a>\u001b[0m in \u001b[0;36m<module>\u001b[0;34m\u001b[0m\n\u001b[0;32m----> 1\u001b[0;31m \u001b[0mnext\u001b[0m\u001b[0;34m(\u001b[0m\u001b[0mi\u001b[0m\u001b[0;34m)\u001b[0m\u001b[0;34m\u001b[0m\u001b[0;34m\u001b[0m\u001b[0m\n\u001b[0m",
      "\u001b[0;31mStopIteration\u001b[0m: "
     ]
    }
   ],
   "source": [
    "next(i)"
   ]
  },
  {
   "cell_type": "code",
   "execution_count": 71,
   "id": "85efd19c",
   "metadata": {},
   "outputs": [],
   "source": [
    "# yield from"
   ]
  },
  {
   "cell_type": "code",
   "execution_count": 79,
   "id": "91142871",
   "metadata": {},
   "outputs": [],
   "source": [
    "def mi_gen(n): \n",
    "    yield from range(n)\n",
    "    yield n"
   ]
  },
  {
   "cell_type": "code",
   "execution_count": 80,
   "id": "8f73b90c",
   "metadata": {},
   "outputs": [],
   "source": [
    "g =   mi_gen(10)"
   ]
  },
  {
   "cell_type": "code",
   "execution_count": 81,
   "id": "c0645b12",
   "metadata": {},
   "outputs": [
    {
     "name": "stdout",
     "output_type": "stream",
     "text": [
      "0\n",
      "1\n",
      "2\n",
      "3\n",
      "4\n",
      "5\n",
      "6\n",
      "7\n",
      "8\n",
      "9\n",
      "10\n"
     ]
    }
   ],
   "source": [
    "for i in g:\n",
    "    print(i)"
   ]
  }
 ],
 "metadata": {
  "kernelspec": {
   "display_name": "Python 3",
   "language": "python",
   "name": "python3"
  },
  "language_info": {
   "codemirror_mode": {
    "name": "ipython",
    "version": 3
   },
   "file_extension": ".py",
   "mimetype": "text/x-python",
   "name": "python",
   "nbconvert_exporter": "python",
   "pygments_lexer": "ipython3",
   "version": "3.7.11"
  }
 },
 "nbformat": 4,
 "nbformat_minor": 5
}
